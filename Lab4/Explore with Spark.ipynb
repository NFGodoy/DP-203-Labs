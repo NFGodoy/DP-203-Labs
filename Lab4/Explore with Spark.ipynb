{
  "cells": [
    {
      "cell_type": "markdown",
      "source": [
        "# Exploring and fixing data with Synapse Spark\r\n",
        "\r\n",
        "In this task, you will use a Synapse Spark notebook to explore a few of the files in the **wwi-02/sale-poc** folder in the data lake. You will also use Python code to fix the issues with the **sale-20170502.csv** file.\r\n",
        "\r\n",
        "1. First, attach this notebook to the **SparkPool01** Spark pool.\r\n",
        "2. In the code cell below, replace **asadatalake*SUFFIX*** `with the name of the primary data lake storage account associated with your Syanpse workspace. Then execute the cell by selecting the **Run cell** button that becomes visible when you select the cell.\r\n",
        "\r\n",
        "> **Note**: The cell may take some time to run because the spark cluster must be started."
      ],
      "metadata": {}
    },
    {
      "cell_type": "code",
      "source": [
        "adls_account_name = 'asadatalakeic6nl8d'"
      ],
      "outputs": [
        {
          "output_type": "display_data",
          "data": {
            "application/vnd.livy.statement-meta+json": {
              "spark_pool": "SparkPool01",
              "session_id": 3,
              "statement_id": 1,
              "state": "finished",
              "livy_statement_state": "available",
              "queued_time": "2022-07-23T03:45:05.5472621Z",
              "session_start_time": "2022-07-23T03:45:05.5876613Z",
              "execution_start_time": "2022-07-23T03:47:44.0895914Z",
              "execution_finish_time": "2022-07-23T03:47:44.2391766Z"
            },
            "text/plain": "StatementMeta(SparkPool01, 3, 1, Finished, Available)"
          },
          "metadata": {}
        }
      ],
      "execution_count": 1,
      "metadata": {}
    },
    {
      "cell_type": "markdown",
      "source": [
        "## Exploring files with Spark\r\n",
        "\r\n",
        "1. The first step in exploring data using Synapse Spark is to load a file from the data lake. For this, we'll use the **spark.read.load()** method of the **SparkSession** to load the **sale-20170501.csv** file into a [DataFrame](https://spark.apache.org/docs/2.2.0/sql-programming-guide.html#datasets-and-dataframes).\r\n"
      ],
      "metadata": {}
    },
    {
      "cell_type": "code",
      "source": [
        "# First, load the file `sale-20170501.csv` file, which we know from our previous exploration to be formatted correctly.\r\n",
        "# Note the use of the `header` and `inferSchema` parameters. Header indicates the first row of the file contains column headers,\r\n",
        "# and `inferSchema` instruct Spark to use data within the file to infer data types.\r\n",
        "df = spark.read.load(f'abfss://wwi-02@{adls_account_name}.dfs.core.windows.net/sale-poc/sale-20170501.csv', format='csv', header=True, inferSchema=True)"
      ],
      "outputs": [
        {
          "output_type": "display_data",
          "data": {
            "application/vnd.livy.statement-meta+json": {
              "spark_pool": "SparkPool01",
              "session_id": 3,
              "statement_id": 2,
              "state": "finished",
              "livy_statement_state": "available",
              "queued_time": "2022-07-23T03:48:16.6725126Z",
              "session_start_time": null,
              "execution_start_time": "2022-07-23T03:48:16.8058449Z",
              "execution_finish_time": "2022-07-23T03:48:49.7740125Z"
            },
            "text/plain": "StatementMeta(SparkPool01, 3, 2, Finished, Available)"
          },
          "metadata": {}
        }
      ],
      "execution_count": 2,
      "metadata": {}
    },
    {
      "cell_type": "markdown",
      "source": [
        "## View the contents of the DataFrame\r\n",
        "\r\n",
        "With the data from the **sale-20170501.csv** file loaded into a data frame, we can now use various methods of a data frame to explore the properties of the data.\r\n",
        "\r\n",
        "1. Let's look at the data as it was imported. Execute the cell below to view and inspect the data in the data frame."
      ],
      "metadata": {}
    },
    {
      "cell_type": "code",
      "source": [
        "display(df.limit(10))"
      ],
      "outputs": [
        {
          "output_type": "display_data",
          "data": {
            "application/vnd.livy.statement-meta+json": {
              "spark_pool": "SparkPool01",
              "session_id": 3,
              "statement_id": 3,
              "state": "finished",
              "livy_statement_state": "available",
              "queued_time": "2022-07-23T04:01:46.1953035Z",
              "session_start_time": null,
              "execution_start_time": "2022-07-23T04:01:46.6078644Z",
              "execution_finish_time": "2022-07-23T04:01:50.0244744Z"
            },
            "text/plain": "StatementMeta(SparkPool01, 3, 3, Finished, Available)"
          },
          "metadata": {}
        },
        {
          "output_type": "display_data",
          "data": {
            "application/vnd.synapse.widget-view+json": {
              "widget_id": "4caecd67-d6f9-4eec-adb0-52d0ecd7b3bb",
              "widget_type": "Synapse.DataFrame"
            },
            "text/plain": "SynapseWidget(Synapse.DataFrame, 4caecd67-d6f9-4eec-adb0-52d0ecd7b3bb)"
          },
          "metadata": {}
        }
      ],
      "execution_count": 3,
      "metadata": {
        "diagram": {
          "activateDiagramType": 1,
          "chartConfig": {
            "category": "bar",
            "keys": [
              "TransactionId"
            ],
            "values": [
              "CustomerId"
            ],
            "yLabel": "CustomerId",
            "xLabel": "TransactionId",
            "aggregation": "SUM",
            "aggByBackend": false
          },
          "aggData": "{\"CustomerId\":{\"cdd2ed88-8aae-4295-884a-ac4d40c3c33c\":44,\"e067fc11-e07d-4517-bc93-f7dc4b44f35e\":18}}",
          "isSummary": false,
          "previewData": {
            "filter": null
          },
          "isSql": false
        },
        "collapsed": false
      }
    },
    {
      "cell_type": "markdown",
      "source": [
        "2. Like we saw during exploration with the SQL on-demand capabilities of Azure Synapse, Spark allows us to view and query against the data contained within files. \r\n",
        "\r\n",
        "3. Now, use the **printSchema()** method of the data frame to view the results of using the **inferSchema** parameter when creating the data frame. Execute the cell below and observe the output."
      ],
      "metadata": {}
    },
    {
      "cell_type": "code",
      "source": [
        "# Now, print the inferred schema. We will need this information below to help with the missing headers in the May 2, 2017 file.\r\n",
        "df.printSchema()"
      ],
      "outputs": [
        {
          "output_type": "display_data",
          "data": {
            "application/vnd.livy.statement-meta+json": {
              "spark_pool": "SparkPool01",
              "session_id": 3,
              "statement_id": 4,
              "state": "finished",
              "livy_statement_state": "available",
              "queued_time": "2022-07-23T04:02:26.2245874Z",
              "session_start_time": null,
              "execution_start_time": "2022-07-23T04:02:26.4005683Z",
              "execution_finish_time": "2022-07-23T04:02:26.5472236Z"
            },
            "text/plain": "StatementMeta(SparkPool01, 3, 4, Finished, Available)"
          },
          "metadata": {}
        },
        {
          "output_type": "stream",
          "name": "stdout",
          "text": [
            "root\n |-- TransactionId: string (nullable = true)\n |-- CustomerId: integer (nullable = true)\n |-- ProductId: integer (nullable = true)\n |-- Quantity: integer (nullable = true)\n |-- Price: double (nullable = true)\n |-- TotalAmount: double (nullable = true)\n |-- TransactionDate: integer (nullable = true)\n |-- ProfitAmount: double (nullable = true)\n |-- Hour: integer (nullable = true)\n |-- Minute: integer (nullable = true)\n |-- StoreId: integer (nullable = true)\n\n"
          ]
        }
      ],
      "execution_count": 4,
      "metadata": {}
    },
    {
      "cell_type": "markdown",
      "source": [
        "4. The **printSchema** method outputs both field names and data types that are based on the Spark engine's evaluation of the data contained within each field.\r\n",
        "\r\n",
        "    > We can use this information later to help define the schema for the poorly formed **sale-20170502.csv** file. In addition to the field names and data types, we should note the number of features or columns contained in the file. In this case, note that there are 11 fields. That will be used to determine where to split the single row of data.\r\n",
        "\r\n",
        "5. As an example of further exploration we can do, run the cell below to create and display a new data frame that contains an ordered list of distinct Customer and Product Id pairings. We can use these types of functions to find invalid or empty values quickly in targeted fields."
      ],
      "metadata": {}
    },
    {
      "cell_type": "code",
      "source": [
        "# Create a new data frame containing a list of distinct CustomerId and ProductId values in descending order of the CustomerId.\r\n",
        "df_distinct_products = df.select('CustomerId', 'ProductId').distinct().orderBy('CustomerId')\r\n",
        "\r\n",
        "# Display the first 100 rows of the resulting data frame.\r\n",
        "display(df_distinct_products.limit(100))"
      ],
      "outputs": [
        {
          "output_type": "display_data",
          "data": {
            "application/vnd.livy.statement-meta+json": {
              "spark_pool": "SparkPool01",
              "session_id": 3,
              "statement_id": 5,
              "state": "finished",
              "livy_statement_state": "available",
              "queued_time": "2022-07-23T04:02:42.7522362Z",
              "session_start_time": null,
              "execution_start_time": "2022-07-23T04:02:42.8669225Z",
              "execution_finish_time": "2022-07-23T04:02:48.0924312Z"
            },
            "text/plain": "StatementMeta(SparkPool01, 3, 5, Finished, Available)"
          },
          "metadata": {}
        },
        {
          "output_type": "display_data",
          "data": {
            "application/vnd.synapse.widget-view+json": {
              "widget_id": "978d2238-f646-4900-969d-85b631a9e225",
              "widget_type": "Synapse.DataFrame"
            },
            "text/plain": "SynapseWidget(Synapse.DataFrame, 978d2238-f646-4900-969d-85b631a9e225)"
          },
          "metadata": {}
        }
      ],
      "execution_count": 5,
      "metadata": {
        "diagram": {
          "activateDiagramType": 1,
          "chartConfig": {
            "category": "bar",
            "keys": [],
            "values": [
              "ProductId"
            ],
            "yLabel": "ProductId",
            "xLabel": "",
            "aggregation": "SUM",
            "aggByBackend": false
          },
          "aggData": "{\"ProductId\":{\"\":189206}}",
          "isSummary": false,
          "previewData": {
            "filter": null
          },
          "isSql": false
        },
        "collapsed": false
      }
    },
    {
      "cell_type": "markdown",
      "source": [
        "6. Next, let's attempt to open and explore the **sale-20170502.csv** file using the **load()** method, as we did above."
      ],
      "metadata": {}
    },
    {
      "cell_type": "code",
      "source": [
        "# Next, let's try to read in the May 2, 2017 file using the same `load()` method we used for the first file.\r\n",
        "df = spark.read.load(f'abfss://wwi-02@{adls_account_name}.dfs.core.windows.net/sale-poc/sale-20170502.csv', format='csv')\r\n",
        "display(df.limit(10))"
      ],
      "outputs": [
        {
          "output_type": "display_data",
          "data": {
            "application/vnd.livy.statement-meta+json": {
              "spark_pool": "SparkPool01",
              "session_id": 3,
              "statement_id": 6,
              "state": "finished",
              "livy_statement_state": "available",
              "queued_time": "2022-07-23T04:02:55.5716529Z",
              "session_start_time": null,
              "execution_start_time": "2022-07-23T04:02:55.6825567Z",
              "execution_finish_time": "2022-07-23T04:02:59.7762268Z"
            },
            "text/plain": "StatementMeta(SparkPool01, 3, 6, Finished, Available)"
          },
          "metadata": {}
        },
        {
          "output_type": "error",
          "ename": "Py4JJavaError",
          "evalue": "An error occurred while calling o612.load.\n: com.univocity.parsers.common.TextParsingException: java.lang.ArrayIndexOutOfBoundsException - 20480\nHint: Number of columns processed may have exceeded limit of 20480 columns. Use settings.setMaxColumns(int) to define the maximum number of columns your input can have\nEnsure your configuration is correct, with delimiters, quotes and escape sequences that match the input format you are trying to parse\nParser Configuration: CsvParserSettings:\n\tAuto configuration enabled=true\n\tAutodetect column delimiter=false\n\tAutodetect quotes=false\n\tColumn reordering enabled=true\n\tDelimiters for detection=null\n\tEmpty value=\n\tEscape unquoted values=false\n\tHeader extraction enabled=null\n\tHeaders=null\n\tIgnore leading whitespaces=false\n\tIgnore leading whitespaces in quotes=false\n\tIgnore trailing whitespaces=false\n\tIgnore trailing whitespaces in quotes=false\n\tInput buffer size=128\n\tInput reading on separate thread=false\n\tKeep escape sequences=false\n\tKeep quotes=false\n\tLength of content displayed on error=-1\n\tLine separator detection enabled=false\n\tMaximum number of characters per column=-1\n\tMaximum number of columns=20480\n\tNormalize escaped line separators=true\n\tNull value=\n\tNumber of records to read=all\n\tProcessor=none\n\tRestricting data in exceptions=false\n\tRowProcessor error handler=null\n\tSelected fields=none\n\tSkip bits as whitespace=true\n\tSkip empty lines=true\n\tUnescaped quote handling=STOP_AT_DELIMITERFormat configuration:\n\tCsvFormat:\n\t\tComment character=\\0\n\t\tField delimiter=,\n\t\tLine separator (normalized)=\\n\n\t\tLine separator sequence=\\n\n\t\tQuote character=\"\n\t\tQuote escape character=\\\n\t\tQuote escape escape character=null\nInternal state when error was thrown: line=0, column=20481, record=0, charIndex=277709\n\tat com.univocity.parsers.common.AbstractParser.handleException(AbstractParser.java:369)\n\tat com.univocity.parsers.common.AbstractParser.parseLine(AbstractParser.java:673)\n\tat org.apache.spark.sql.execution.datasources.csv.TextInputCSVDataSource$$anonfun$8.apply(CSVDataSource.scala:249)\n\tat org.apache.spark.sql.execution.datasources.csv.TextInputCSVDataSource$$anonfun$8.apply(CSVDataSource.scala:249)\n\tat scala.Option.map(Option.scala:146)\n\tat org.apache.spark.sql.execution.datasources.csv.TextInputCSVDataSource$.inferFromDataset(CSVDataSource.scala:249)\n\tat org.apache.spark.sql.execution.datasources.csv.TextInputCSVDataSource$.infer(CSVDataSource.scala:237)\n\tat org.apache.spark.sql.execution.datasources.csv.CSVDataSource.inferSchema(CSVDataSource.scala:68)\n\tat org.apache.spark.sql.execution.datasources.csv.CSVFileFormat.inferSchema(CSVFileFormat.scala:63)\n\tat org.apache.spark.sql.execution.datasources.DataSource$$anonfun$6.apply(DataSource.scala:193)\n\tat org.apache.spark.sql.execution.datasources.DataSource$$anonfun$6.apply(DataSource.scala:193)\n\tat scala.Option.orElse(Option.scala:289)\n\tat org.apache.spark.sql.execution.datasources.DataSource.getOrInferFileFormatSchema(DataSource.scala:192)\n\tat org.apache.spark.sql.execution.datasources.DataSource.resolveRelation(DataSource.scala:386)\n\tat org.apache.spark.sql.DataFrameReader.loadV1Source(DataFrameReader.scala:242)\n\tat org.apache.spark.sql.DataFrameReader.load(DataFrameReader.scala:231)\n\tat org.apache.spark.sql.DataFrameReader.load(DataFrameReader.scala:198)\n\tat sun.reflect.NativeMethodAccessorImpl.invoke0(Native Method)\n\tat sun.reflect.NativeMethodAccessorImpl.invoke(NativeMethodAccessorImpl.java:62)\n\tat sun.reflect.DelegatingMethodAccessorImpl.invoke(DelegatingMethodAccessorImpl.java:43)\n\tat java.lang.reflect.Method.invoke(Method.java:498)\n\tat py4j.reflection.MethodInvoker.invoke(MethodInvoker.java:244)\n\tat py4j.reflection.ReflectionEngine.invoke(ReflectionEngine.java:357)\n\tat py4j.Gateway.invoke(Gateway.java:282)\n\tat py4j.commands.AbstractCommand.invokeMethod(AbstractCommand.java:132)\n\tat py4j.commands.CallCommand.execute(CallCommand.java:79)\n\tat py4j.GatewayConnection.run(GatewayConnection.java:238)\n\tat java.lang.Thread.run(Thread.java:748)\nCaused by: java.lang.ArrayIndexOutOfBoundsException: 20480\n\tat com.univocity.parsers.common.ParserOutput.valueParsed(ParserOutput.java:317)\n\tat com.univocity.parsers.csv.CsvParser.parseRecord(CsvParser.java:189)\n\tat com.univocity.parsers.common.AbstractParser.parseLine(AbstractParser.java:654)\n\t... 26 more\n",
          "traceback": [
            "\u001b[0;31m---------------------------------------------------------------------------\u001b[0m",
            "\u001b[0;31mPy4JJavaError\u001b[0m                             Traceback (most recent call last)",
            "\u001b[0;32m<ipython-input-15-cb2bf04f2bd2>\u001b[0m in \u001b[0;36m<module>\u001b[0;34m\u001b[0m\n\u001b[1;32m      1\u001b[0m \u001b[0;31m# Next, let's try to read in the May 2, 2017 file using the same `load()` method we used for the first file.\u001b[0m\u001b[0;34m\u001b[0m\u001b[0;34m\u001b[0m\u001b[0;34m\u001b[0m\u001b[0m\n\u001b[0;32m----> 2\u001b[0;31m \u001b[0mdf\u001b[0m \u001b[0;34m=\u001b[0m \u001b[0mspark\u001b[0m\u001b[0;34m.\u001b[0m\u001b[0mread\u001b[0m\u001b[0;34m.\u001b[0m\u001b[0mload\u001b[0m\u001b[0;34m(\u001b[0m\u001b[0;34mf'abfss://wwi-02@{adls_account_name}.dfs.core.windows.net/sale-poc/sale-20170502.csv'\u001b[0m\u001b[0;34m,\u001b[0m \u001b[0mformat\u001b[0m\u001b[0;34m=\u001b[0m\u001b[0;34m'csv'\u001b[0m\u001b[0;34m)\u001b[0m\u001b[0;34m\u001b[0m\u001b[0;34m\u001b[0m\u001b[0m\n\u001b[0m\u001b[1;32m      3\u001b[0m \u001b[0mdisplay\u001b[0m\u001b[0;34m(\u001b[0m\u001b[0mdf\u001b[0m\u001b[0;34m.\u001b[0m\u001b[0mlimit\u001b[0m\u001b[0;34m(\u001b[0m\u001b[0;36m10\u001b[0m\u001b[0;34m)\u001b[0m\u001b[0;34m)\u001b[0m\u001b[0;34m\u001b[0m\u001b[0;34m\u001b[0m\u001b[0m\n",
            "\u001b[0;32m/opt/spark/python/lib/pyspark.zip/pyspark/sql/readwriter.py\u001b[0m in \u001b[0;36mload\u001b[0;34m(self, path, format, schema, **options)\u001b[0m\n\u001b[1;32m    164\u001b[0m         \u001b[0mself\u001b[0m\u001b[0;34m.\u001b[0m\u001b[0moptions\u001b[0m\u001b[0;34m(\u001b[0m\u001b[0;34m**\u001b[0m\u001b[0moptions\u001b[0m\u001b[0;34m)\u001b[0m\u001b[0;34m\u001b[0m\u001b[0;34m\u001b[0m\u001b[0m\n\u001b[1;32m    165\u001b[0m         \u001b[0;32mif\u001b[0m \u001b[0misinstance\u001b[0m\u001b[0;34m(\u001b[0m\u001b[0mpath\u001b[0m\u001b[0;34m,\u001b[0m \u001b[0mbasestring\u001b[0m\u001b[0;34m)\u001b[0m\u001b[0;34m:\u001b[0m\u001b[0;34m\u001b[0m\u001b[0;34m\u001b[0m\u001b[0m\n\u001b[0;32m--> 166\u001b[0;31m             \u001b[0;32mreturn\u001b[0m \u001b[0mself\u001b[0m\u001b[0;34m.\u001b[0m\u001b[0m_df\u001b[0m\u001b[0;34m(\u001b[0m\u001b[0mself\u001b[0m\u001b[0;34m.\u001b[0m\u001b[0m_jreader\u001b[0m\u001b[0;34m.\u001b[0m\u001b[0mload\u001b[0m\u001b[0;34m(\u001b[0m\u001b[0mpath\u001b[0m\u001b[0;34m)\u001b[0m\u001b[0;34m)\u001b[0m\u001b[0;34m\u001b[0m\u001b[0;34m\u001b[0m\u001b[0m\n\u001b[0m\u001b[1;32m    167\u001b[0m         \u001b[0;32melif\u001b[0m \u001b[0mpath\u001b[0m \u001b[0;32mis\u001b[0m \u001b[0;32mnot\u001b[0m \u001b[0;32mNone\u001b[0m\u001b[0;34m:\u001b[0m\u001b[0;34m\u001b[0m\u001b[0;34m\u001b[0m\u001b[0m\n\u001b[1;32m    168\u001b[0m             \u001b[0;32mif\u001b[0m \u001b[0mtype\u001b[0m\u001b[0;34m(\u001b[0m\u001b[0mpath\u001b[0m\u001b[0;34m)\u001b[0m \u001b[0;34m!=\u001b[0m \u001b[0mlist\u001b[0m\u001b[0;34m:\u001b[0m\u001b[0;34m\u001b[0m\u001b[0;34m\u001b[0m\u001b[0m\n",
            "\u001b[0;32m/opt/spark/python/lib/py4j-0.10.7-src.zip/py4j/java_gateway.py\u001b[0m in \u001b[0;36m__call__\u001b[0;34m(self, *args)\u001b[0m\n\u001b[1;32m   1255\u001b[0m         \u001b[0manswer\u001b[0m \u001b[0;34m=\u001b[0m \u001b[0mself\u001b[0m\u001b[0;34m.\u001b[0m\u001b[0mgateway_client\u001b[0m\u001b[0;34m.\u001b[0m\u001b[0msend_command\u001b[0m\u001b[0;34m(\u001b[0m\u001b[0mcommand\u001b[0m\u001b[0;34m)\u001b[0m\u001b[0;34m\u001b[0m\u001b[0;34m\u001b[0m\u001b[0m\n\u001b[1;32m   1256\u001b[0m         return_value = get_return_value(\n\u001b[0;32m-> 1257\u001b[0;31m             answer, self.gateway_client, self.target_id, self.name)\n\u001b[0m\u001b[1;32m   1258\u001b[0m \u001b[0;34m\u001b[0m\u001b[0m\n\u001b[1;32m   1259\u001b[0m         \u001b[0;32mfor\u001b[0m \u001b[0mtemp_arg\u001b[0m \u001b[0;32min\u001b[0m \u001b[0mtemp_args\u001b[0m\u001b[0;34m:\u001b[0m\u001b[0;34m\u001b[0m\u001b[0;34m\u001b[0m\u001b[0m\n",
            "\u001b[0;32m/opt/spark/python/lib/pyspark.zip/pyspark/sql/utils.py\u001b[0m in \u001b[0;36mdeco\u001b[0;34m(*a, **kw)\u001b[0m\n\u001b[1;32m     67\u001b[0m     \u001b[0;32mdef\u001b[0m \u001b[0mdeco\u001b[0m\u001b[0;34m(\u001b[0m\u001b[0;34m*\u001b[0m\u001b[0ma\u001b[0m\u001b[0;34m,\u001b[0m \u001b[0;34m**\u001b[0m\u001b[0mkw\u001b[0m\u001b[0;34m)\u001b[0m\u001b[0;34m:\u001b[0m\u001b[0;34m\u001b[0m\u001b[0;34m\u001b[0m\u001b[0m\n\u001b[1;32m     68\u001b[0m         \u001b[0;32mtry\u001b[0m\u001b[0;34m:\u001b[0m\u001b[0;34m\u001b[0m\u001b[0;34m\u001b[0m\u001b[0m\n\u001b[0;32m---> 69\u001b[0;31m             \u001b[0;32mreturn\u001b[0m \u001b[0mf\u001b[0m\u001b[0;34m(\u001b[0m\u001b[0;34m*\u001b[0m\u001b[0ma\u001b[0m\u001b[0;34m,\u001b[0m \u001b[0;34m**\u001b[0m\u001b[0mkw\u001b[0m\u001b[0;34m)\u001b[0m\u001b[0;34m\u001b[0m\u001b[0;34m\u001b[0m\u001b[0m\n\u001b[0m\u001b[1;32m     70\u001b[0m         \u001b[0;32mexcept\u001b[0m \u001b[0mpy4j\u001b[0m\u001b[0;34m.\u001b[0m\u001b[0mprotocol\u001b[0m\u001b[0;34m.\u001b[0m\u001b[0mPy4JJavaError\u001b[0m \u001b[0;32mas\u001b[0m \u001b[0me\u001b[0m\u001b[0;34m:\u001b[0m\u001b[0;34m\u001b[0m\u001b[0;34m\u001b[0m\u001b[0m\n\u001b[1;32m     71\u001b[0m             \u001b[0ms\u001b[0m \u001b[0;34m=\u001b[0m \u001b[0me\u001b[0m\u001b[0;34m.\u001b[0m\u001b[0mjava_exception\u001b[0m\u001b[0;34m.\u001b[0m\u001b[0mtoString\u001b[0m\u001b[0;34m(\u001b[0m\u001b[0;34m)\u001b[0m\u001b[0;34m\u001b[0m\u001b[0;34m\u001b[0m\u001b[0m\n",
            "\u001b[0;32m/opt/spark/python/lib/py4j-0.10.7-src.zip/py4j/protocol.py\u001b[0m in \u001b[0;36mget_return_value\u001b[0;34m(answer, gateway_client, target_id, name)\u001b[0m\n\u001b[1;32m    326\u001b[0m                 raise Py4JJavaError(\n\u001b[1;32m    327\u001b[0m                     \u001b[0;34m\"An error occurred while calling {0}{1}{2}.\\n\"\u001b[0m\u001b[0;34m.\u001b[0m\u001b[0;34m\u001b[0m\u001b[0;34m\u001b[0m\u001b[0m\n\u001b[0;32m--> 328\u001b[0;31m                     format(target_id, \".\", name), value)\n\u001b[0m\u001b[1;32m    329\u001b[0m             \u001b[0;32melse\u001b[0m\u001b[0;34m:\u001b[0m\u001b[0;34m\u001b[0m\u001b[0;34m\u001b[0m\u001b[0m\n\u001b[1;32m    330\u001b[0m                 raise Py4JError(\n",
            "\u001b[0;31mPy4JJavaError\u001b[0m: An error occurred while calling o612.load.\n: com.univocity.parsers.common.TextParsingException: java.lang.ArrayIndexOutOfBoundsException - 20480\nHint: Number of columns processed may have exceeded limit of 20480 columns. Use settings.setMaxColumns(int) to define the maximum number of columns your input can have\nEnsure your configuration is correct, with delimiters, quotes and escape sequences that match the input format you are trying to parse\nParser Configuration: CsvParserSettings:\n\tAuto configuration enabled=true\n\tAutodetect column delimiter=false\n\tAutodetect quotes=false\n\tColumn reordering enabled=true\n\tDelimiters for detection=null\n\tEmpty value=\n\tEscape unquoted values=false\n\tHeader extraction enabled=null\n\tHeaders=null\n\tIgnore leading whitespaces=false\n\tIgnore leading whitespaces in quotes=false\n\tIgnore trailing whitespaces=false\n\tIgnore trailing whitespaces in quotes=false\n\tInput buffer size=128\n\tInput reading on separate thread=false\n\tKeep escape sequences=false\n\tKeep quotes=false\n\tLength of content displayed on error=-1\n\tLine separator detection enabled=false\n\tMaximum number of characters per column=-1\n\tMaximum number of columns=20480\n\tNormalize escaped line separators=true\n\tNull value=\n\tNumber of records to read=all\n\tProcessor=none\n\tRestricting data in exceptions=false\n\tRowProcessor error handler=null\n\tSelected fields=none\n\tSkip bits as whitespace=true\n\tSkip empty lines=true\n\tUnescaped quote handling=STOP_AT_DELIMITERFormat configuration:\n\tCsvFormat:\n\t\tComment character=\\0\n\t\tField delimiter=,\n\t\tLine separator (normalized)=\\n\n\t\tLine separator sequence=\\n\n\t\tQuote character=\"\n\t\tQuote escape character=\\\n\t\tQuote escape escape character=null\nInternal state when error was thrown: line=0, column=20481, record=0, charIndex=277709\n\tat com.univocity.parsers.common.AbstractParser.handleException(AbstractParser.java:369)\n\tat com.univocity.parsers.common.AbstractParser.parseLine(AbstractParser.java:673)\n\tat org.apache.spark.sql.execution.datasources.csv.TextInputCSVDataSource$$anonfun$8.apply(CSVDataSource.scala:249)\n\tat org.apache.spark.sql.execution.datasources.csv.TextInputCSVDataSource$$anonfun$8.apply(CSVDataSource.scala:249)\n\tat scala.Option.map(Option.scala:146)\n\tat org.apache.spark.sql.execution.datasources.csv.TextInputCSVDataSource$.inferFromDataset(CSVDataSource.scala:249)\n\tat org.apache.spark.sql.execution.datasources.csv.TextInputCSVDataSource$.infer(CSVDataSource.scala:237)\n\tat org.apache.spark.sql.execution.datasources.csv.CSVDataSource.inferSchema(CSVDataSource.scala:68)\n\tat org.apache.spark.sql.execution.datasources.csv.CSVFileFormat.inferSchema(CSVFileFormat.scala:63)\n\tat org.apache.spark.sql.execution.datasources.DataSource$$anonfun$6.apply(DataSource.scala:193)\n\tat org.apache.spark.sql.execution.datasources.DataSource$$anonfun$6.apply(DataSource.scala:193)\n\tat scala.Option.orElse(Option.scala:289)\n\tat org.apache.spark.sql.execution.datasources.DataSource.getOrInferFileFormatSchema(DataSource.scala:192)\n\tat org.apache.spark.sql.execution.datasources.DataSource.resolveRelation(DataSource.scala:386)\n\tat org.apache.spark.sql.DataFrameReader.loadV1Source(DataFrameReader.scala:242)\n\tat org.apache.spark.sql.DataFrameReader.load(DataFrameReader.scala:231)\n\tat org.apache.spark.sql.DataFrameReader.load(DataFrameReader.scala:198)\n\tat sun.reflect.NativeMethodAccessorImpl.invoke0(Native Method)\n\tat sun.reflect.NativeMethodAccessorImpl.invoke(NativeMethodAccessorImpl.java:62)\n\tat sun.reflect.DelegatingMethodAccessorImpl.invoke(DelegatingMethodAccessorImpl.java:43)\n\tat java.lang.reflect.Method.invoke(Method.java:498)\n\tat py4j.reflection.MethodInvoker.invoke(MethodInvoker.java:244)\n\tat py4j.reflection.ReflectionEngine.invoke(ReflectionEngine.java:357)\n\tat py4j.Gateway.invoke(Gateway.java:282)\n\tat py4j.commands.AbstractCommand.invokeMethod(AbstractCommand.java:132)\n\tat py4j.commands.CallCommand.execute(CallCommand.java:79)\n\tat py4j.GatewayConnection.run(GatewayConnection.java:238)\n\tat java.lang.Thread.run(Thread.java:748)\nCaused by: java.lang.ArrayIndexOutOfBoundsException: 20480\n\tat com.univocity.parsers.common.ParserOutput.valueParsed(ParserOutput.java:317)\n\tat com.univocity.parsers.csv.CsvParser.parseRecord(CsvParser.java:189)\n\tat com.univocity.parsers.common.AbstractParser.parseLine(AbstractParser.java:654)\n\t... 26 more\n"
          ]
        }
      ],
      "execution_count": 6,
      "metadata": {}
    },
    {
      "cell_type": "markdown",
      "source": [
        "7. As we saw in T-SQL, we receive a similar error in Spark that the number of columns processed may have exceeded limit of 20480 columns. To work with the data in this file, we need to use more advanced methods, as you will see in the next section below.\n"
      ],
      "metadata": {}
    },
    {
      "cell_type": "markdown",
      "source": [
        "## Handling and fixing poorly formed CSV files\r\n",
        "\r\n",
        "> The steps below provide example code for fixing the poorly-formed CSV file, **sale-20170502.csv** we discovered during exploration of the files in the **wwi-02/sale-poc** folder. This is just one of many ways to handle \"fixing\" a poorly-formed CSV file using Spark.\r\n",
        "\r\n",
        "1. To \"fix\" the bad file, we need to take a programmatic approach, using Python to read in the contents of the file and then parse them to put them into the proper shape.\r\n",
        "\r\n",
        "    > To handle the data being in a single row, we can use the **textFile()** method of our **SparkContext** to read the file as a collection of rows into a resilient distributed dataset (RDD). This allows us to get around the errors around the number of columns because we are essentially getting a single string value stored in a single column.\r\n",
        "\r\n",
        "2. Execute the cell below to load the RDD with data from the file."
      ],
      "metadata": {}
    },
    {
      "cell_type": "code",
      "source": [
        "# Import the NumPy library. NumPy is a python library used for working with arrays.\r\n",
        "import numpy as np\r\n",
        "\r\n",
        "# Read the CSV file into a resilient distributed dataset (RDD) as a text file. This will read each row of the file into rows in an RDD.\r\n",
        "rdd = sc.textFile(f'abfss://wwi-02@{adls_account_name}.dfs.core.windows.net/sale-poc/sale-20170502.csv')"
      ],
      "outputs": [
        {
          "output_type": "display_data",
          "data": {
            "application/vnd.livy.statement-meta+json": {
              "spark_pool": "SparkPool01",
              "session_id": 3,
              "statement_id": 8,
              "state": "finished",
              "livy_statement_state": "available",
              "queued_time": "2022-07-23T04:03:40.8536059Z",
              "session_start_time": null,
              "execution_start_time": "2022-07-23T04:03:40.9612438Z",
              "execution_finish_time": "2022-07-23T04:03:41.0989733Z"
            },
            "text/plain": "StatementMeta(SparkPool01, 3, 8, Finished, Available)"
          },
          "metadata": {}
        }
      ],
      "execution_count": 8,
      "metadata": {}
    },
    {
      "cell_type": "markdown",
      "source": [
        "3. With the data now stored in an RDD, we can access the first, and only, populated row in the RDD, and split that into individual fields. We know from our inspection of the file in Notepad++ that it all the fields are separated by a comma (,), so let's start by splitting on that to create an array of field values. Execute the cell below to create a data array."
      ],
      "metadata": {}
    },
    {
      "cell_type": "code",
      "source": [
        "# Since we know there is only one row, grab the first row of the RDD and split in on the field delimiter (comma).\r\n",
        "data = rdd.first().split(',')\r\n",
        "\r\n",
        "field_count = len(data)\r\n",
        "# Print out the count of fields read into the array.\r\n",
        "print(field_count)"
      ],
      "outputs": [
        {
          "output_type": "display_data",
          "data": {
            "application/vnd.livy.statement-meta+json": {
              "spark_pool": "SparkPool01",
              "session_id": 3,
              "statement_id": 9,
              "state": "finished",
              "livy_statement_state": "available",
              "queued_time": "2022-07-23T04:03:46.8528786Z",
              "session_start_time": null,
              "execution_start_time": "2022-07-23T04:03:47.0147244Z",
              "execution_finish_time": "2022-07-23T04:03:54.2761554Z"
            },
            "text/plain": "StatementMeta(SparkPool01, 3, 9, Finished, Available)"
          },
          "metadata": {}
        },
        {
          "output_type": "stream",
          "name": "stdout",
          "text": [
            "6570961\n"
          ]
        }
      ],
      "execution_count": 9,
      "metadata": {}
    },
    {
      "cell_type": "markdown",
      "source": [
        "4. By splitting the row on the field delimiter, we created an array of all the individual field values in the file, the count of which you can see above.\n",
        "\n",
        "5. Now, run the cell below to do a quick calculation on the expected number of rows that will be generated by parsing every 11 fields into a single row."
      ],
      "metadata": {}
    },
    {
      "cell_type": "code",
      "source": [
        "import math\r\n",
        "\r\n",
        "expected_row_count = math.floor(field_count / 11)\r\n",
        "print(f'The expected row count is: {expected_row_count}')"
      ],
      "outputs": [
        {
          "output_type": "display_data",
          "data": {
            "application/vnd.livy.statement-meta+json": {
              "spark_pool": "SparkPool01",
              "session_id": 3,
              "statement_id": 10,
              "state": "finished",
              "livy_statement_state": "available",
              "queued_time": "2022-07-23T04:04:08.0914421Z",
              "session_start_time": null,
              "execution_start_time": "2022-07-23T04:04:08.1966192Z",
              "execution_finish_time": "2022-07-23T04:04:08.335215Z"
            },
            "text/plain": "StatementMeta(SparkPool01, 3, 10, Finished, Available)"
          },
          "metadata": {}
        },
        {
          "output_type": "stream",
          "name": "stdout",
          "text": [
            "The expected row count is: 597360\n"
          ]
        }
      ],
      "execution_count": 10,
      "metadata": {}
    },
    {
      "cell_type": "markdown",
      "source": [
        "6. Next, let's create an array to store the data associated with each \"row\".\r\n",
        "\r\n",
        "    > We will set the max_index to the number of columns that are expected in each row. We know from our exploration of other files in the **wwi-02/sale-poc** folder that they contain 11 columns, so that is the value we will set.\r\n",
        "\r\n",
        "7. In addition to setting variables, we will use the cell below to loop through the **data** array and assign every 11 values to a row. By doing this, we are able to \"split\" the data that was once a single row into appropriate rows containing the proper data and columns from the file.\r\n",
        "\r\n",
        "8. Execute the cell below to create an array of rows from the file data."
      ],
      "metadata": {}
    },
    {
      "cell_type": "code",
      "source": [
        "# Create an array to store the data associated with each \"row\". Set the max_index to the number of columns that are in each row. This is 11, which we noted above when viewing the schema of the May 1 file.\r\n",
        "row_list = []\r\n",
        "max_index = 11\r\n",
        "\r\n",
        "# Now, we are going to loop through the array of values extracted from the single row of the file and build rows consisting of 11 columns.\r\n",
        "while max_index <= len(data):\r\n",
        "    row = [data[i] for i in np.arange(max_index-11, max_index)]\r\n",
        "    row_list.append(row)\r\n",
        "\r\n",
        "    max_index += 11\r\n",
        "\r\n",
        "print(f'The row array contains {len(row_list)} rows. The expected number of rows was {expected_row_count}.')"
      ],
      "outputs": [
        {
          "output_type": "display_data",
          "data": {
            "application/vnd.livy.statement-meta+json": {
              "spark_pool": "SparkPool01",
              "session_id": 3,
              "statement_id": 11,
              "state": "finished",
              "livy_statement_state": "available",
              "queued_time": "2022-07-23T04:04:35.74995Z",
              "session_start_time": null,
              "execution_start_time": "2022-07-23T04:04:35.9365663Z",
              "execution_finish_time": "2022-07-23T04:04:41.138699Z"
            },
            "text/plain": "StatementMeta(SparkPool01, 3, 11, Finished, Available)"
          },
          "metadata": {}
        },
        {
          "output_type": "stream",
          "name": "stdout",
          "text": [
            "The row array contains 597360 rows. The expected number of rows was 597360.\n"
          ]
        }
      ],
      "execution_count": 11,
      "metadata": {}
    },
    {
      "cell_type": "markdown",
      "source": [
        "9. The last thing we need to do to be able to work with the file data as rows is to read it into a Spark DataFrame. In the cell below, we use the **createDataFrame()** method to convert the **row_list** array into a data frame, which also adding names for the columns. Column names are based on the schema we observed in the well formatted files in the **wwi-02/sale-poc** directory.\r\n",
        "\r\n",
        "10. Execute the cell below to create a data frame containing row data from the file and then display the first 10 rows."
      ],
      "metadata": {}
    },
    {
      "cell_type": "code",
      "source": [
        "# Finally, we can use the row_list we created above to create a DataFrame. We can add to this a schema parameter, which contains the column names we saw in the schema of the first file.\r\n",
        "df_fixed = spark.createDataFrame(row_list,schema=['TransactionId', 'CustomerId', 'ProductId', 'Quantity', 'Price', 'TotalAmount', 'TransactionDateId', 'ProfitAmount', 'Hour', 'Minute', 'StoreId'])\r\n",
        "display(df_fixed.limit(10))"
      ],
      "outputs": [
        {
          "output_type": "display_data",
          "data": {
            "application/vnd.livy.statement-meta+json": {
              "spark_pool": "SparkPool01",
              "session_id": 3,
              "statement_id": 12,
              "state": "finished",
              "livy_statement_state": "available",
              "queued_time": "2022-07-23T04:05:07.6745855Z",
              "session_start_time": null,
              "execution_start_time": "2022-07-23T04:05:07.7843854Z",
              "execution_finish_time": "2022-07-23T04:05:55.6402212Z"
            },
            "text/plain": "StatementMeta(SparkPool01, 3, 12, Finished, Available)"
          },
          "metadata": {}
        },
        {
          "output_type": "display_data",
          "data": {
            "application/vnd.synapse.widget-view+json": {
              "widget_id": "f2721992-bd62-4b9a-814f-dc3a5b487640",
              "widget_type": "Synapse.DataFrame"
            },
            "text/plain": "SynapseWidget(Synapse.DataFrame, f2721992-bd62-4b9a-814f-dc3a5b487640)"
          },
          "metadata": {}
        }
      ],
      "execution_count": 12,
      "metadata": {
        "diagram": {
          "activateDiagramType": 1,
          "chartConfig": {
            "category": "bar",
            "keys": [
              "TransactionId"
            ],
            "values": [
              "TransactionId"
            ],
            "yLabel": "TransactionId",
            "xLabel": "TransactionId",
            "aggregation": "COUNT",
            "aggByBackend": false
          },
          "aggData": "{\"TransactionId\":{\"5455a4b4-62bd-401a-b5c6-79ea24f30531\":5,\"a4116581-5aad-416a-b767-aefa516737b1\":5}}",
          "isSummary": false,
          "previewData": {
            "filter": null
          },
          "isSql": false
        },
        "collapsed": false
      }
    },
    {
      "cell_type": "markdown",
      "source": [
        "## Write the \"fixed\" file into the data lake\r\n",
        "\r\n",
        "1. The last step we will take as part of our exploration and file fixing process is to write the data back into the data lake, so it can be ingested following the same process as the other files in the **wwi-02/sale-poc** folder.\r\n",
        "\r\n",
        "2. Execute the cell below to save the data frame into the data lake a series of files in a folder named **sale-20170502-fixed**.\r\n",
        "\r\n",
        "    > Note: Spark parallelizes workloads across worker nodes, so when saving files, you will notice they are saved as a collection \"part\" files, and not as a single file. While there are some libraries you can use to create a single file, it is helpful to get used to working with files generated via Spark notebooks as they are natively created.\r\n"
      ],
      "metadata": {}
    },
    {
      "cell_type": "code",
      "source": [
        "df_fixed.write.format('csv').option('header',True).mode('overwrite').option('sep',',').save(f'abfss://wwi-02@{adls_account_name}.dfs.core.windows.net/sale-poc/sale-20170502-fixed')"
      ],
      "outputs": [
        {
          "output_type": "display_data",
          "data": {
            "application/vnd.livy.statement-meta+json": {
              "spark_pool": "SparkPool01",
              "session_id": 3,
              "statement_id": 13,
              "state": "finished",
              "livy_statement_state": "available",
              "queued_time": "2022-07-23T04:05:21.8960979Z",
              "session_start_time": null,
              "execution_start_time": "2022-07-23T04:05:55.7422078Z",
              "execution_finish_time": "2022-07-23T04:05:59.6325072Z"
            },
            "text/plain": "StatementMeta(SparkPool01, 3, 13, Finished, Available)"
          },
          "metadata": {}
        }
      ],
      "execution_count": 13,
      "metadata": {}
    },
    {
      "cell_type": "markdown",
      "source": [
        "## Inspect the fixed file in the data lake\r\n",
        "\r\n",
        "1. With the fixed file written to the data lake, you can quickly inpsect it to verify the files are now formatted properly. Select the **wwi-02** tab above to view the **sale-poc** folder.\r\n",
        "2. Refresh the folder view (expand the **More** menu if necessary) and then open the **sale-20170502-fixed** folder.\r\n",
        "3. In the **sale-20170502-fixed** folder, right-click the first file whose name begins with **part** and whose extension is **.csv** and select **Preview** from the context menu.\r\n",
        "4. In the **Preview** dialog, verify you see the proper columns and that the data looks valid in each field.\r\n",
        "\r\n",
        "## Wrap-up\r\n",
        "\r\n",
        "Throughout this exercise, you used a Spark notebook to explore data stored within files in the data lake. You used Python code to extract data from a poorly formatted CSV file, assemble the data from that file into proper rows, and then write the \"fixed\" file back out into your data lake.\r\n",
        "\r\n",
        "You can now return to the lab guide to continue with the next section of Lab 2.\r\n"
      ],
      "metadata": {}
    }
  ],
  "metadata": {
    "language_info": {
      "name": "python"
    },
    "kernelspec": {
      "name": "synapse_pyspark",
      "language": "Python",
      "display_name": "Synapse PySpark"
    },
    "kernel_info": {
      "name": "synapse_pyspark"
    },
    "save_output": true,
    "synapse_widget": {
      "version": "0.1",
      "state": {
        "4caecd67-d6f9-4eec-adb0-52d0ecd7b3bb": {
          "type": "Synapse.DataFrame",
          "sync_state": {
            "table": {
              "rows": [
                {
                  "0": "1c97cc49-d769-4cf7-8c5f-ae7be8c6cbf9",
                  "1": "91427",
                  "2": "2731",
                  "3": "2",
                  "4": "29.29",
                  "5": "64.438",
                  "6": "20170501",
                  "7": "21.406",
                  "8": "11",
                  "9": "9",
                  "10": "3516"
                },
                {
                  "0": "1c97cc49-d769-4cf7-8c5f-ae7be8c6cbf9",
                  "1": "91427",
                  "2": "2440",
                  "3": "1",
                  "4": "19.33",
                  "5": "21.263",
                  "6": "20170501",
                  "7": "5.665",
                  "8": "11",
                  "9": "9",
                  "10": "3516"
                },
                {
                  "0": "1c97cc49-d769-4cf7-8c5f-ae7be8c6cbf9",
                  "1": "91427",
                  "2": "3514",
                  "3": "3",
                  "4": "34.78",
                  "5": "114.774",
                  "6": "20170501",
                  "7": "37.323",
                  "8": "11",
                  "9": "9",
                  "10": "3516"
                },
                {
                  "0": "1c97cc49-d769-4cf7-8c5f-ae7be8c6cbf9",
                  "1": "91427",
                  "2": "213",
                  "3": "4",
                  "4": "29.07",
                  "5": "127.908",
                  "6": "20170501",
                  "7": "32.208",
                  "8": "11",
                  "9": "9",
                  "10": "3516"
                },
                {
                  "0": "1c97cc49-d769-4cf7-8c5f-ae7be8c6cbf9",
                  "1": "91427",
                  "2": "167",
                  "3": "4",
                  "4": "28.69",
                  "5": "126.236",
                  "6": "20170501",
                  "7": "41.096",
                  "8": "11",
                  "9": "9",
                  "10": "3516"
                },
                {
                  "0": "1c97cc49-d769-4cf7-8c5f-ae7be8c6cbf9",
                  "1": "91427",
                  "2": "50",
                  "3": "3",
                  "4": "25.46",
                  "5": "84.018",
                  "6": "20170501",
                  "7": "22.209",
                  "8": "11",
                  "9": "9",
                  "10": "3516"
                },
                {
                  "0": "3ea01928-6185-40af-bc37-483da893adad",
                  "1": "91431",
                  "2": "1710",
                  "3": "1",
                  "4": "26.04",
                  "5": "28.644",
                  "6": "20170501",
                  "7": "7.26",
                  "8": "11",
                  "9": "18",
                  "10": "2818"
                },
                {
                  "0": "3ea01928-6185-40af-bc37-483da893adad",
                  "1": "91431",
                  "2": "2412",
                  "3": "1",
                  "4": "26.76",
                  "5": "29.436",
                  "6": "20170501",
                  "7": "9.185",
                  "8": "11",
                  "9": "18",
                  "10": "2818"
                },
                {
                  "0": "3ea01928-6185-40af-bc37-483da893adad",
                  "1": "91431",
                  "2": "3442",
                  "3": "2",
                  "4": "25.99",
                  "5": "57.178",
                  "6": "20170501",
                  "7": "21.23",
                  "8": "11",
                  "9": "18",
                  "10": "2818"
                },
                {
                  "0": "3ea01928-6185-40af-bc37-483da893adad",
                  "1": "91431",
                  "2": "2474",
                  "3": "4",
                  "4": "28.11",
                  "5": "123.684",
                  "6": "20170501",
                  "7": "44.924",
                  "8": "11",
                  "9": "18",
                  "10": "2818"
                }
              ],
              "schema": [
                {
                  "key": "0",
                  "name": "TransactionId",
                  "type": "string"
                },
                {
                  "key": "1",
                  "name": "CustomerId",
                  "type": "int"
                },
                {
                  "key": "2",
                  "name": "ProductId",
                  "type": "int"
                },
                {
                  "key": "3",
                  "name": "Quantity",
                  "type": "int"
                },
                {
                  "key": "4",
                  "name": "Price",
                  "type": "double"
                },
                {
                  "key": "5",
                  "name": "TotalAmount",
                  "type": "double"
                },
                {
                  "key": "6",
                  "name": "TransactionDate",
                  "type": "int"
                },
                {
                  "key": "7",
                  "name": "ProfitAmount",
                  "type": "double"
                },
                {
                  "key": "8",
                  "name": "Hour",
                  "type": "int"
                },
                {
                  "key": "9",
                  "name": "Minute",
                  "type": "int"
                },
                {
                  "key": "10",
                  "name": "StoreId",
                  "type": "int"
                }
              ],
              "truncated": false
            },
            "isSummary": false,
            "language": "scala"
          },
          "persist_state": {
            "view": {
              "type": "details",
              "tableOptions": {},
              "chartOptions": {
                "chartType": "bar",
                "aggregationType": "sum",
                "categoryFieldKeys": [
                  "0"
                ],
                "seriesFieldKeys": [
                  "1"
                ],
                "isStacked": false
              }
            }
          }
        },
        "978d2238-f646-4900-969d-85b631a9e225": {
          "type": "Synapse.DataFrame",
          "sync_state": {
            "table": {
              "rows": [
                {},
                {
                  "0": "3",
                  "1": "2641"
                },
                {
                  "0": "3",
                  "1": "4581"
                },
                {
                  "0": "3",
                  "1": "1365"
                },
                {
                  "0": "3",
                  "1": "2"
                },
                {
                  "0": "3",
                  "1": "110"
                },
                {
                  "0": "3",
                  "1": "220"
                },
                {
                  "0": "11",
                  "1": "3323"
                },
                {
                  "0": "11",
                  "1": "70"
                },
                {
                  "0": "11",
                  "1": "32"
                },
                {
                  "0": "11",
                  "1": "194"
                },
                {
                  "0": "11",
                  "1": "4763"
                },
                {
                  "0": "11",
                  "1": "4070"
                },
                {
                  "0": "11",
                  "1": "582"
                },
                {
                  "0": "41",
                  "1": "1091"
                },
                {
                  "0": "41",
                  "1": "2726"
                },
                {
                  "0": "41",
                  "1": "88"
                },
                {
                  "0": "41",
                  "1": "186"
                },
                {
                  "0": "41",
                  "1": "3321"
                },
                {
                  "0": "41",
                  "1": "84"
                },
                {
                  "0": "41",
                  "1": "244"
                },
                {
                  "0": "41",
                  "1": "3009"
                },
                {
                  "0": "41",
                  "1": "4660"
                },
                {
                  "0": "41",
                  "1": "3564"
                },
                {
                  "0": "41",
                  "1": "126"
                },
                {
                  "0": "41",
                  "1": "134"
                },
                {
                  "0": "42",
                  "1": "3256"
                },
                {
                  "0": "42",
                  "1": "35"
                },
                {
                  "0": "42",
                  "1": "229"
                },
                {
                  "0": "42",
                  "1": "2836"
                },
                {
                  "0": "42",
                  "1": "57"
                },
                {
                  "0": "42",
                  "1": "4843"
                },
                {
                  "0": "42",
                  "1": "2996"
                },
                {
                  "0": "42",
                  "1": "4544"
                },
                {
                  "0": "43",
                  "1": "153"
                },
                {
                  "0": "43",
                  "1": "2031"
                },
                {
                  "0": "43",
                  "1": "412"
                },
                {
                  "0": "43",
                  "1": "4220"
                },
                {
                  "0": "43",
                  "1": "30"
                },
                {
                  "0": "43",
                  "1": "3478"
                },
                {
                  "0": "43",
                  "1": "2776"
                },
                {
                  "0": "52",
                  "1": "609"
                },
                {
                  "0": "52",
                  "1": "686"
                },
                {
                  "0": "52",
                  "1": "18"
                },
                {
                  "0": "52",
                  "1": "3604"
                },
                {
                  "0": "52",
                  "1": "160"
                },
                {
                  "0": "52",
                  "1": "2711"
                },
                {
                  "0": "52",
                  "1": "4830"
                },
                {
                  "0": "52",
                  "1": "4260"
                },
                {
                  "0": "52",
                  "1": "619"
                },
                {
                  "0": "52",
                  "1": "209"
                },
                {
                  "0": "61",
                  "1": "37"
                },
                {
                  "0": "61",
                  "1": "1302"
                },
                {
                  "0": "61",
                  "1": "176"
                },
                {
                  "0": "61",
                  "1": "2482"
                },
                {
                  "0": "61",
                  "1": "2751"
                },
                {
                  "0": "61",
                  "1": "2430"
                },
                {
                  "0": "61",
                  "1": "3663"
                },
                {
                  "0": "61",
                  "1": "112"
                },
                {
                  "0": "61",
                  "1": "1329"
                },
                {
                  "0": "61",
                  "1": "2655"
                },
                {
                  "0": "61",
                  "1": "4196"
                },
                {
                  "0": "64",
                  "1": "48"
                },
                {
                  "0": "64",
                  "1": "2240"
                },
                {
                  "0": "64",
                  "1": "2551"
                },
                {
                  "0": "64",
                  "1": "263"
                },
                {
                  "0": "64",
                  "1": "3352"
                },
                {
                  "0": "64",
                  "1": "3779"
                },
                {
                  "0": "64",
                  "1": "1447"
                },
                {
                  "0": "64",
                  "1": "3039"
                },
                {
                  "0": "64",
                  "1": "1140"
                },
                {
                  "0": "64",
                  "1": "169"
                },
                {
                  "0": "64",
                  "1": "1397"
                },
                {
                  "0": "64",
                  "1": "2229"
                },
                {
                  "0": "70",
                  "1": "1911"
                },
                {
                  "0": "70",
                  "1": "4109"
                },
                {
                  "0": "70",
                  "1": "1189"
                },
                {
                  "0": "70",
                  "1": "3645"
                },
                {
                  "0": "70",
                  "1": "3514"
                },
                {
                  "0": "70",
                  "1": "226"
                },
                {
                  "0": "70",
                  "1": "19"
                },
                {
                  "0": "70",
                  "1": "2549"
                },
                {
                  "0": "70",
                  "1": "2648"
                },
                {
                  "0": "70",
                  "1": "4317"
                },
                {
                  "0": "70",
                  "1": "1564"
                },
                {
                  "0": "88",
                  "1": "808"
                },
                {
                  "0": "88",
                  "1": "2461"
                },
                {
                  "0": "88",
                  "1": "1062"
                },
                {
                  "0": "88",
                  "1": "3551"
                },
                {
                  "0": "88",
                  "1": "3231"
                },
                {
                  "0": "88",
                  "1": "1604"
                },
                {
                  "0": "88",
                  "1": "172"
                },
                {
                  "0": "88",
                  "1": "3004"
                },
                {
                  "0": "88",
                  "1": "7"
                },
                {
                  "0": "91",
                  "1": "6"
                },
                {
                  "0": "91",
                  "1": "607"
                },
                {
                  "0": "91",
                  "1": "2995"
                },
                {
                  "0": "91",
                  "1": "1757"
                },
                {
                  "0": "91",
                  "1": "1271"
                },
                {
                  "0": "91",
                  "1": "323"
                }
              ],
              "schema": [
                {
                  "key": "0",
                  "name": "CustomerId",
                  "type": "int"
                },
                {
                  "key": "1",
                  "name": "ProductId",
                  "type": "int"
                }
              ],
              "truncated": false
            },
            "isSummary": false,
            "language": "scala"
          },
          "persist_state": {
            "view": {
              "type": "details",
              "tableOptions": {},
              "chartOptions": {
                "chartType": "bar",
                "aggregationType": "sum",
                "categoryFieldKeys": [
                  "1"
                ],
                "seriesFieldKeys": [
                  "0"
                ],
                "isStacked": false
              }
            }
          }
        },
        "f2721992-bd62-4b9a-814f-dc3a5b487640": {
          "type": "Synapse.DataFrame",
          "sync_state": {
            "table": {
              "rows": [
                {
                  "0": "586682a8-db73-4e45-a376-c7553a44b248",
                  "1": "2",
                  "2": "610",
                  "3": "4",
                  "4": "35.790000000000000000",
                  "5": "157.4760000000000127151622564",
                  "6": "20170502",
                  "7": "53.63600000000000433075797446",
                  "8": "23",
                  "9": "17",
                  "10": "9559"
                },
                {
                  "0": "586682a8-db73-4e45-a376-c7553a44b248",
                  "1": "2",
                  "2": "1321",
                  "3": "3",
                  "4": "22.080000000000000000",
                  "5": "72.86400000000000588329385209",
                  "6": "20170502",
                  "7": "19.66800000000000158806301442",
                  "8": "23",
                  "9": "17",
                  "10": "9559"
                },
                {
                  "0": "586682a8-db73-4e45-a376-c7553a44b248",
                  "1": "2",
                  "2": "4364",
                  "3": "1",
                  "4": "16.150000000000000000",
                  "5": "17.76500000000000143440814782",
                  "6": "20170502",
                  "7": "5.896000000000000476063632959",
                  "8": "23",
                  "9": "17",
                  "10": "9559"
                },
                {
                  "0": "586682a8-db73-4e45-a376-c7553a44b248",
                  "1": "2",
                  "2": "4691",
                  "3": "2",
                  "4": "35.840000000000000000",
                  "5": "78.84800000000000636646291241",
                  "6": "20170502",
                  "7": "24.20000000000000195399252334",
                  "8": "23",
                  "9": "17",
                  "10": "9559"
                },
                {
                  "0": "586682a8-db73-4e45-a376-c7553a44b248",
                  "1": "2",
                  "2": "4691",
                  "3": "3",
                  "4": "35.840000000000000000",
                  "5": "118.2720000000000095496943686",
                  "6": "20170502",
                  "7": "36.30000000000000293098878501",
                  "8": "23",
                  "9": "17",
                  "10": "9559"
                },
                {
                  "0": "586682a8-db73-4e45-a376-c7553a44b248",
                  "1": "2",
                  "2": "2392",
                  "3": "1",
                  "4": "32.900000000000000000",
                  "5": "36.19000000000000292210700081",
                  "6": "20170502",
                  "7": "10.41700000000000084110496346",
                  "8": "23",
                  "9": "17",
                  "10": "9559"
                },
                {
                  "0": "586682a8-db73-4e45-a376-c7553a44b248",
                  "1": "2",
                  "2": "1347",
                  "3": "2",
                  "4": "21.810000000000000000",
                  "5": "47.98200000000000387423426673",
                  "6": "20170502",
                  "7": "12.82600000000000103561603737",
                  "8": "23",
                  "9": "17",
                  "10": "9559"
                },
                {
                  "0": "586682a8-db73-4e45-a376-c7553a44b248",
                  "1": "2",
                  "2": "402",
                  "3": "2",
                  "4": "25.090000000000000000",
                  "5": "55.19800000000000445687931006",
                  "6": "20170502",
                  "7": "12.84800000000000103739239421",
                  "8": "23",
                  "9": "17",
                  "10": "9559"
                },
                {
                  "0": "586682a8-db73-4e45-a376-c7553a44b248",
                  "1": "2",
                  "2": "56",
                  "3": "3",
                  "4": "33.300000000000000000",
                  "5": "109.8900000000000088729024128",
                  "6": "20170502",
                  "7": "29.43600000000000237676545112",
                  "8": "23",
                  "9": "17",
                  "10": "9559"
                },
                {
                  "0": "586682a8-db73-4e45-a376-c7553a44b248",
                  "1": "2",
                  "2": "157",
                  "3": "2",
                  "4": "28.870000000000000000",
                  "5": "63.51400000000000512834219535",
                  "6": "20170502",
                  "7": "14.43200000000000116529008665",
                  "8": "23",
                  "9": "17",
                  "10": "9559"
                }
              ],
              "schema": [
                {
                  "key": "0",
                  "name": "TransactionId",
                  "type": "string"
                },
                {
                  "key": "1",
                  "name": "CustomerId",
                  "type": "string"
                },
                {
                  "key": "2",
                  "name": "ProductId",
                  "type": "string"
                },
                {
                  "key": "3",
                  "name": "Quantity",
                  "type": "string"
                },
                {
                  "key": "4",
                  "name": "Price",
                  "type": "string"
                },
                {
                  "key": "5",
                  "name": "TotalAmount",
                  "type": "string"
                },
                {
                  "key": "6",
                  "name": "TransactionDateId",
                  "type": "string"
                },
                {
                  "key": "7",
                  "name": "ProfitAmount",
                  "type": "string"
                },
                {
                  "key": "8",
                  "name": "Hour",
                  "type": "string"
                },
                {
                  "key": "9",
                  "name": "Minute",
                  "type": "string"
                },
                {
                  "key": "10",
                  "name": "StoreId",
                  "type": "string"
                }
              ],
              "truncated": false
            },
            "isSummary": false,
            "language": "scala"
          },
          "persist_state": {
            "view": {
              "type": "details",
              "tableOptions": {},
              "chartOptions": {
                "chartType": "bar",
                "aggregationType": "count",
                "categoryFieldKeys": [
                  "0"
                ],
                "seriesFieldKeys": [
                  "0"
                ],
                "isStacked": false
              }
            }
          }
        }
      }
    }
  },
  "nbformat": 4,
  "nbformat_minor": 2
}