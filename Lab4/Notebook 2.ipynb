{
  "cells": [
    {
      "cell_type": "code",
      "source": [
        "%%pyspark\r\n",
        "df = spark.read.load('abfss://wwi-02@asadatalakeic6nl8d.dfs.core.windows.net/sale-small/Year=2019/Quarter=Q4/Month=12/Day=20191231/sale-small-20191231-snappy.parquet', format='parquet')\r\n",
        "display(df.limit(10))\r\n",
        "\r\n",
        "datalake = 'asadatalakeic6nl8d'"
      ],
      "outputs": [
        {
          "output_type": "display_data",
          "data": {
            "application/vnd.livy.statement-meta+json": {
              "spark_pool": "SparkPool01",
              "session_id": 4,
              "statement_id": 1,
              "state": "finished",
              "livy_statement_state": "available",
              "queued_time": "2022-07-23T05:11:43.7822002Z",
              "session_start_time": "2022-07-23T05:11:43.8189982Z",
              "execution_start_time": "2022-07-23T05:14:44.5501208Z",
              "execution_finish_time": "2022-07-23T05:15:11.6683985Z"
            },
            "text/plain": "StatementMeta(SparkPool01, 4, 1, Finished, Available)"
          },
          "metadata": {}
        },
        {
          "output_type": "display_data",
          "data": {
            "application/vnd.synapse.widget-view+json": {
              "widget_id": "e66f26d4-b688-416c-b37b-55cd736d7fd3",
              "widget_type": "Synapse.DataFrame"
            },
            "text/plain": "SynapseWidget(Synapse.DataFrame, e66f26d4-b688-416c-b37b-55cd736d7fd3)"
          },
          "metadata": {}
        }
      ],
      "execution_count": 1,
      "metadata": {
        "microsoft": {
          "language": "python"
        },
        "collapsed": false
      }
    },
    {
      "cell_type": "code",
      "source": [
        "df.printSchema()"
      ],
      "outputs": [
        {
          "output_type": "display_data",
          "data": {
            "application/vnd.livy.statement-meta+json": {
              "spark_pool": "SparkPool01",
              "session_id": 4,
              "statement_id": 2,
              "state": "finished",
              "livy_statement_state": "available",
              "queued_time": "2022-07-23T05:16:23.8992037Z",
              "session_start_time": null,
              "execution_start_time": "2022-07-23T05:16:24.0551948Z",
              "execution_finish_time": "2022-07-23T05:16:24.2037926Z"
            },
            "text/plain": "StatementMeta(SparkPool01, 4, 2, Finished, Available)"
          },
          "metadata": {}
        },
        {
          "output_type": "stream",
          "name": "stdout",
          "text": [
            "root\n |-- TransactionId: string (nullable = true)\n |-- CustomerId: integer (nullable = true)\n |-- ProductId: short (nullable = true)\n |-- Quantity: byte (nullable = true)\n |-- Price: decimal(38,18) (nullable = true)\n |-- TotalAmount: decimal(38,18) (nullable = true)\n |-- TransactionDate: integer (nullable = true)\n |-- ProfitAmount: decimal(38,18) (nullable = true)\n |-- Hour: byte (nullable = true)\n |-- Minute: byte (nullable = true)\n |-- StoreId: short (nullable = true)\n\n"
          ]
        }
      ],
      "execution_count": 2,
      "metadata": {
        "jupyter": {
          "source_hidden": false,
          "outputs_hidden": false
        },
        "nteract": {
          "transient": {
            "deleting": false
          }
        }
      }
    },
    {
      "cell_type": "code",
      "source": [
        "from pyspark.sql import SparkSession\r\n",
        "from pyspark.sql.types import *\r\n",
        "from pyspark.sql.functions import *\r\n",
        "\r\n",
        "profitByDateProduct = (df.groupBy(\"TransactionDate\",\"ProductId\")\r\n",
        "    .agg(\r\n",
        "        sum(\"ProfitAmount\").alias(\"(sum)ProfitAmount\"),\r\n",
        "        round(avg(\"Quantity\"), 4).alias(\"(avg)Quantity\"),\r\n",
        "        sum(\"Quantity\").alias(\"(sum)Quantity\"))\r\n",
        "    .orderBy(\"TransactionDate\"))\r\n",
        "display(profitByDateProduct.limit(100))"
      ],
      "outputs": [
        {
          "output_type": "display_data",
          "data": {
            "application/vnd.livy.statement-meta+json": {
              "spark_pool": "SparkPool01",
              "session_id": 4,
              "statement_id": 3,
              "state": "finished",
              "livy_statement_state": "available",
              "queued_time": "2022-07-23T05:17:57.1858051Z",
              "session_start_time": null,
              "execution_start_time": "2022-07-23T05:17:57.3159565Z",
              "execution_finish_time": "2022-07-23T05:18:04.1514045Z"
            },
            "text/plain": "StatementMeta(SparkPool01, 4, 3, Finished, Available)"
          },
          "metadata": {}
        },
        {
          "output_type": "display_data",
          "data": {
            "application/vnd.synapse.widget-view+json": {
              "widget_id": "2ac4c67e-d014-4f5c-af38-78697a5b1603",
              "widget_type": "Synapse.DataFrame"
            },
            "text/plain": "SynapseWidget(Synapse.DataFrame, 2ac4c67e-d014-4f5c-af38-78697a5b1603)"
          },
          "metadata": {}
        }
      ],
      "execution_count": 3,
      "metadata": {
        "jupyter": {
          "source_hidden": false,
          "outputs_hidden": false
        },
        "nteract": {
          "transient": {
            "deleting": false
          }
        },
        "collapsed": false
      }
    },
    {
      "cell_type": "code",
      "source": [
        "df = (spark.read \\\r\n",
        "        .option('inferSchema', 'true') \\\r\n",
        "        .json('abfss://wwi-02@' + datalake + '.dfs.core.windows.net/online-user-profiles-02/*.json', multiLine=True)\r\n",
        "    )\r\n",
        "\r\n",
        "df.printSchema()"
      ],
      "outputs": [
        {
          "output_type": "display_data",
          "data": {
            "application/vnd.livy.statement-meta+json": {
              "spark_pool": "SparkPool01",
              "session_id": 4,
              "statement_id": 4,
              "state": "finished",
              "livy_statement_state": "available",
              "queued_time": "2022-07-23T05:22:50.8836769Z",
              "session_start_time": null,
              "execution_start_time": "2022-07-23T05:22:51.0414471Z",
              "execution_finish_time": "2022-07-23T05:22:56.2959685Z"
            },
            "text/plain": "StatementMeta(SparkPool01, 4, 4, Finished, Available)"
          },
          "metadata": {}
        },
        {
          "output_type": "stream",
          "name": "stdout",
          "text": [
            "root\n |-- topProductPurchases: array (nullable = true)\n |    |-- element: struct (containsNull = true)\n |    |    |-- itemsPurchasedLast12Months: long (nullable = true)\n |    |    |-- productId: long (nullable = true)\n |-- visitorId: long (nullable = true)\n\n"
          ]
        }
      ],
      "execution_count": 4,
      "metadata": {
        "jupyter": {
          "source_hidden": false,
          "outputs_hidden": false
        },
        "nteract": {
          "transient": {
            "deleting": false
          }
        }
      }
    },
    {
      "cell_type": "code",
      "source": [
        "# create a view called user_profiles\r\n",
        "df.createOrReplaceTempView(\"user_profiles\")"
      ],
      "outputs": [
        {
          "output_type": "display_data",
          "data": {
            "application/vnd.livy.statement-meta+json": {
              "spark_pool": "SparkPool01",
              "session_id": 4,
              "statement_id": 5,
              "state": "finished",
              "livy_statement_state": "available",
              "queued_time": "2022-07-23T05:23:52.8848697Z",
              "session_start_time": null,
              "execution_start_time": "2022-07-23T05:23:52.9895034Z",
              "execution_finish_time": "2022-07-23T05:23:53.4928211Z"
            },
            "text/plain": "StatementMeta(SparkPool01, 4, 5, Finished, Available)"
          },
          "metadata": {}
        }
      ],
      "execution_count": 5,
      "metadata": {
        "jupyter": {
          "source_hidden": false,
          "outputs_hidden": false
        },
        "nteract": {
          "transient": {
            "deleting": false
          }
        }
      }
    },
    {
      "cell_type": "code",
      "source": [
        "%%sql\r\n",
        "\r\n",
        "SELECT * FROM user_profiles LIMIT 10"
      ],
      "outputs": [
        {
          "output_type": "display_data",
          "data": {
            "application/vnd.livy.statement-meta+json": {
              "spark_pool": "SparkPool01",
              "session_id": 4,
              "statement_id": 6,
              "state": "finished",
              "livy_statement_state": "available",
              "queued_time": "2022-07-23T05:24:06.9064096Z",
              "session_start_time": null,
              "execution_start_time": "2022-07-23T05:24:07.0082231Z",
              "execution_finish_time": "2022-07-23T05:24:23.5930198Z"
            },
            "text/plain": "StatementMeta(SparkPool01, 4, 6, Finished, Available)"
          },
          "metadata": {}
        },
        {
          "output_type": "execute_result",
          "execution_count": 6,
          "data": {
            "application/vnd.synapse.sparksql-result+json": {
              "schema": {
                "type": "struct",
                "fields": [
                  {
                    "name": "topProductPurchases",
                    "type": {
                      "type": "array",
                      "elementType": {
                        "type": "struct",
                        "fields": [
                          {
                            "name": "itemsPurchasedLast12Months",
                            "type": "long",
                            "nullable": true,
                            "metadata": {}
                          },
                          {
                            "name": "productId",
                            "type": "long",
                            "nullable": true,
                            "metadata": {}
                          }
                        ]
                      },
                      "containsNull": true
                    },
                    "nullable": true,
                    "metadata": {}
                  },
                  {
                    "name": "visitorId",
                    "type": "long",
                    "nullable": true,
                    "metadata": {}
                  }
                ]
              },
              "data": [
                [
                  [
                    {
                      "schema": [
                        {
                          "name": "itemsPurchasedLast12Months",
                          "dataType": {},
                          "nullable": true,
                          "metadata": {
                            "map": {}
                          }
                        },
                        {
                          "name": "productId",
                          "dataType": {},
                          "nullable": true,
                          "metadata": {
                            "map": {}
                          }
                        }
                      ],
                      "values": [
                        "13",
                        "3623"
                      ]
                    },
                    {
                      "schema": [
                        {
                          "name": "itemsPurchasedLast12Months",
                          "dataType": {},
                          "nullable": true,
                          "metadata": {
                            "map": {}
                          }
                        },
                        {
                          "name": "productId",
                          "dataType": {},
                          "nullable": true,
                          "metadata": {
                            "map": {}
                          }
                        }
                      ],
                      "values": [
                        "5",
                        "2321"
                      ]
                    }
                  ],
                  "117000"
                ],
                [
                  [
                    {
                      "schema": [
                        {
                          "name": "itemsPurchasedLast12Months",
                          "dataType": {},
                          "nullable": true,
                          "metadata": {
                            "map": {}
                          }
                        },
                        {
                          "name": "productId",
                          "dataType": {},
                          "nullable": true,
                          "metadata": {
                            "map": {}
                          }
                        }
                      ],
                      "values": [
                        "93",
                        "713"
                      ]
                    },
                    {
                      "schema": [
                        {
                          "name": "itemsPurchasedLast12Months",
                          "dataType": {},
                          "nullable": true,
                          "metadata": {
                            "map": {}
                          }
                        },
                        {
                          "name": "productId",
                          "dataType": {},
                          "nullable": true,
                          "metadata": {
                            "map": {}
                          }
                        }
                      ],
                      "values": [
                        "19",
                        "2144"
                      ]
                    },
                    {
                      "schema": [
                        {
                          "name": "itemsPurchasedLast12Months",
                          "dataType": {},
                          "nullable": true,
                          "metadata": {
                            "map": {}
                          }
                        },
                        {
                          "name": "productId",
                          "dataType": {},
                          "nullable": true,
                          "metadata": {
                            "map": {}
                          }
                        }
                      ],
                      "values": [
                        "30",
                        "1094"
                      ]
                    },
                    {
                      "schema": [
                        {
                          "name": "itemsPurchasedLast12Months",
                          "dataType": {},
                          "nullable": true,
                          "metadata": {
                            "map": {}
                          }
                        },
                        {
                          "name": "productId",
                          "dataType": {},
                          "nullable": true,
                          "metadata": {
                            "map": {}
                          }
                        }
                      ],
                      "values": [
                        "82",
                        "3223"
                      ]
                    },
                    {
                      "schema": [
                        {
                          "name": "itemsPurchasedLast12Months",
                          "dataType": {},
                          "nullable": true,
                          "metadata": {
                            "map": {}
                          }
                        },
                        {
                          "name": "productId",
                          "dataType": {},
                          "nullable": true,
                          "metadata": {
                            "map": {}
                          }
                        }
                      ],
                      "values": [
                        "42",
                        "3328"
                      ]
                    },
                    {
                      "schema": [
                        {
                          "name": "itemsPurchasedLast12Months",
                          "dataType": {},
                          "nullable": true,
                          "metadata": {
                            "map": {}
                          }
                        },
                        {
                          "name": "productId",
                          "dataType": {},
                          "nullable": true,
                          "metadata": {
                            "map": {}
                          }
                        }
                      ],
                      "values": [
                        "62",
                        "2926"
                      ]
                    },
                    {
                      "schema": [
                        {
                          "name": "itemsPurchasedLast12Months",
                          "dataType": {},
                          "nullable": true,
                          "metadata": {
                            "map": {}
                          }
                        },
                        {
                          "name": "productId",
                          "dataType": {},
                          "nullable": true,
                          "metadata": {
                            "map": {}
                          }
                        }
                      ],
                      "values": [
                        "63",
                        "2651"
                      ]
                    },
                    {
                      "schema": [
                        {
                          "name": "itemsPurchasedLast12Months",
                          "dataType": {},
                          "nullable": true,
                          "metadata": {
                            "map": {}
                          }
                        },
                        {
                          "name": "productId",
                          "dataType": {},
                          "nullable": true,
                          "metadata": {
                            "map": {}
                          }
                        }
                      ],
                      "values": [
                        "39",
                        "341"
                      ]
                    },
                    {
                      "schema": [
                        {
                          "name": "itemsPurchasedLast12Months",
                          "dataType": {},
                          "nullable": true,
                          "metadata": {
                            "map": {}
                          }
                        },
                        {
                          "name": "productId",
                          "dataType": {},
                          "nullable": true,
                          "metadata": {
                            "map": {}
                          }
                        }
                      ],
                      "values": [
                        "85",
                        "4841"
                      ]
                    },
                    {
                      "schema": [
                        {
                          "name": "itemsPurchasedLast12Months",
                          "dataType": {},
                          "nullable": true,
                          "metadata": {
                            "map": {}
                          }
                        },
                        {
                          "name": "productId",
                          "dataType": {},
                          "nullable": true,
                          "metadata": {
                            "map": {}
                          }
                        }
                      ],
                      "values": [
                        "67",
                        "4289"
                      ]
                    },
                    {
                      "schema": [
                        {
                          "name": "itemsPurchasedLast12Months",
                          "dataType": {},
                          "nullable": true,
                          "metadata": {
                            "map": {}
                          }
                        },
                        {
                          "name": "productId",
                          "dataType": {},
                          "nullable": true,
                          "metadata": {
                            "map": {}
                          }
                        }
                      ],
                      "values": [
                        "42",
                        "1264"
                      ]
                    },
                    {
                      "schema": [
                        {
                          "name": "itemsPurchasedLast12Months",
                          "dataType": {},
                          "nullable": true,
                          "metadata": {
                            "map": {}
                          }
                        },
                        {
                          "name": "productId",
                          "dataType": {},
                          "nullable": true,
                          "metadata": {
                            "map": {}
                          }
                        }
                      ],
                      "values": [
                        "43",
                        "3608"
                      ]
                    },
                    {
                      "schema": [
                        {
                          "name": "itemsPurchasedLast12Months",
                          "dataType": {},
                          "nullable": true,
                          "metadata": {
                            "map": {}
                          }
                        },
                        {
                          "name": "productId",
                          "dataType": {},
                          "nullable": true,
                          "metadata": {
                            "map": {}
                          }
                        }
                      ],
                      "values": [
                        "14",
                        "504"
                      ]
                    },
                    {
                      "schema": [
                        {
                          "name": "itemsPurchasedLast12Months",
                          "dataType": {},
                          "nullable": true,
                          "metadata": {
                            "map": {}
                          }
                        },
                        {
                          "name": "productId",
                          "dataType": {},
                          "nullable": true,
                          "metadata": {
                            "map": {}
                          }
                        }
                      ],
                      "values": [
                        "97",
                        "2649"
                      ]
                    },
                    {
                      "schema": [
                        {
                          "name": "itemsPurchasedLast12Months",
                          "dataType": {},
                          "nullable": true,
                          "metadata": {
                            "map": {}
                          }
                        },
                        {
                          "name": "productId",
                          "dataType": {},
                          "nullable": true,
                          "metadata": {
                            "map": {}
                          }
                        }
                      ],
                      "values": [
                        "44",
                        "2873"
                      ]
                    },
                    {
                      "schema": [
                        {
                          "name": "itemsPurchasedLast12Months",
                          "dataType": {},
                          "nullable": true,
                          "metadata": {
                            "map": {}
                          }
                        },
                        {
                          "name": "productId",
                          "dataType": {},
                          "nullable": true,
                          "metadata": {
                            "map": {}
                          }
                        }
                      ],
                      "values": [
                        "7",
                        "4491"
                      ]
                    },
                    {
                      "schema": [
                        {
                          "name": "itemsPurchasedLast12Months",
                          "dataType": {},
                          "nullable": true,
                          "metadata": {
                            "map": {}
                          }
                        },
                        {
                          "name": "productId",
                          "dataType": {},
                          "nullable": true,
                          "metadata": {
                            "map": {}
                          }
                        }
                      ],
                      "values": [
                        "70",
                        "3623"
                      ]
                    },
                    {
                      "schema": [
                        {
                          "name": "itemsPurchasedLast12Months",
                          "dataType": {},
                          "nullable": true,
                          "metadata": {
                            "map": {}
                          }
                        },
                        {
                          "name": "productId",
                          "dataType": {},
                          "nullable": true,
                          "metadata": {
                            "map": {}
                          }
                        }
                      ],
                      "values": [
                        "4",
                        "4035"
                      ]
                    },
                    {
                      "schema": [
                        {
                          "name": "itemsPurchasedLast12Months",
                          "dataType": {},
                          "nullable": true,
                          "metadata": {
                            "map": {}
                          }
                        },
                        {
                          "name": "productId",
                          "dataType": {},
                          "nullable": true,
                          "metadata": {
                            "map": {}
                          }
                        }
                      ],
                      "values": [
                        "45",
                        "3576"
                      ]
                    }
                  ],
                  "117001"
                ],
                [
                  [
                    {
                      "schema": [
                        {
                          "name": "itemsPurchasedLast12Months",
                          "dataType": {},
                          "nullable": true,
                          "metadata": {
                            "map": {}
                          }
                        },
                        {
                          "name": "productId",
                          "dataType": {},
                          "nullable": true,
                          "metadata": {
                            "map": {}
                          }
                        }
                      ],
                      "values": [
                        "25",
                        "478"
                      ]
                    },
                    {
                      "schema": [
                        {
                          "name": "itemsPurchasedLast12Months",
                          "dataType": {},
                          "nullable": true,
                          "metadata": {
                            "map": {}
                          }
                        },
                        {
                          "name": "productId",
                          "dataType": {},
                          "nullable": true,
                          "metadata": {
                            "map": {}
                          }
                        }
                      ],
                      "values": [
                        "15",
                        "2515"
                      ]
                    },
                    {
                      "schema": [
                        {
                          "name": "itemsPurchasedLast12Months",
                          "dataType": {},
                          "nullable": true,
                          "metadata": {
                            "map": {}
                          }
                        },
                        {
                          "name": "productId",
                          "dataType": {},
                          "nullable": true,
                          "metadata": {
                            "map": {}
                          }
                        }
                      ],
                      "values": [
                        "34",
                        "209"
                      ]
                    },
                    {
                      "schema": [
                        {
                          "name": "itemsPurchasedLast12Months",
                          "dataType": {},
                          "nullable": true,
                          "metadata": {
                            "map": {}
                          }
                        },
                        {
                          "name": "productId",
                          "dataType": {},
                          "nullable": true,
                          "metadata": {
                            "map": {}
                          }
                        }
                      ],
                      "values": [
                        "60",
                        "4412"
                      ]
                    }
                  ],
                  "117002"
                ],
                [
                  [
                    {
                      "schema": [
                        {
                          "name": "itemsPurchasedLast12Months",
                          "dataType": {},
                          "nullable": true,
                          "metadata": {
                            "map": {}
                          }
                        },
                        {
                          "name": "productId",
                          "dataType": {},
                          "nullable": true,
                          "metadata": {
                            "map": {}
                          }
                        }
                      ],
                      "values": [
                        "72",
                        "2396"
                      ]
                    },
                    {
                      "schema": [
                        {
                          "name": "itemsPurchasedLast12Months",
                          "dataType": {},
                          "nullable": true,
                          "metadata": {
                            "map": {}
                          }
                        },
                        {
                          "name": "productId",
                          "dataType": {},
                          "nullable": true,
                          "metadata": {
                            "map": {}
                          }
                        }
                      ],
                      "values": [
                        "8",
                        "1862"
                      ]
                    },
                    {
                      "schema": [
                        {
                          "name": "itemsPurchasedLast12Months",
                          "dataType": {},
                          "nullable": true,
                          "metadata": {
                            "map": {}
                          }
                        },
                        {
                          "name": "productId",
                          "dataType": {},
                          "nullable": true,
                          "metadata": {
                            "map": {}
                          }
                        }
                      ],
                      "values": [
                        "96",
                        "720"
                      ]
                    },
                    {
                      "schema": [
                        {
                          "name": "itemsPurchasedLast12Months",
                          "dataType": {},
                          "nullable": true,
                          "metadata": {
                            "map": {}
                          }
                        },
                        {
                          "name": "productId",
                          "dataType": {},
                          "nullable": true,
                          "metadata": {
                            "map": {}
                          }
                        }
                      ],
                      "values": [
                        "93",
                        "3735"
                      ]
                    },
                    {
                      "schema": [
                        {
                          "name": "itemsPurchasedLast12Months",
                          "dataType": {},
                          "nullable": true,
                          "metadata": {
                            "map": {}
                          }
                        },
                        {
                          "name": "productId",
                          "dataType": {},
                          "nullable": true,
                          "metadata": {
                            "map": {}
                          }
                        }
                      ],
                      "values": [
                        "80",
                        "582"
                      ]
                    },
                    {
                      "schema": [
                        {
                          "name": "itemsPurchasedLast12Months",
                          "dataType": {},
                          "nullable": true,
                          "metadata": {
                            "map": {}
                          }
                        },
                        {
                          "name": "productId",
                          "dataType": {},
                          "nullable": true,
                          "metadata": {
                            "map": {}
                          }
                        }
                      ],
                      "values": [
                        "8",
                        "2566"
                      ]
                    },
                    {
                      "schema": [
                        {
                          "name": "itemsPurchasedLast12Months",
                          "dataType": {},
                          "nullable": true,
                          "metadata": {
                            "map": {}
                          }
                        },
                        {
                          "name": "productId",
                          "dataType": {},
                          "nullable": true,
                          "metadata": {
                            "map": {}
                          }
                        }
                      ],
                      "values": [
                        "79",
                        "1895"
                      ]
                    },
                    {
                      "schema": [
                        {
                          "name": "itemsPurchasedLast12Months",
                          "dataType": {},
                          "nullable": true,
                          "metadata": {
                            "map": {}
                          }
                        },
                        {
                          "name": "productId",
                          "dataType": {},
                          "nullable": true,
                          "metadata": {
                            "map": {}
                          }
                        }
                      ],
                      "values": [
                        "97",
                        "1967"
                      ]
                    },
                    {
                      "schema": [
                        {
                          "name": "itemsPurchasedLast12Months",
                          "dataType": {},
                          "nullable": true,
                          "metadata": {
                            "map": {}
                          }
                        },
                        {
                          "name": "productId",
                          "dataType": {},
                          "nullable": true,
                          "metadata": {
                            "map": {}
                          }
                        }
                      ],
                      "values": [
                        "65",
                        "304"
                      ]
                    },
                    {
                      "schema": [
                        {
                          "name": "itemsPurchasedLast12Months",
                          "dataType": {},
                          "nullable": true,
                          "metadata": {
                            "map": {}
                          }
                        },
                        {
                          "name": "productId",
                          "dataType": {},
                          "nullable": true,
                          "metadata": {
                            "map": {}
                          }
                        }
                      ],
                      "values": [
                        "40",
                        "1127"
                      ]
                    },
                    {
                      "schema": [
                        {
                          "name": "itemsPurchasedLast12Months",
                          "dataType": {},
                          "nullable": true,
                          "metadata": {
                            "map": {}
                          }
                        },
                        {
                          "name": "productId",
                          "dataType": {},
                          "nullable": true,
                          "metadata": {
                            "map": {}
                          }
                        }
                      ],
                      "values": [
                        "94",
                        "1268"
                      ]
                    },
                    {
                      "schema": [
                        {
                          "name": "itemsPurchasedLast12Months",
                          "dataType": {},
                          "nullable": true,
                          "metadata": {
                            "map": {}
                          }
                        },
                        {
                          "name": "productId",
                          "dataType": {},
                          "nullable": true,
                          "metadata": {
                            "map": {}
                          }
                        }
                      ],
                      "values": [
                        "62",
                        "4832"
                      ]
                    },
                    {
                      "schema": [
                        {
                          "name": "itemsPurchasedLast12Months",
                          "dataType": {},
                          "nullable": true,
                          "metadata": {
                            "map": {}
                          }
                        },
                        {
                          "name": "productId",
                          "dataType": {},
                          "nullable": true,
                          "metadata": {
                            "map": {}
                          }
                        }
                      ],
                      "values": [
                        "73",
                        "2885"
                      ]
                    },
                    {
                      "schema": [
                        {
                          "name": "itemsPurchasedLast12Months",
                          "dataType": {},
                          "nullable": true,
                          "metadata": {
                            "map": {}
                          }
                        },
                        {
                          "name": "productId",
                          "dataType": {},
                          "nullable": true,
                          "metadata": {
                            "map": {}
                          }
                        }
                      ],
                      "values": [
                        "42",
                        "3746"
                      ]
                    },
                    {
                      "schema": [
                        {
                          "name": "itemsPurchasedLast12Months",
                          "dataType": {},
                          "nullable": true,
                          "metadata": {
                            "map": {}
                          }
                        },
                        {
                          "name": "productId",
                          "dataType": {},
                          "nullable": true,
                          "metadata": {
                            "map": {}
                          }
                        }
                      ],
                      "values": [
                        "70",
                        "3475"
                      ]
                    }
                  ],
                  "117003"
                ],
                [
                  [
                    {
                      "schema": [
                        {
                          "name": "itemsPurchasedLast12Months",
                          "dataType": {},
                          "nullable": true,
                          "metadata": {
                            "map": {}
                          }
                        },
                        {
                          "name": "productId",
                          "dataType": {},
                          "nullable": true,
                          "metadata": {
                            "map": {}
                          }
                        }
                      ],
                      "values": [
                        "34",
                        "2453"
                      ]
                    },
                    {
                      "schema": [
                        {
                          "name": "itemsPurchasedLast12Months",
                          "dataType": {},
                          "nullable": true,
                          "metadata": {
                            "map": {}
                          }
                        },
                        {
                          "name": "productId",
                          "dataType": {},
                          "nullable": true,
                          "metadata": {
                            "map": {}
                          }
                        }
                      ],
                      "values": [
                        "73",
                        "3989"
                      ]
                    },
                    {
                      "schema": [
                        {
                          "name": "itemsPurchasedLast12Months",
                          "dataType": {},
                          "nullable": true,
                          "metadata": {
                            "map": {}
                          }
                        },
                        {
                          "name": "productId",
                          "dataType": {},
                          "nullable": true,
                          "metadata": {
                            "map": {}
                          }
                        }
                      ],
                      "values": [
                        "33",
                        "2768"
                      ]
                    },
                    {
                      "schema": [
                        {
                          "name": "itemsPurchasedLast12Months",
                          "dataType": {},
                          "nullable": true,
                          "metadata": {
                            "map": {}
                          }
                        },
                        {
                          "name": "productId",
                          "dataType": {},
                          "nullable": true,
                          "metadata": {
                            "map": {}
                          }
                        }
                      ],
                      "values": [
                        "78",
                        "1128"
                      ]
                    }
                  ],
                  "117004"
                ],
                [
                  [
                    {
                      "schema": [
                        {
                          "name": "itemsPurchasedLast12Months",
                          "dataType": {},
                          "nullable": true,
                          "metadata": {
                            "map": {}
                          }
                        },
                        {
                          "name": "productId",
                          "dataType": {},
                          "nullable": true,
                          "metadata": {
                            "map": {}
                          }
                        }
                      ],
                      "values": [
                        "69",
                        "1564"
                      ]
                    },
                    {
                      "schema": [
                        {
                          "name": "itemsPurchasedLast12Months",
                          "dataType": {},
                          "nullable": true,
                          "metadata": {
                            "map": {}
                          }
                        },
                        {
                          "name": "productId",
                          "dataType": {},
                          "nullable": true,
                          "metadata": {
                            "map": {}
                          }
                        }
                      ],
                      "values": [
                        "24",
                        "936"
                      ]
                    },
                    {
                      "schema": [
                        {
                          "name": "itemsPurchasedLast12Months",
                          "dataType": {},
                          "nullable": true,
                          "metadata": {
                            "map": {}
                          }
                        },
                        {
                          "name": "productId",
                          "dataType": {},
                          "nullable": true,
                          "metadata": {
                            "map": {}
                          }
                        }
                      ],
                      "values": [
                        "99",
                        "1885"
                      ]
                    },
                    {
                      "schema": [
                        {
                          "name": "itemsPurchasedLast12Months",
                          "dataType": {},
                          "nullable": true,
                          "metadata": {
                            "map": {}
                          }
                        },
                        {
                          "name": "productId",
                          "dataType": {},
                          "nullable": true,
                          "metadata": {
                            "map": {}
                          }
                        }
                      ],
                      "values": [
                        "9",
                        "1737"
                      ]
                    },
                    {
                      "schema": [
                        {
                          "name": "itemsPurchasedLast12Months",
                          "dataType": {},
                          "nullable": true,
                          "metadata": {
                            "map": {}
                          }
                        },
                        {
                          "name": "productId",
                          "dataType": {},
                          "nullable": true,
                          "metadata": {
                            "map": {}
                          }
                        }
                      ],
                      "values": [
                        "96",
                        "4200"
                      ]
                    },
                    {
                      "schema": [
                        {
                          "name": "itemsPurchasedLast12Months",
                          "dataType": {},
                          "nullable": true,
                          "metadata": {
                            "map": {}
                          }
                        },
                        {
                          "name": "productId",
                          "dataType": {},
                          "nullable": true,
                          "metadata": {
                            "map": {}
                          }
                        }
                      ],
                      "values": [
                        "8",
                        "2020"
                      ]
                    },
                    {
                      "schema": [
                        {
                          "name": "itemsPurchasedLast12Months",
                          "dataType": {},
                          "nullable": true,
                          "metadata": {
                            "map": {}
                          }
                        },
                        {
                          "name": "productId",
                          "dataType": {},
                          "nullable": true,
                          "metadata": {
                            "map": {}
                          }
                        }
                      ],
                      "values": [
                        "74",
                        "4439"
                      ]
                    }
                  ],
                  "117005"
                ],
                [
                  [
                    {
                      "schema": [
                        {
                          "name": "itemsPurchasedLast12Months",
                          "dataType": {},
                          "nullable": true,
                          "metadata": {
                            "map": {}
                          }
                        },
                        {
                          "name": "productId",
                          "dataType": {},
                          "nullable": true,
                          "metadata": {
                            "map": {}
                          }
                        }
                      ],
                      "values": [
                        "55",
                        "3020"
                      ]
                    },
                    {
                      "schema": [
                        {
                          "name": "itemsPurchasedLast12Months",
                          "dataType": {},
                          "nullable": true,
                          "metadata": {
                            "map": {}
                          }
                        },
                        {
                          "name": "productId",
                          "dataType": {},
                          "nullable": true,
                          "metadata": {
                            "map": {}
                          }
                        }
                      ],
                      "values": [
                        "58",
                        "2379"
                      ]
                    },
                    {
                      "schema": [
                        {
                          "name": "itemsPurchasedLast12Months",
                          "dataType": {},
                          "nullable": true,
                          "metadata": {
                            "map": {}
                          }
                        },
                        {
                          "name": "productId",
                          "dataType": {},
                          "nullable": true,
                          "metadata": {
                            "map": {}
                          }
                        }
                      ],
                      "values": [
                        "45",
                        "4773"
                      ]
                    },
                    {
                      "schema": [
                        {
                          "name": "itemsPurchasedLast12Months",
                          "dataType": {},
                          "nullable": true,
                          "metadata": {
                            "map": {}
                          }
                        },
                        {
                          "name": "productId",
                          "dataType": {},
                          "nullable": true,
                          "metadata": {
                            "map": {}
                          }
                        }
                      ],
                      "values": [
                        "18",
                        "2042"
                      ]
                    },
                    {
                      "schema": [
                        {
                          "name": "itemsPurchasedLast12Months",
                          "dataType": {},
                          "nullable": true,
                          "metadata": {
                            "map": {}
                          }
                        },
                        {
                          "name": "productId",
                          "dataType": {},
                          "nullable": true,
                          "metadata": {
                            "map": {}
                          }
                        }
                      ],
                      "values": [
                        "28",
                        "4060"
                      ]
                    },
                    {
                      "schema": [
                        {
                          "name": "itemsPurchasedLast12Months",
                          "dataType": {},
                          "nullable": true,
                          "metadata": {
                            "map": {}
                          }
                        },
                        {
                          "name": "productId",
                          "dataType": {},
                          "nullable": true,
                          "metadata": {
                            "map": {}
                          }
                        }
                      ],
                      "values": [
                        "44",
                        "4214"
                      ]
                    },
                    {
                      "schema": [
                        {
                          "name": "itemsPurchasedLast12Months",
                          "dataType": {},
                          "nullable": true,
                          "metadata": {
                            "map": {}
                          }
                        },
                        {
                          "name": "productId",
                          "dataType": {},
                          "nullable": true,
                          "metadata": {
                            "map": {}
                          }
                        }
                      ],
                      "values": [
                        "1",
                        "2874"
                      ]
                    },
                    {
                      "schema": [
                        {
                          "name": "itemsPurchasedLast12Months",
                          "dataType": {},
                          "nullable": true,
                          "metadata": {
                            "map": {}
                          }
                        },
                        {
                          "name": "productId",
                          "dataType": {},
                          "nullable": true,
                          "metadata": {
                            "map": {}
                          }
                        }
                      ],
                      "values": [
                        "10",
                        "1091"
                      ]
                    },
                    {
                      "schema": [
                        {
                          "name": "itemsPurchasedLast12Months",
                          "dataType": {},
                          "nullable": true,
                          "metadata": {
                            "map": {}
                          }
                        },
                        {
                          "name": "productId",
                          "dataType": {},
                          "nullable": true,
                          "metadata": {
                            "map": {}
                          }
                        }
                      ],
                      "values": [
                        "58",
                        "4054"
                      ]
                    },
                    {
                      "schema": [
                        {
                          "name": "itemsPurchasedLast12Months",
                          "dataType": {},
                          "nullable": true,
                          "metadata": {
                            "map": {}
                          }
                        },
                        {
                          "name": "productId",
                          "dataType": {},
                          "nullable": true,
                          "metadata": {
                            "map": {}
                          }
                        }
                      ],
                      "values": [
                        "48",
                        "1339"
                      ]
                    },
                    {
                      "schema": [
                        {
                          "name": "itemsPurchasedLast12Months",
                          "dataType": {},
                          "nullable": true,
                          "metadata": {
                            "map": {}
                          }
                        },
                        {
                          "name": "productId",
                          "dataType": {},
                          "nullable": true,
                          "metadata": {
                            "map": {}
                          }
                        }
                      ],
                      "values": [
                        "77",
                        "3112"
                      ]
                    },
                    {
                      "schema": [
                        {
                          "name": "itemsPurchasedLast12Months",
                          "dataType": {},
                          "nullable": true,
                          "metadata": {
                            "map": {}
                          }
                        },
                        {
                          "name": "productId",
                          "dataType": {},
                          "nullable": true,
                          "metadata": {
                            "map": {}
                          }
                        }
                      ],
                      "values": [
                        "83",
                        "41"
                      ]
                    },
                    {
                      "schema": [
                        {
                          "name": "itemsPurchasedLast12Months",
                          "dataType": {},
                          "nullable": true,
                          "metadata": {
                            "map": {}
                          }
                        },
                        {
                          "name": "productId",
                          "dataType": {},
                          "nullable": true,
                          "metadata": {
                            "map": {}
                          }
                        }
                      ],
                      "values": [
                        "56",
                        "2100"
                      ]
                    }
                  ],
                  "117006"
                ],
                [
                  [
                    {
                      "schema": [
                        {
                          "name": "itemsPurchasedLast12Months",
                          "dataType": {},
                          "nullable": true,
                          "metadata": {
                            "map": {}
                          }
                        },
                        {
                          "name": "productId",
                          "dataType": {},
                          "nullable": true,
                          "metadata": {
                            "map": {}
                          }
                        }
                      ],
                      "values": [
                        "63",
                        "1988"
                      ]
                    },
                    {
                      "schema": [
                        {
                          "name": "itemsPurchasedLast12Months",
                          "dataType": {},
                          "nullable": true,
                          "metadata": {
                            "map": {}
                          }
                        },
                        {
                          "name": "productId",
                          "dataType": {},
                          "nullable": true,
                          "metadata": {
                            "map": {}
                          }
                        }
                      ],
                      "values": [
                        "77",
                        "817"
                      ]
                    },
                    {
                      "schema": [
                        {
                          "name": "itemsPurchasedLast12Months",
                          "dataType": {},
                          "nullable": true,
                          "metadata": {
                            "map": {}
                          }
                        },
                        {
                          "name": "productId",
                          "dataType": {},
                          "nullable": true,
                          "metadata": {
                            "map": {}
                          }
                        }
                      ],
                      "values": [
                        "5",
                        "921"
                      ]
                    },
                    {
                      "schema": [
                        {
                          "name": "itemsPurchasedLast12Months",
                          "dataType": {},
                          "nullable": true,
                          "metadata": {
                            "map": {}
                          }
                        },
                        {
                          "name": "productId",
                          "dataType": {},
                          "nullable": true,
                          "metadata": {
                            "map": {}
                          }
                        }
                      ],
                      "values": [
                        "23",
                        "2518"
                      ]
                    },
                    {
                      "schema": [
                        {
                          "name": "itemsPurchasedLast12Months",
                          "dataType": {},
                          "nullable": true,
                          "metadata": {
                            "map": {}
                          }
                        },
                        {
                          "name": "productId",
                          "dataType": {},
                          "nullable": true,
                          "metadata": {
                            "map": {}
                          }
                        }
                      ],
                      "values": [
                        "15",
                        "2743"
                      ]
                    }
                  ],
                  "117007"
                ],
                [
                  [
                    {
                      "schema": [
                        {
                          "name": "itemsPurchasedLast12Months",
                          "dataType": {},
                          "nullable": true,
                          "metadata": {
                            "map": {}
                          }
                        },
                        {
                          "name": "productId",
                          "dataType": {},
                          "nullable": true,
                          "metadata": {
                            "map": {}
                          }
                        }
                      ],
                      "values": [
                        "51",
                        "4385"
                      ]
                    },
                    {
                      "schema": [
                        {
                          "name": "itemsPurchasedLast12Months",
                          "dataType": {},
                          "nullable": true,
                          "metadata": {
                            "map": {}
                          }
                        },
                        {
                          "name": "productId",
                          "dataType": {},
                          "nullable": true,
                          "metadata": {
                            "map": {}
                          }
                        }
                      ],
                      "values": [
                        "77",
                        "3150"
                      ]
                    },
                    {
                      "schema": [
                        {
                          "name": "itemsPurchasedLast12Months",
                          "dataType": {},
                          "nullable": true,
                          "metadata": {
                            "map": {}
                          }
                        },
                        {
                          "name": "productId",
                          "dataType": {},
                          "nullable": true,
                          "metadata": {
                            "map": {}
                          }
                        }
                      ],
                      "values": [
                        "29",
                        "4636"
                      ]
                    },
                    {
                      "schema": [
                        {
                          "name": "itemsPurchasedLast12Months",
                          "dataType": {},
                          "nullable": true,
                          "metadata": {
                            "map": {}
                          }
                        },
                        {
                          "name": "productId",
                          "dataType": {},
                          "nullable": true,
                          "metadata": {
                            "map": {}
                          }
                        }
                      ],
                      "values": [
                        "42",
                        "3360"
                      ]
                    },
                    {
                      "schema": [
                        {
                          "name": "itemsPurchasedLast12Months",
                          "dataType": {},
                          "nullable": true,
                          "metadata": {
                            "map": {}
                          }
                        },
                        {
                          "name": "productId",
                          "dataType": {},
                          "nullable": true,
                          "metadata": {
                            "map": {}
                          }
                        }
                      ],
                      "values": [
                        "71",
                        "4868"
                      ]
                    },
                    {
                      "schema": [
                        {
                          "name": "itemsPurchasedLast12Months",
                          "dataType": {},
                          "nullable": true,
                          "metadata": {
                            "map": {}
                          }
                        },
                        {
                          "name": "productId",
                          "dataType": {},
                          "nullable": true,
                          "metadata": {
                            "map": {}
                          }
                        }
                      ],
                      "values": [
                        "29",
                        "481"
                      ]
                    },
                    {
                      "schema": [
                        {
                          "name": "itemsPurchasedLast12Months",
                          "dataType": {},
                          "nullable": true,
                          "metadata": {
                            "map": {}
                          }
                        },
                        {
                          "name": "productId",
                          "dataType": {},
                          "nullable": true,
                          "metadata": {
                            "map": {}
                          }
                        }
                      ],
                      "values": [
                        "78",
                        "842"
                      ]
                    },
                    {
                      "schema": [
                        {
                          "name": "itemsPurchasedLast12Months",
                          "dataType": {},
                          "nullable": true,
                          "metadata": {
                            "map": {}
                          }
                        },
                        {
                          "name": "productId",
                          "dataType": {},
                          "nullable": true,
                          "metadata": {
                            "map": {}
                          }
                        }
                      ],
                      "values": [
                        "15",
                        "4792"
                      ]
                    },
                    {
                      "schema": [
                        {
                          "name": "itemsPurchasedLast12Months",
                          "dataType": {},
                          "nullable": true,
                          "metadata": {
                            "map": {}
                          }
                        },
                        {
                          "name": "productId",
                          "dataType": {},
                          "nullable": true,
                          "metadata": {
                            "map": {}
                          }
                        }
                      ],
                      "values": [
                        "40",
                        "3929"
                      ]
                    }
                  ],
                  "117008"
                ],
                [
                  [
                    {
                      "schema": [
                        {
                          "name": "itemsPurchasedLast12Months",
                          "dataType": {},
                          "nullable": true,
                          "metadata": {
                            "map": {}
                          }
                        },
                        {
                          "name": "productId",
                          "dataType": {},
                          "nullable": true,
                          "metadata": {
                            "map": {}
                          }
                        }
                      ],
                      "values": [
                        "41",
                        "875"
                      ]
                    },
                    {
                      "schema": [
                        {
                          "name": "itemsPurchasedLast12Months",
                          "dataType": {},
                          "nullable": true,
                          "metadata": {
                            "map": {}
                          }
                        },
                        {
                          "name": "productId",
                          "dataType": {},
                          "nullable": true,
                          "metadata": {
                            "map": {}
                          }
                        }
                      ],
                      "values": [
                        "14",
                        "659"
                      ]
                    },
                    {
                      "schema": [
                        {
                          "name": "itemsPurchasedLast12Months",
                          "dataType": {},
                          "nullable": true,
                          "metadata": {
                            "map": {}
                          }
                        },
                        {
                          "name": "productId",
                          "dataType": {},
                          "nullable": true,
                          "metadata": {
                            "map": {}
                          }
                        }
                      ],
                      "values": [
                        "50",
                        "3519"
                      ]
                    }
                  ],
                  "117009"
                ]
              ]
            },
            "text/plain": "<Spark SQL result set with 10 rows and 2 fields>"
          },
          "metadata": {}
        }
      ],
      "execution_count": 6,
      "metadata": {
        "jupyter": {
          "source_hidden": false,
          "outputs_hidden": false
        },
        "nteract": {
          "transient": {
            "deleting": false
          }
        },
        "microsoft": {
          "language": "sparksql"
        },
        "collapsed": false
      }
    },
    {
      "cell_type": "code",
      "source": [
        "from pyspark.sql.functions import udf, explode\r\n",
        "\r\n",
        "flat=df.select('visitorId',explode('topProductPurchases').alias('topProductPurchases_flat'))\r\n",
        "flat.show(100)"
      ],
      "outputs": [
        {
          "output_type": "display_data",
          "data": {
            "application/vnd.livy.statement-meta+json": {
              "spark_pool": "SparkPool01",
              "session_id": 4,
              "statement_id": 7,
              "state": "finished",
              "livy_statement_state": "available",
              "queued_time": "2022-07-23T05:25:33.6987463Z",
              "session_start_time": null,
              "execution_start_time": "2022-07-23T05:25:33.8309163Z",
              "execution_finish_time": "2022-07-23T05:25:34.3886466Z"
            },
            "text/plain": "StatementMeta(SparkPool01, 4, 7, Finished, Available)"
          },
          "metadata": {}
        },
        {
          "output_type": "stream",
          "name": "stdout",
          "text": [
            "+---------+------------------------+\n|visitorId|topProductPurchases_flat|\n+---------+------------------------+\n|   117000|              [13, 3623]|\n|   117000|               [5, 2321]|\n|   117001|               [93, 713]|\n|   117001|              [19, 2144]|\n|   117001|              [30, 1094]|\n|   117001|              [82, 3223]|\n|   117001|              [42, 3328]|\n|   117001|              [62, 2926]|\n|   117001|              [63, 2651]|\n|   117001|               [39, 341]|\n|   117001|              [85, 4841]|\n|   117001|              [67, 4289]|\n|   117001|              [42, 1264]|\n|   117001|              [43, 3608]|\n|   117001|               [14, 504]|\n|   117001|              [97, 2649]|\n|   117001|              [44, 2873]|\n|   117001|               [7, 4491]|\n|   117001|              [70, 3623]|\n|   117001|               [4, 4035]|\n|   117001|              [45, 3576]|\n|   117002|               [25, 478]|\n|   117002|              [15, 2515]|\n|   117002|               [34, 209]|\n|   117002|              [60, 4412]|\n|   117003|              [72, 2396]|\n|   117003|               [8, 1862]|\n|   117003|               [96, 720]|\n|   117003|              [93, 3735]|\n|   117003|               [80, 582]|\n|   117003|               [8, 2566]|\n|   117003|              [79, 1895]|\n|   117003|              [97, 1967]|\n|   117003|               [65, 304]|\n|   117003|              [40, 1127]|\n|   117003|              [94, 1268]|\n|   117003|              [62, 4832]|\n|   117003|              [73, 2885]|\n|   117003|              [42, 3746]|\n|   117003|              [70, 3475]|\n|   117004|              [34, 2453]|\n|   117004|              [73, 3989]|\n|   117004|              [33, 2768]|\n|   117004|              [78, 1128]|\n|   117005|              [69, 1564]|\n|   117005|               [24, 936]|\n|   117005|              [99, 1885]|\n|   117005|               [9, 1737]|\n|   117005|              [96, 4200]|\n|   117005|               [8, 2020]|\n|   117005|              [74, 4439]|\n|   117006|              [55, 3020]|\n|   117006|              [58, 2379]|\n|   117006|              [45, 4773]|\n|   117006|              [18, 2042]|\n|   117006|              [28, 4060]|\n|   117006|              [44, 4214]|\n|   117006|               [1, 2874]|\n|   117006|              [10, 1091]|\n|   117006|              [58, 4054]|\n|   117006|              [48, 1339]|\n|   117006|              [77, 3112]|\n|   117006|                [83, 41]|\n|   117006|              [56, 2100]|\n|   117007|              [63, 1988]|\n|   117007|               [77, 817]|\n|   117007|                [5, 921]|\n|   117007|              [23, 2518]|\n|   117007|              [15, 2743]|\n|   117008|              [51, 4385]|\n|   117008|              [77, 3150]|\n|   117008|              [29, 4636]|\n|   117008|              [42, 3360]|\n|   117008|              [71, 4868]|\n|   117008|               [29, 481]|\n|   117008|               [78, 842]|\n|   117008|              [15, 4792]|\n|   117008|              [40, 3929]|\n|   117009|               [41, 875]|\n|   117009|               [14, 659]|\n|   117009|              [50, 3519]|\n|   117010|              [80, 1252]|\n|   117010|              [35, 3742]|\n|   117010|              [89, 1136]|\n|   117010|              [81, 1614]|\n|   117010|              [93, 4542]|\n|   117010|              [68, 3493]|\n|   117010|               [9, 2884]|\n|   117010|               [8, 2592]|\n|   117010|              [29, 4498]|\n|   117010|               [50, 585]|\n|   117010|              [96, 2262]|\n|   117010|              [28, 4746]|\n|   117011|              [79, 4648]|\n|   117011|              [85, 4169]|\n|   117012|              [45, 1994]|\n|   117012|               [71, 158]|\n|   117012|              [12, 4995]|\n|   117012|              [26, 2794]|\n|   117012|              [19, 1891]|\n+---------+------------------------+\nonly showing top 100 rows\n\n"
          ]
        }
      ],
      "execution_count": 7,
      "metadata": {
        "jupyter": {
          "source_hidden": false,
          "outputs_hidden": false
        },
        "nteract": {
          "transient": {
            "deleting": false
          }
        }
      }
    },
    {
      "cell_type": "code",
      "source": [
        "topPurchases = (flat.select('visitorId','topProductPurchases_flat.productId','topProductPurchases_flat.itemsPurchasedLast12Months')\r\n",
        "    .orderBy('visitorId'))\r\n",
        "\r\n",
        "topPurchases.show(100)"
      ],
      "outputs": [
        {
          "output_type": "display_data",
          "data": {
            "application/vnd.livy.statement-meta+json": {
              "spark_pool": "SparkPool01",
              "session_id": 4,
              "statement_id": 11,
              "state": "finished",
              "livy_statement_state": "available",
              "queued_time": "2022-07-23T05:37:26.1711726Z",
              "session_start_time": null,
              "execution_start_time": "2022-07-23T05:37:26.3192078Z",
              "execution_finish_time": "2022-07-23T05:37:28.06876Z"
            },
            "text/plain": "StatementMeta(SparkPool01, 4, 11, Finished, Available)"
          },
          "metadata": {}
        },
        {
          "output_type": "stream",
          "name": "stdout",
          "text": [
            "+---------+---------+--------------------------+\n|visitorId|productId|itemsPurchasedLast12Months|\n+---------+---------+--------------------------+\n|    80000|     3270|                         5|\n|    80000|     1330|                        78|\n|    80000|       93|                        86|\n|    80000|     4745|                        38|\n|    80000|     2481|                        63|\n|    80000|     4206|                        21|\n|    80000|     2488|                        31|\n|    80000|     4136|                        30|\n|    80000|      290|                        83|\n|    80000|     2859|                        54|\n|    80000|     3794|                        90|\n|    80000|      102|                        42|\n|    80000|     4198|                        92|\n|    80000|     4074|                        48|\n|    80000|      291|                        49|\n|    80000|     1362|                        18|\n|    80000|     2069|                        93|\n|    80000|     3122|                        33|\n|    80000|     3538|                        65|\n|    80000|     4024|                        35|\n|    80001|     2249|                        75|\n|    80001|       94|                        36|\n|    80001|     2226|                        67|\n|    80001|     1426|                        35|\n|    80001|     2910|                        44|\n|    80001|     1812|                        93|\n|    80001|     1053|                        12|\n|    80001|     3729|                        56|\n|    80001|     3586|                        36|\n|    80001|     3775|                        17|\n|    80001|      989|                        25|\n|    80001|     3773|                        42|\n|    80001|     4684|                         9|\n|    80001|     4105|                        11|\n|    80001|     4380|                        29|\n|    80001|     4999|                        51|\n|    80001|     4765|                        24|\n|    80001|     2010|                        47|\n|    80001|      231|                        88|\n|    80001|      106|                        37|\n|    80002|     1256|                        90|\n|    80002|     1916|                        41|\n|    80002|       49|                        34|\n|    80002|     3190|                        92|\n|    80002|     3708|                        30|\n|    80002|     4987|                        88|\n|    80002|      816|                        45|\n|    80002|     4377|                        70|\n|    80002|     3327|                        30|\n|    80002|     4254|                        30|\n|    80002|       38|                        46|\n|    80002|     2650|                        75|\n|    80002|      447|                        69|\n|    80002|     4076|                        12|\n|    80002|     4539|                         2|\n|    80003|     2692|                        38|\n|    80003|     3504|                        35|\n|    80003|     2192|                         8|\n|    80003|      295|                        91|\n|    80003|     1323|                        77|\n|    80003|     2975|                        36|\n|    80003|     2768|                        52|\n|    80003|      309|                         4|\n|    80003|     3201|                        83|\n|    80003|      638|                        97|\n|    80003|      696|                        82|\n|    80003|     2177|                        81|\n|    80004|     1964|                        75|\n|    80004|     3625|                        58|\n|    80004|     1249|                        56|\n|    80004|     2240|                         9|\n|    80004|     3798|                        82|\n|    80004|     4619|                        70|\n|    80004|       44|                        86|\n|    80004|     4684|                        63|\n|    80004|     3181|                        21|\n|    80004|     1528|                        78|\n|    80005|      660|                        72|\n|    80005|     3124|                         7|\n|    80005|     2678|                        14|\n|    80005|      705|                        45|\n|    80005|     1683|                         5|\n|    80005|     1102|                        75|\n|    80005|     4984|                        19|\n|    80005|     3689|                        45|\n|    80005|     3966|                        83|\n|    80005|      664|                        69|\n|    80005|     1732|                        75|\n|    80005|     2063|                        22|\n|    80005|     4678|                        84|\n|    80006|     4684|                         4|\n|    80006|     4388|                        37|\n|    80006|       21|                        62|\n|    80006|     4068|                        80|\n|    80006|     2133|                        94|\n|    80006|     4309|                        71|\n|    80007|     1893|                        82|\n|    80007|     3959|                        97|\n|    80007|     3093|                        38|\n|    80007|     1981|                        56|\n+---------+---------+--------------------------+\nonly showing top 100 rows\n\n"
          ]
        }
      ],
      "execution_count": 11,
      "metadata": {
        "jupyter": {
          "source_hidden": false,
          "outputs_hidden": false
        },
        "nteract": {
          "transient": {
            "deleting": false
          }
        }
      }
    },
    {
      "cell_type": "code",
      "source": [
        "# Let's order by the number of items purchased in the last 12 months\r\n",
        "sortedTopPurchases = topPurchases.orderBy(\"itemsPurchasedLast12Months\")\r\n",
        "\r\n",
        "display(sortedTopPurchases.limit(100))"
      ],
      "outputs": [
        {
          "output_type": "display_data",
          "data": {
            "application/vnd.livy.statement-meta+json": {
              "spark_pool": "SparkPool01",
              "session_id": 4,
              "statement_id": 12,
              "state": "finished",
              "livy_statement_state": "available",
              "queued_time": "2022-07-23T05:38:33.0628212Z",
              "session_start_time": null,
              "execution_start_time": "2022-07-23T05:38:33.1666326Z",
              "execution_finish_time": "2022-07-23T05:38:34.1959671Z"
            },
            "text/plain": "StatementMeta(SparkPool01, 4, 12, Finished, Available)"
          },
          "metadata": {}
        },
        {
          "output_type": "display_data",
          "data": {
            "application/vnd.synapse.widget-view+json": {
              "widget_id": "970349d1-87dd-45ae-aae2-8e1f4f755243",
              "widget_type": "Synapse.DataFrame"
            },
            "text/plain": "SynapseWidget(Synapse.DataFrame, 970349d1-87dd-45ae-aae2-8e1f4f755243)"
          },
          "metadata": {}
        }
      ],
      "execution_count": 12,
      "metadata": {
        "jupyter": {
          "source_hidden": false,
          "outputs_hidden": false
        },
        "nteract": {
          "transient": {
            "deleting": false
          }
        },
        "collapsed": false
      }
    },
    {
      "cell_type": "code",
      "source": [
        "sortedTopPurchases = (topPurchases\r\n",
        "    .orderBy( col(\"itemsPurchasedLast12Months\").desc() ))\r\n",
        "\r\n",
        "display(sortedTopPurchases.limit(100))"
      ],
      "outputs": [
        {
          "output_type": "display_data",
          "data": {
            "application/vnd.livy.statement-meta+json": {
              "spark_pool": "SparkPool01",
              "session_id": 4,
              "statement_id": 15,
              "state": "finished",
              "livy_statement_state": "available",
              "queued_time": "2022-07-23T05:39:48.0192098Z",
              "session_start_time": null,
              "execution_start_time": "2022-07-23T05:39:48.2368223Z",
              "execution_finish_time": "2022-07-23T05:39:49.3124179Z"
            },
            "text/plain": "StatementMeta(SparkPool01, 4, 15, Finished, Available)"
          },
          "metadata": {}
        },
        {
          "output_type": "display_data",
          "data": {
            "application/vnd.synapse.widget-view+json": {
              "widget_id": "0f9d72b1-553a-4b30-97f1-56f08346ecef",
              "widget_type": "Synapse.DataFrame"
            },
            "text/plain": "SynapseWidget(Synapse.DataFrame, 0f9d72b1-553a-4b30-97f1-56f08346ecef)"
          },
          "metadata": {}
        }
      ],
      "execution_count": 15,
      "metadata": {
        "jupyter": {
          "source_hidden": false,
          "outputs_hidden": false
        },
        "nteract": {
          "transient": {
            "deleting": false
          }
        },
        "collapsed": false
      }
    },
    {
      "cell_type": "code",
      "source": [
        "groupedTopPurchases = (sortedTopPurchases.select(\"visitorId\")\r\n",
        "    .groupBy(\"visitorId\")\r\n",
        "    .agg(count(\"*\").alias(\"total\"))\r\n",
        "    .orderBy(\"visitorId\") )\r\n",
        "\r\n",
        "display(groupedTopPurchases.limit(100))"
      ],
      "outputs": [
        {
          "output_type": "display_data",
          "data": {
            "application/vnd.livy.statement-meta+json": {
              "spark_pool": "SparkPool01",
              "session_id": 4,
              "statement_id": 16,
              "state": "finished",
              "livy_statement_state": "available",
              "queued_time": "2022-07-23T05:40:20.5131693Z",
              "session_start_time": null,
              "execution_start_time": "2022-07-23T05:40:20.6563Z",
              "execution_finish_time": "2022-07-23T05:40:31.1095768Z"
            },
            "text/plain": "StatementMeta(SparkPool01, 4, 16, Finished, Available)"
          },
          "metadata": {}
        },
        {
          "output_type": "display_data",
          "data": {
            "application/vnd.synapse.widget-view+json": {
              "widget_id": "fd5f5b0a-174c-45b8-aeef-ae690dfaf79a",
              "widget_type": "Synapse.DataFrame"
            },
            "text/plain": "SynapseWidget(Synapse.DataFrame, fd5f5b0a-174c-45b8-aeef-ae690dfaf79a)"
          },
          "metadata": {}
        }
      ],
      "execution_count": 16,
      "metadata": {
        "jupyter": {
          "source_hidden": false,
          "outputs_hidden": false
        },
        "nteract": {
          "transient": {
            "deleting": false
          }
        },
        "collapsed": false
      }
    },
    {
      "cell_type": "code",
      "source": [
        "groupedTopPurchases = (sortedTopPurchases.select(\"visitorId\",\"itemsPurchasedLast12Months\")\r\n",
        "    .groupBy(\"visitorId\")\r\n",
        "    .agg(sum(\"itemsPurchasedLast12Months\").alias(\"totalItemsPurchased\"))\r\n",
        "    .orderBy(\"visitorId\") )\r\n",
        "\r\n",
        "display(groupedTopPurchases.limit(100))"
      ],
      "outputs": [
        {
          "output_type": "display_data",
          "data": {
            "application/vnd.livy.statement-meta+json": {
              "spark_pool": "SparkPool01",
              "session_id": 4,
              "statement_id": 17,
              "state": "finished",
              "livy_statement_state": "available",
              "queued_time": "2022-07-23T05:41:32.9137072Z",
              "session_start_time": null,
              "execution_start_time": "2022-07-23T05:41:33.0335538Z",
              "execution_finish_time": "2022-07-23T05:41:39.8587164Z"
            },
            "text/plain": "StatementMeta(SparkPool01, 4, 17, Finished, Available)"
          },
          "metadata": {}
        },
        {
          "output_type": "display_data",
          "data": {
            "application/vnd.synapse.widget-view+json": {
              "widget_id": "e4dc7f71-90b8-4519-9bb9-02819800bb8a",
              "widget_type": "Synapse.DataFrame"
            },
            "text/plain": "SynapseWidget(Synapse.DataFrame, e4dc7f71-90b8-4519-9bb9-02819800bb8a)"
          },
          "metadata": {}
        }
      ],
      "execution_count": 17,
      "metadata": {
        "jupyter": {
          "source_hidden": false,
          "outputs_hidden": false
        },
        "nteract": {
          "transient": {
            "deleting": false
          }
        },
        "collapsed": false
      }
    },
    {
      "cell_type": "code",
      "source": [
        "# Create a temporary view for top purchases so we can load from Scala\r\n",
        "topPurchases.createOrReplaceTempView(\"top_purchases\")"
      ],
      "outputs": [
        {
          "output_type": "display_data",
          "data": {
            "application/vnd.livy.statement-meta+json": {
              "spark_pool": "SparkPool01",
              "session_id": 4,
              "statement_id": 18,
              "state": "finished",
              "livy_statement_state": "available",
              "queued_time": "2022-07-23T05:44:13.1853832Z",
              "session_start_time": null,
              "execution_start_time": "2022-07-23T05:44:13.3979784Z",
              "execution_finish_time": "2022-07-23T05:44:13.5421952Z"
            },
            "text/plain": "StatementMeta(SparkPool01, 4, 18, Finished, Available)"
          },
          "metadata": {}
        }
      ],
      "execution_count": 18,
      "metadata": {
        "jupyter": {
          "source_hidden": false,
          "outputs_hidden": false
        },
        "nteract": {
          "transient": {
            "deleting": false
          }
        }
      }
    },
    {
      "cell_type": "code",
      "source": [
        "%%spark\r\n",
        "// Make sure the name of the dedcated SQL pool (SQLPool01 below) matches the name of your SQL pool.\r\n",
        "val df = spark.sqlContext.sql(\"select * from top_purchases\")\r\n",
        "df.write.synapsesql(\"SQLPool01.wwi.TopPurchases\", Constants.INTERNAL)"
      ],
      "outputs": [
        {
          "output_type": "display_data",
          "data": {
            "application/vnd.livy.statement-meta+json": {
              "spark_pool": "SparkPool01",
              "session_id": 4,
              "statement_id": 20,
              "state": "finished",
              "livy_statement_state": "available",
              "queued_time": "2022-07-23T05:44:46.5477812Z",
              "session_start_time": null,
              "execution_start_time": "2022-07-23T05:44:48.6450747Z",
              "execution_finish_time": "2022-07-23T05:46:05.0539382Z"
            },
            "text/plain": "StatementMeta(SparkPool01, 4, 20, Finished, Available)"
          },
          "metadata": {}
        },
        {
          "output_type": "stream",
          "name": "stdout",
          "text": [
            "df: org.apache.spark.sql.DataFrame = [visitorId: bigint, productId: bigint ... 1 more field]\n"
          ]
        }
      ],
      "execution_count": 19,
      "metadata": {
        "jupyter": {
          "source_hidden": false,
          "outputs_hidden": false
        },
        "nteract": {
          "transient": {
            "deleting": false
          }
        },
        "microsoft": {
          "language": "scala"
        }
      }
    },
    {
      "cell_type": "code",
      "source": [
        "dfsales = spark.read.load('abfss://wwi-02@' + datalake + '.dfs.core.windows.net/sale-small/Year=2019/Quarter=Q4/Month=12/*/*.parquet', format='parquet')\r\n",
        "display(dfsales.limit(10))"
      ],
      "outputs": [
        {
          "output_type": "display_data",
          "data": {
            "application/vnd.livy.statement-meta+json": {
              "spark_pool": "SparkPool01",
              "session_id": 4,
              "statement_id": 21,
              "state": "finished",
              "livy_statement_state": "available",
              "queued_time": "2022-07-23T05:50:21.276808Z",
              "session_start_time": null,
              "execution_start_time": "2022-07-23T05:50:21.4116386Z",
              "execution_finish_time": "2022-07-23T05:50:24.1167546Z"
            },
            "text/plain": "StatementMeta(SparkPool01, 4, 21, Finished, Available)"
          },
          "metadata": {}
        },
        {
          "output_type": "display_data",
          "data": {
            "application/vnd.synapse.widget-view+json": {
              "widget_id": "e69b1ca2-802f-4359-8d88-d669502e85c9",
              "widget_type": "Synapse.DataFrame"
            },
            "text/plain": "SynapseWidget(Synapse.DataFrame, e69b1ca2-802f-4359-8d88-d669502e85c9)"
          },
          "metadata": {}
        }
      ],
      "execution_count": 20,
      "metadata": {
        "jupyter": {
          "source_hidden": false,
          "outputs_hidden": false
        },
        "nteract": {
          "transient": {
            "deleting": false
          }
        },
        "collapsed": false
      }
    },
    {
      "cell_type": "code",
      "source": [
        "%%spark\r\n",
        "// Make sure the name of the SQL pool (SQLPool01 below) matches the name of your SQL pool.\r\n",
        "val df2 = spark.read.synapsesql(\"SQLPool01.wwi.TopPurchases\")\r\n",
        "df2.createTempView(\"top_purchases_sql\")\r\n",
        "\r\n",
        "df2.head(10)"
      ],
      "outputs": [
        {
          "output_type": "display_data",
          "data": {
            "application/vnd.livy.statement-meta+json": {
              "spark_pool": "SparkPool01",
              "session_id": 4,
              "statement_id": 22,
              "state": "finished",
              "livy_statement_state": "available",
              "queued_time": "2022-07-23T05:51:48.769716Z",
              "session_start_time": null,
              "execution_start_time": "2022-07-23T05:51:48.8789547Z",
              "execution_finish_time": "2022-07-23T05:51:54.0765155Z"
            },
            "text/plain": "StatementMeta(SparkPool01, 4, 22, Finished, Available)"
          },
          "metadata": {}
        },
        {
          "output_type": "stream",
          "name": "stdout",
          "text": [
            "df2: org.apache.spark.sql.DataFrame = [visitorId: bigint, productId: bigint ... 1 more field]\nres7: Array[org.apache.spark.sql.Row] = Array([81820,1815,73], [99313,1640,66], [81820,2442,45], [99313,4296,37], [81821,3292,36], [99313,1566,39], [81821,1126,40], [99313,3765,40], [81822,793,14], [99313,303,19])\n"
          ]
        }
      ],
      "execution_count": 21,
      "metadata": {
        "jupyter": {
          "source_hidden": false,
          "outputs_hidden": false
        },
        "nteract": {
          "transient": {
            "deleting": false
          }
        },
        "microsoft": {
          "language": "scala"
        }
      }
    },
    {
      "cell_type": "code",
      "source": [
        "dfTopPurchasesFromSql = sqlContext.table(\"top_purchases_sql\")\r\n",
        "\r\n",
        "display(dfTopPurchasesFromSql.limit(10))"
      ],
      "outputs": [
        {
          "output_type": "display_data",
          "data": {
            "application/vnd.livy.statement-meta+json": {
              "spark_pool": "SparkPool01",
              "session_id": 4,
              "statement_id": 23,
              "state": "finished",
              "livy_statement_state": "available",
              "queued_time": "2022-07-23T05:52:46.5453508Z",
              "session_start_time": null,
              "execution_start_time": "2022-07-23T05:52:46.644151Z",
              "execution_finish_time": "2022-07-23T05:52:50.6479289Z"
            },
            "text/plain": "StatementMeta(SparkPool01, 4, 23, Finished, Available)"
          },
          "metadata": {}
        },
        {
          "output_type": "display_data",
          "data": {
            "application/vnd.synapse.widget-view+json": {
              "widget_id": "bc117b05-5df2-48e6-b441-30fc21ef1d2d",
              "widget_type": "Synapse.DataFrame"
            },
            "text/plain": "SynapseWidget(Synapse.DataFrame, bc117b05-5df2-48e6-b441-30fc21ef1d2d)"
          },
          "metadata": {}
        }
      ],
      "execution_count": 22,
      "metadata": {
        "jupyter": {
          "source_hidden": false,
          "outputs_hidden": false
        },
        "nteract": {
          "transient": {
            "deleting": false
          }
        },
        "collapsed": false
      }
    },
    {
      "cell_type": "code",
      "source": [
        "inner_join = dfsales.join(dfTopPurchasesFromSql,\r\n",
        "    (dfsales.CustomerId == dfTopPurchasesFromSql.visitorId) & (dfsales.ProductId == dfTopPurchasesFromSql.productId))\r\n",
        "\r\n",
        "inner_join_agg = (inner_join.select(\"CustomerId\",\"TotalAmount\",\"Quantity\",\"itemsPurchasedLast12Months\",\"top_purchases_sql.productId\")\r\n",
        "    .groupBy([\"CustomerId\",\"top_purchases_sql.productId\"])\r\n",
        "    .agg(\r\n",
        "        sum(\"TotalAmount\").alias(\"TotalAmountDecember\"),\r\n",
        "        sum(\"Quantity\").alias(\"TotalQuantityDecember\"),\r\n",
        "        sum(\"itemsPurchasedLast12Months\").alias(\"TotalItemsPurchasedLast12Months\"))\r\n",
        "        .withColumn(\"TotalAmountDecember\",round(col(\"TotalAmountDecember\"),2))\r\n",
        "    .orderBy(\"CustomerId\") )\r\n",
        "\r\n",
        "display(inner_join_agg.limit(100))"
      ],
      "outputs": [
        {
          "output_type": "display_data",
          "data": {
            "application/vnd.livy.statement-meta+json": {
              "spark_pool": "SparkPool01",
              "session_id": 4,
              "statement_id": 30,
              "state": "finished",
              "livy_statement_state": "available",
              "queued_time": "2022-07-23T06:04:35.0361728Z",
              "session_start_time": null,
              "execution_start_time": "2022-07-23T06:04:35.1386642Z",
              "execution_finish_time": "2022-07-23T06:04:42.2670456Z"
            },
            "text/plain": "StatementMeta(SparkPool01, 4, 30, Finished, Available)"
          },
          "metadata": {}
        },
        {
          "output_type": "display_data",
          "data": {
            "application/vnd.synapse.widget-view+json": {
              "widget_id": "946ba556-e2ac-4cf5-b2c2-80a921e7d224",
              "widget_type": "Synapse.DataFrame"
            },
            "text/plain": "SynapseWidget(Synapse.DataFrame, 946ba556-e2ac-4cf5-b2c2-80a921e7d224)"
          },
          "metadata": {}
        }
      ],
      "execution_count": 29,
      "metadata": {
        "jupyter": {
          "source_hidden": false,
          "outputs_hidden": false
        },
        "nteract": {
          "transient": {
            "deleting": false
          }
        },
        "collapsed": false
      }
    }
  ],
  "metadata": {
    "language_info": {
      "name": "python"
    },
    "kernelspec": {
      "name": "synapse_pyspark",
      "language": "Python",
      "display_name": "Synapse PySpark"
    },
    "kernel_info": {
      "name": "synapse_pyspark"
    },
    "save_output": true,
    "synapse_widget": {
      "version": "0.1",
      "state": {
        "e66f26d4-b688-416c-b37b-55cd736d7fd3": {
          "type": "Synapse.DataFrame",
          "sync_state": {
            "table": {
              "rows": [
                {
                  "0": "7365e3cb-c098-4001-83ab-68693b87809d",
                  "1": "2",
                  "2": "829",
                  "3": 4,
                  "4": "30.500000000000000000",
                  "5": "122.000000000000000000",
                  "6": "20191231",
                  "7": "38.640000000000000000",
                  "8": 12,
                  "9": 52,
                  "10": "9559"
                },
                {
                  "0": "7365e3cb-c098-4001-83ab-68693b87809d",
                  "1": "2",
                  "2": "3683",
                  "3": 1,
                  "4": "34.440000000000000000",
                  "5": "34.440000000000000000",
                  "6": "20191231",
                  "7": "9.940000000000000000",
                  "8": 12,
                  "9": 52,
                  "10": "9559"
                },
                {
                  "0": "7365e3cb-c098-4001-83ab-68693b87809d",
                  "1": "2",
                  "2": "812",
                  "3": 1,
                  "4": "28.630000000000000000",
                  "5": "28.630000000000000000",
                  "6": "20191231",
                  "7": "7.200000000000000000",
                  "8": 12,
                  "9": 52,
                  "10": "9559"
                },
                {
                  "0": "7365e3cb-c098-4001-83ab-68693b87809d",
                  "1": "2",
                  "2": "117",
                  "3": 2,
                  "4": "25.500000000000000000",
                  "5": "51.000000000000000000",
                  "6": "20191231",
                  "7": "15.660000000000000000",
                  "8": 12,
                  "9": 52,
                  "10": "9559"
                },
                {
                  "0": "7365e3cb-c098-4001-83ab-68693b87809d",
                  "1": "2",
                  "2": "406",
                  "3": 3,
                  "4": "36.590000000000000000",
                  "5": "109.770000000000000000",
                  "6": "20191231",
                  "7": "34.710000000000000000",
                  "8": 12,
                  "9": 52,
                  "10": "9559"
                },
                {
                  "0": "7365e3cb-c098-4001-83ab-68693b87809d",
                  "1": "2",
                  "2": "231",
                  "3": 3,
                  "4": "25.580000000000000000",
                  "5": "76.740000000000000000",
                  "6": "20191231",
                  "7": "25.020000000000000000",
                  "8": 12,
                  "9": 52,
                  "10": "9559"
                },
                {
                  "0": "7365e3cb-c098-4001-83ab-68693b87809d",
                  "1": "2",
                  "2": "2689",
                  "3": 3,
                  "4": "24.000000000000000000",
                  "5": "72.000000000000000000",
                  "6": "20191231",
                  "7": "19.770000000000000000",
                  "8": 12,
                  "9": 52,
                  "10": "9559"
                },
                {
                  "0": "7365e3cb-c098-4001-83ab-68693b87809d",
                  "1": "2",
                  "2": "2095",
                  "3": 4,
                  "4": "32.380000000000000000",
                  "5": "129.520000000000000000",
                  "6": "20191231",
                  "7": "36.000000000000000000",
                  "8": 12,
                  "9": 52,
                  "10": "9559"
                },
                {
                  "0": "7365e3cb-c098-4001-83ab-68693b87809d",
                  "1": "2",
                  "2": "92",
                  "3": 1,
                  "4": "15.550000000000000000",
                  "5": "15.550000000000000000",
                  "6": "20191231",
                  "7": "4.730000000000000000",
                  "8": 12,
                  "9": 52,
                  "10": "9559"
                },
                {
                  "0": "7365e3cb-c098-4001-83ab-68693b87809d",
                  "1": "2",
                  "2": "1912",
                  "3": 1,
                  "4": "24.620000000000000000",
                  "5": "24.620000000000000000",
                  "6": "20191231",
                  "7": "7.390000000000000000",
                  "8": 12,
                  "9": 52,
                  "10": "9559"
                }
              ],
              "schema": [
                {
                  "key": "0",
                  "name": "TransactionId",
                  "type": "string"
                },
                {
                  "key": "1",
                  "name": "CustomerId",
                  "type": "int"
                },
                {
                  "key": "2",
                  "name": "ProductId",
                  "type": "smallint"
                },
                {
                  "key": "3",
                  "name": "Quantity",
                  "type": "tinyint"
                },
                {
                  "key": "4",
                  "name": "Price",
                  "type": "decimal"
                },
                {
                  "key": "5",
                  "name": "TotalAmount",
                  "type": "decimal"
                },
                {
                  "key": "6",
                  "name": "TransactionDate",
                  "type": "int"
                },
                {
                  "key": "7",
                  "name": "ProfitAmount",
                  "type": "decimal"
                },
                {
                  "key": "8",
                  "name": "Hour",
                  "type": "tinyint"
                },
                {
                  "key": "9",
                  "name": "Minute",
                  "type": "tinyint"
                },
                {
                  "key": "10",
                  "name": "StoreId",
                  "type": "smallint"
                }
              ],
              "truncated": false
            },
            "isSummary": false,
            "language": "scala"
          },
          "persist_state": {
            "view": {
              "type": "details",
              "tableOptions": {},
              "chartOptions": {
                "chartType": "bar",
                "aggregationType": "sum",
                "categoryFieldKeys": [
                  "2"
                ],
                "seriesFieldKeys": [
                  "5"
                ],
                "isStacked": false
              }
            }
          }
        },
        "2ac4c67e-d014-4f5c-af38-78697a5b1603": {
          "type": "Synapse.DataFrame",
          "sync_state": {
            "table": {
              "rows": [
                {
                  "0": "20191231",
                  "1": "124",
                  "2": "36910.720000000000000000",
                  "3": "2.4696",
                  "4": "5243"
                },
                {
                  "0": "20191231",
                  "1": "968",
                  "2": "3457.800000000000000000",
                  "3": "2.5714",
                  "4": "306"
                },
                {
                  "0": "20191231",
                  "1": "2049",
                  "2": "2823.360000000000000000",
                  "3": "2.4071",
                  "4": "272"
                },
                {
                  "0": "20191231",
                  "1": "2603",
                  "2": "18540.000000000000000000",
                  "3": "2.5253",
                  "4": "1500"
                },
                {
                  "0": "20191231",
                  "1": "4780",
                  "2": "15812.790000000000000000",
                  "3": "2.482",
                  "4": "1519"
                },
                {
                  "0": "20191231",
                  "1": "3651",
                  "2": "12611.700000000000000000",
                  "3": "2.5194",
                  "4": "1557"
                },
                {
                  "0": "20191231",
                  "1": "511",
                  "2": "2056.600000000000000000",
                  "3": "2.6804",
                  "4": "260"
                },
                {
                  "0": "20191231",
                  "1": "2778",
                  "2": "12398.320000000000000000",
                  "3": "2.4547",
                  "4": "1544"
                },
                {
                  "0": "20191231",
                  "1": "455",
                  "2": "2034.960000000000000000",
                  "3": "2.6522",
                  "4": "244"
                },
                {
                  "0": "20191231",
                  "1": "4457",
                  "2": "1733.200000000000000000",
                  "3": "2.4138",
                  "4": "280"
                },
                {
                  "0": "20191231",
                  "1": "1678",
                  "2": "2424.840000000000000000",
                  "3": "2.4694",
                  "4": "242"
                },
                {
                  "0": "20191231",
                  "1": "2579",
                  "2": "1998.880000000000000000",
                  "3": "2.4554",
                  "4": "248"
                },
                {
                  "0": "20191231",
                  "1": "4325",
                  "2": "1725.750000000000000000",
                  "3": "2.438",
                  "4": "295"
                },
                {
                  "0": "20191231",
                  "1": "4661",
                  "2": "2419.800000000000000000",
                  "3": "2.6371",
                  "4": "327"
                },
                {
                  "0": "20191231",
                  "1": "1159",
                  "2": "3039.000000000000000000",
                  "3": "2.521",
                  "4": "300"
                },
                {
                  "0": "20191231",
                  "1": "3251",
                  "2": "2659.020000000000000000",
                  "3": "2.4818",
                  "4": "273"
                },
                {
                  "0": "20191231",
                  "1": "4717",
                  "2": "2209.800000000000000000",
                  "3": "2.419",
                  "4": "254"
                },
                {
                  "0": "20191231",
                  "1": "3279",
                  "2": "2505.510000000000000000",
                  "3": "2.7196",
                  "4": "291"
                },
                {
                  "0": "20191231",
                  "1": "84",
                  "2": "40079.280000000000000000",
                  "3": "2.494",
                  "4": "5387"
                },
                {
                  "0": "20191231",
                  "1": "224",
                  "2": "61469.220000000000000000",
                  "3": "2.5074",
                  "4": "4754"
                },
                {
                  "0": "20191231",
                  "1": "2966",
                  "2": "2648.440000000000000000",
                  "3": "2.5391",
                  "4": "292"
                },
                {
                  "0": "20191231",
                  "1": "472",
                  "2": "15967.600000000000000000",
                  "3": "2.534",
                  "4": "1528"
                },
                {
                  "0": "20191231",
                  "1": "31",
                  "2": "44940.350000000000000000",
                  "3": "2.4736",
                  "4": "5395"
                },
                {
                  "0": "20191231",
                  "1": "254",
                  "2": "51838.680000000000000000",
                  "3": "2.4928",
                  "4": "5028"
                },
                {
                  "0": "20191231",
                  "1": "2677",
                  "2": "2863.300000000000000000",
                  "3": "2.4685",
                  "4": "274"
                },
                {
                  "0": "20191231",
                  "1": "1075",
                  "2": "2122.680000000000000000",
                  "3": "2.7222",
                  "4": "294"
                },
                {
                  "0": "20191231",
                  "1": "944",
                  "2": "2284.560000000000000000",
                  "3": "2.4516",
                  "4": "228"
                },
                {
                  "0": "20191231",
                  "1": "2265",
                  "2": "12190.750000000000000000",
                  "3": "2.5412",
                  "4": "1573"
                },
                {
                  "0": "20191231",
                  "1": "1260",
                  "2": "13817.730000000000000000",
                  "3": "2.4849",
                  "4": "1481"
                },
                {
                  "0": "20191231",
                  "1": "4639",
                  "2": "6200.790000000000000000",
                  "3": "2.4538",
                  "4": "1487"
                },
                {
                  "0": "20191231",
                  "1": "1578",
                  "2": "2065.020000000000000000",
                  "3": "2.4862",
                  "4": "271"
                },
                {
                  "0": "20191231",
                  "1": "4115",
                  "2": "2425.300000000000000000",
                  "3": "2.5164",
                  "4": "307"
                },
                {
                  "0": "20191231",
                  "1": "582",
                  "2": "2113.040000000000000000",
                  "3": "2.4898",
                  "4": "244"
                },
                {
                  "0": "20191231",
                  "1": "2807",
                  "2": "1786.050000000000000000",
                  "3": "2.6064",
                  "4": "245"
                },
                {
                  "0": "20191231",
                  "1": "3057",
                  "2": "1829.190000000000000000",
                  "3": "2.3861",
                  "4": "241"
                },
                {
                  "0": "20191231",
                  "1": "3058",
                  "2": "1356.420000000000000000",
                  "3": "2.3697",
                  "4": "282"
                },
                {
                  "0": "20191231",
                  "1": "3967",
                  "2": "1833.280000000000000000",
                  "3": "2.4727",
                  "4": "272"
                },
                {
                  "0": "20191231",
                  "1": "4189",
                  "2": "2182.700000000000000000",
                  "3": "2.5339",
                  "4": "299"
                },
                {
                  "0": "20191231",
                  "1": "2927",
                  "2": "2360.400000000000000000",
                  "3": "2.4649",
                  "4": "281"
                },
                {
                  "0": "20191231",
                  "1": "2934",
                  "2": "8042.320000000000000000",
                  "3": "2.4742",
                  "4": "1628"
                },
                {
                  "0": "20191231",
                  "1": "1714",
                  "2": "2762.320000000000000000",
                  "3": "2.5614",
                  "4": "292"
                },
                {
                  "0": "20191231",
                  "1": "4508",
                  "2": "9657.120000000000000000",
                  "3": "2.4759",
                  "4": "1488"
                },
                {
                  "0": "20191231",
                  "1": "206",
                  "2": "44350.150000000000000000",
                  "3": "2.4768",
                  "4": "4805"
                },
                {
                  "0": "20191231",
                  "1": "348",
                  "2": "12704.180000000000000000",
                  "3": "2.4675",
                  "4": "1594"
                },
                {
                  "0": "20191231",
                  "1": "3534",
                  "2": "12637.120000000000000000",
                  "3": "2.4374",
                  "4": "1616"
                },
                {
                  "0": "20191231",
                  "1": "4296",
                  "2": "2286.720000000000000000",
                  "3": "2.6182",
                  "4": "288"
                },
                {
                  "0": "20191231",
                  "1": "3698",
                  "2": "3399.480000000000000000",
                  "3": "2.5455",
                  "4": "252"
                },
                {
                  "0": "20191231",
                  "1": "768",
                  "2": "15691.360000000000000000",
                  "3": "2.5897",
                  "4": "1616"
                },
                {
                  "0": "20191231",
                  "1": "1725",
                  "2": "2970.400000000000000000",
                  "3": "2.5902",
                  "4": "316"
                },
                {
                  "0": "20191231",
                  "1": "1435",
                  "2": "1696.500000000000000000",
                  "3": "2.4124",
                  "4": "234"
                },
                {
                  "0": "20191231",
                  "1": "4724",
                  "2": "2070.750000000000000000",
                  "3": "2.4369",
                  "4": "251"
                },
                {
                  "0": "20191231",
                  "1": "1850",
                  "2": "2502.040000000000000000",
                  "3": "2.5357",
                  "4": "284"
                },
                {
                  "0": "20191231",
                  "1": "986",
                  "2": "1860.480000000000000000",
                  "3": "2.4918",
                  "4": "304"
                },
                {
                  "0": "20191231",
                  "1": "4883",
                  "2": "1928.640000000000000000",
                  "3": "2.625",
                  "4": "294"
                },
                {
                  "0": "20191231",
                  "1": "2742",
                  "2": "2155.860000000000000000",
                  "3": "2.4623",
                  "4": "261"
                },
                {
                  "0": "20191231",
                  "1": "1473",
                  "2": "1969.000000000000000000",
                  "3": "2.3913",
                  "4": "220"
                },
                {
                  "0": "20191231",
                  "1": "1918",
                  "2": "2391.040000000000000000",
                  "3": "2.4615",
                  "4": "256"
                },
                {
                  "0": "20191231",
                  "1": "3806",
                  "2": "2837.250000000000000000",
                  "3": "2.5",
                  "4": "325"
                },
                {
                  "0": "20191231",
                  "1": "1886",
                  "2": "1638.560000000000000000",
                  "3": "2.3937",
                  "4": "304"
                },
                {
                  "0": "20191231",
                  "1": "1841",
                  "2": "2026.650000000000000000",
                  "3": "2.5214",
                  "4": "295"
                },
                {
                  "0": "20191231",
                  "1": "1697",
                  "2": "2013.480000000000000000",
                  "3": "2.6355",
                  "4": "282"
                },
                {
                  "0": "20191231",
                  "1": "887",
                  "2": "1623.820000000000000000",
                  "3": "2.5208",
                  "4": "242"
                },
                {
                  "0": "20191231",
                  "1": "10",
                  "2": "18557.010000000000000000",
                  "3": "2.5057",
                  "4": "5029"
                },
                {
                  "0": "20191231",
                  "1": "2093",
                  "2": "17624.340000000000000000",
                  "3": "2.4751",
                  "4": "1641"
                },
                {
                  "0": "20191231",
                  "1": "2031",
                  "2": "2278.140000000000000000",
                  "3": "2.7158",
                  "4": "258"
                },
                {
                  "0": "20191231",
                  "1": "3400",
                  "2": "12121.200000000000000000",
                  "3": "2.5407",
                  "4": "1560"
                },
                {
                  "0": "20191231",
                  "1": "1720",
                  "2": "2870.000000000000000000",
                  "3": "2.5225",
                  "4": "280"
                },
                {
                  "0": "20191231",
                  "1": "2428",
                  "2": "18662.000000000000000000",
                  "3": "2.5337",
                  "4": "1505"
                },
                {
                  "0": "20191231",
                  "1": "2990",
                  "2": "9452.800000000000000000",
                  "3": "2.5076",
                  "4": "1477"
                },
                {
                  "0": "20191231",
                  "1": "1865",
                  "2": "1350.000000000000000000",
                  "3": "2.5962",
                  "4": "270"
                },
                {
                  "0": "20191231",
                  "1": "3659",
                  "2": "2285.280000000000000000",
                  "3": "2.5091",
                  "4": "276"
                },
                {
                  "0": "20191231",
                  "1": "506",
                  "2": "2801.550000000000000000",
                  "3": "2.6887",
                  "4": "285"
                },
                {
                  "0": "20191231",
                  "1": "1344",
                  "2": "2413.620000000000000000",
                  "3": "2.5039",
                  "4": "318"
                },
                {
                  "0": "20191231",
                  "1": "3551",
                  "2": "1996.170000000000000000",
                  "3": "2.53",
                  "4": "253"
                },
                {
                  "0": "20191231",
                  "1": "647",
                  "2": "3413.300000000000000000",
                  "3": "2.5893",
                  "4": "290"
                },
                {
                  "0": "20191231",
                  "1": "3358",
                  "2": "1300.420000000000000000",
                  "3": "2.4095",
                  "4": "253"
                },
                {
                  "0": "20191231",
                  "1": "1456",
                  "2": "2390.510000000000000000",
                  "3": "2.5413",
                  "4": "277"
                },
                {
                  "0": "20191231",
                  "1": "2439",
                  "2": "2235.750000000000000000",
                  "3": "2.5463",
                  "4": "275"
                },
                {
                  "0": "20191231",
                  "1": "2119",
                  "2": "2559.910000000000000000",
                  "3": "2.6019",
                  "4": "281"
                },
                {
                  "0": "20191231",
                  "1": "4792",
                  "2": "1992.150000000000000000",
                  "3": "2.3069",
                  "4": "233"
                },
                {
                  "0": "20191231",
                  "1": "1513",
                  "2": "1270.080000000000000000",
                  "3": "2.6916",
                  "4": "288"
                },
                {
                  "0": "20191231",
                  "1": "228",
                  "2": "48176.920000000000000000",
                  "3": "2.5144",
                  "4": "5401"
                },
                {
                  "0": "20191231",
                  "1": "170",
                  "2": "35421.760000000000000000",
                  "3": "2.5168",
                  "4": "5104"
                },
                {
                  "0": "20191231",
                  "1": "13",
                  "2": "79912.680000000000000000",
                  "3": "2.5039",
                  "4": "6738"
                },
                {
                  "0": "20191231",
                  "1": "35",
                  "2": "54838.720000000000000000",
                  "3": "2.5043",
                  "4": "6704"
                },
                {
                  "0": "20191231",
                  "1": "2899",
                  "2": "2600.320000000000000000",
                  "3": "2.3051",
                  "4": "272"
                },
                {
                  "0": "20191231",
                  "1": "633",
                  "2": "15993.600000000000000000",
                  "3": "2.4732",
                  "4": "1568"
                },
                {
                  "0": "20191231",
                  "1": "3901",
                  "2": "1067.430000000000000000",
                  "3": "2.6937",
                  "4": "299"
                },
                {
                  "0": "20191231",
                  "1": "1884",
                  "2": "13280.000000000000000000",
                  "3": "2.454",
                  "4": "1600"
                },
                {
                  "0": "20191231",
                  "1": "1145",
                  "2": "2162.400000000000000000",
                  "3": "2.3652",
                  "4": "272"
                },
                {
                  "0": "20191231",
                  "1": "1526",
                  "2": "12253.290000000000000000",
                  "3": "2.4953",
                  "4": "1577"
                },
                {
                  "0": "20191231",
                  "1": "1429",
                  "2": "1518.450000000000000000",
                  "3": "2.4766",
                  "4": "265"
                },
                {
                  "0": "20191231",
                  "1": "4554",
                  "2": "1822.100000000000000000",
                  "3": "2.4182",
                  "4": "266"
                },
                {
                  "0": "20191231",
                  "1": "4482",
                  "2": "3214.700000000000000000",
                  "3": "2.48",
                  "4": "310"
                },
                {
                  "0": "20191231",
                  "1": "1677",
                  "2": "2251.200000000000000000",
                  "3": "2.6415",
                  "4": "280"
                },
                {
                  "0": "20191231",
                  "1": "1510",
                  "2": "1960.200000000000000000",
                  "3": "2.4958",
                  "4": "297"
                },
                {
                  "0": "20191231",
                  "1": "1586",
                  "2": "1733.760000000000000000",
                  "3": "2.5545",
                  "4": "258"
                },
                {
                  "0": "20191231",
                  "1": "2696",
                  "2": "1824.130000000000000000",
                  "3": "2.4563",
                  "4": "253"
                },
                {
                  "0": "20191231",
                  "1": "25",
                  "2": "31497.120000000000000000",
                  "3": "2.536",
                  "4": "5706"
                },
                {
                  "0": "20191231",
                  "1": "1876",
                  "2": "2032.240000000000000000",
                  "3": "2.4404",
                  "4": "266"
                }
              ],
              "schema": [
                {
                  "key": "0",
                  "name": "TransactionDate",
                  "type": "int"
                },
                {
                  "key": "1",
                  "name": "ProductId",
                  "type": "smallint"
                },
                {
                  "key": "2",
                  "name": "(sum)ProfitAmount",
                  "type": "decimal"
                },
                {
                  "key": "3",
                  "name": "(avg)Quantity",
                  "type": "double"
                },
                {
                  "key": "4",
                  "name": "(sum)Quantity",
                  "type": "bigint"
                }
              ],
              "truncated": false
            },
            "isSummary": false,
            "language": "scala"
          },
          "persist_state": {
            "view": {
              "type": "details",
              "tableOptions": {},
              "chartOptions": {
                "chartType": "bar",
                "aggregationType": "sum",
                "categoryFieldKeys": [
                  "1"
                ],
                "seriesFieldKeys": [
                  "0"
                ],
                "isStacked": false
              }
            }
          }
        },
        "970349d1-87dd-45ae-aae2-8e1f4f755243": {
          "type": "Synapse.DataFrame",
          "sync_state": {
            "table": {
              "rows": [
                {
                  "0": "117880",
                  "1": "2809",
                  "2": "1"
                },
                {
                  "0": "106897",
                  "1": "1473",
                  "2": "1"
                },
                {
                  "0": "117881",
                  "1": "606",
                  "2": "1"
                },
                {
                  "0": "117869",
                  "1": "4669",
                  "2": "1"
                },
                {
                  "0": "117890",
                  "1": "4365",
                  "2": "1"
                },
                {
                  "0": "117006",
                  "1": "2874",
                  "2": "1"
                },
                {
                  "0": "117891",
                  "1": "4558",
                  "2": "1"
                },
                {
                  "0": "117021",
                  "1": "1701",
                  "2": "1"
                },
                {
                  "0": "117923",
                  "1": "2071",
                  "2": "1"
                },
                {
                  "0": "117029",
                  "1": "2089",
                  "2": "1"
                },
                {
                  "0": "117923",
                  "1": "415",
                  "2": "1"
                },
                {
                  "0": "117126",
                  "1": "211",
                  "2": "1"
                },
                {
                  "0": "117935",
                  "1": "4454",
                  "2": "1"
                },
                {
                  "0": "117151",
                  "1": "3246",
                  "2": "1"
                },
                {
                  "0": "117952",
                  "1": "4239",
                  "2": "1"
                },
                {
                  "0": "117157",
                  "1": "135",
                  "2": "1"
                },
                {
                  "0": "117954",
                  "1": "2238",
                  "2": "1"
                },
                {
                  "0": "117169",
                  "1": "1367",
                  "2": "1"
                },
                {
                  "0": "117971",
                  "1": "2896",
                  "2": "1"
                },
                {
                  "0": "117183",
                  "1": "3847",
                  "2": "1"
                },
                {
                  "0": "117977",
                  "1": "4456",
                  "2": "1"
                },
                {
                  "0": "117240",
                  "1": "4270",
                  "2": "1"
                },
                {
                  "0": "106005",
                  "1": "2569",
                  "2": "1"
                },
                {
                  "0": "117244",
                  "1": "4851",
                  "2": "1"
                },
                {
                  "0": "106010",
                  "1": "2417",
                  "2": "1"
                },
                {
                  "0": "117270",
                  "1": "503",
                  "2": "1"
                },
                {
                  "0": "106035",
                  "1": "1783",
                  "2": "1"
                },
                {
                  "0": "117334",
                  "1": "3946",
                  "2": "1"
                },
                {
                  "0": "106035",
                  "1": "1046",
                  "2": "1"
                },
                {
                  "0": "117089",
                  "1": "3102",
                  "2": "1"
                },
                {
                  "0": "106037",
                  "1": "3411",
                  "2": "1"
                },
                {
                  "0": "117044",
                  "1": "4323",
                  "2": "1"
                },
                {
                  "0": "106051",
                  "1": "233",
                  "2": "1"
                },
                {
                  "0": "117039",
                  "1": "4327",
                  "2": "1"
                },
                {
                  "0": "106053",
                  "1": "4384",
                  "2": "1"
                },
                {
                  "0": "117425",
                  "1": "1190",
                  "2": "1"
                },
                {
                  "0": "106057",
                  "1": "1495",
                  "2": "1"
                },
                {
                  "0": "117430",
                  "1": "1496",
                  "2": "1"
                },
                {
                  "0": "106069",
                  "1": "98",
                  "2": "1"
                },
                {
                  "0": "117440",
                  "1": "127",
                  "2": "1"
                },
                {
                  "0": "106069",
                  "1": "3879",
                  "2": "1"
                },
                {
                  "0": "117455",
                  "1": "3339",
                  "2": "1"
                },
                {
                  "0": "106069",
                  "1": "1888",
                  "2": "1"
                },
                {
                  "0": "117460",
                  "1": "4468",
                  "2": "1"
                },
                {
                  "0": "106070",
                  "1": "579",
                  "2": "1"
                },
                {
                  "0": "117471",
                  "1": "1830",
                  "2": "1"
                },
                {
                  "0": "106086",
                  "1": "2651",
                  "2": "1"
                },
                {
                  "0": "117490",
                  "1": "2478",
                  "2": "1"
                },
                {
                  "0": "106091",
                  "1": "2541",
                  "2": "1"
                },
                {
                  "0": "117516",
                  "1": "807",
                  "2": "1"
                },
                {
                  "0": "106097",
                  "1": "3869",
                  "2": "1"
                },
                {
                  "0": "117520",
                  "1": "3794",
                  "2": "1"
                },
                {
                  "0": "106097",
                  "1": "4589",
                  "2": "1"
                },
                {
                  "0": "117536",
                  "1": "1055",
                  "2": "1"
                },
                {
                  "0": "106098",
                  "1": "631",
                  "2": "1"
                },
                {
                  "0": "117565",
                  "1": "3205",
                  "2": "1"
                },
                {
                  "0": "106100",
                  "1": "3959",
                  "2": "1"
                },
                {
                  "0": "117572",
                  "1": "4286",
                  "2": "1"
                },
                {
                  "0": "106107",
                  "1": "1199",
                  "2": "1"
                },
                {
                  "0": "117614",
                  "1": "3845",
                  "2": "1"
                },
                {
                  "0": "106118",
                  "1": "1893",
                  "2": "1"
                },
                {
                  "0": "117618",
                  "1": "800",
                  "2": "1"
                },
                {
                  "0": "106128",
                  "1": "1760",
                  "2": "1"
                },
                {
                  "0": "117621",
                  "1": "3269",
                  "2": "1"
                },
                {
                  "0": "106131",
                  "1": "908",
                  "2": "1"
                },
                {
                  "0": "117622",
                  "1": "4744",
                  "2": "1"
                },
                {
                  "0": "106151",
                  "1": "291",
                  "2": "1"
                },
                {
                  "0": "117632",
                  "1": "1173",
                  "2": "1"
                },
                {
                  "0": "106167",
                  "1": "1463",
                  "2": "1"
                },
                {
                  "0": "117652",
                  "1": "4117",
                  "2": "1"
                },
                {
                  "0": "106175",
                  "1": "4258",
                  "2": "1"
                },
                {
                  "0": "117688",
                  "1": "4587",
                  "2": "1"
                },
                {
                  "0": "106186",
                  "1": "865",
                  "2": "1"
                },
                {
                  "0": "117695",
                  "1": "4031",
                  "2": "1"
                },
                {
                  "0": "106201",
                  "1": "4409",
                  "2": "1"
                },
                {
                  "0": "117757",
                  "1": "4511",
                  "2": "1"
                },
                {
                  "0": "106208",
                  "1": "1736",
                  "2": "1"
                },
                {
                  "0": "117780",
                  "1": "138",
                  "2": "1"
                },
                {
                  "0": "106220",
                  "1": "209",
                  "2": "1"
                },
                {
                  "0": "117803",
                  "1": "195",
                  "2": "1"
                },
                {
                  "0": "106230",
                  "1": "148",
                  "2": "1"
                },
                {
                  "0": "117814",
                  "1": "249",
                  "2": "1"
                },
                {
                  "0": "106233",
                  "1": "4552",
                  "2": "1"
                },
                {
                  "0": "117824",
                  "1": "1934",
                  "2": "1"
                },
                {
                  "0": "106246",
                  "1": "1984",
                  "2": "1"
                },
                {
                  "0": "117830",
                  "1": "67",
                  "2": "1"
                },
                {
                  "0": "106248",
                  "1": "1315",
                  "2": "1"
                },
                {
                  "0": "117842",
                  "1": "96",
                  "2": "1"
                },
                {
                  "0": "106271",
                  "1": "1639",
                  "2": "1"
                },
                {
                  "0": "106403",
                  "1": "2895",
                  "2": "1"
                },
                {
                  "0": "106894",
                  "1": "1280",
                  "2": "1"
                },
                {
                  "0": "106407",
                  "1": "2372",
                  "2": "1"
                },
                {
                  "0": "117395",
                  "1": "2673",
                  "2": "1"
                },
                {
                  "0": "106415",
                  "1": "2494",
                  "2": "1"
                },
                {
                  "0": "117407",
                  "1": "2015",
                  "2": "1"
                },
                {
                  "0": "106418",
                  "1": "3856",
                  "2": "1"
                },
                {
                  "0": "117147",
                  "1": "1860",
                  "2": "1"
                },
                {
                  "0": "106435",
                  "1": "2969",
                  "2": "1"
                },
                {
                  "0": "117373",
                  "1": "2064",
                  "2": "1"
                },
                {
                  "0": "106439",
                  "1": "4158",
                  "2": "1"
                }
              ],
              "schema": [
                {
                  "key": "0",
                  "name": "visitorId",
                  "type": "bigint"
                },
                {
                  "key": "1",
                  "name": "productId",
                  "type": "bigint"
                },
                {
                  "key": "2",
                  "name": "itemsPurchasedLast12Months",
                  "type": "bigint"
                }
              ],
              "truncated": false
            },
            "isSummary": false,
            "language": "scala"
          },
          "persist_state": {
            "view": {
              "type": "details",
              "tableOptions": {},
              "chartOptions": {
                "chartType": "bar",
                "aggregationType": "sum",
                "categoryFieldKeys": [
                  "1"
                ],
                "seriesFieldKeys": [
                  "0"
                ],
                "isStacked": false
              }
            }
          }
        },
        "0f9d72b1-553a-4b30-97f1-56f08346ecef": {
          "type": "Synapse.DataFrame",
          "sync_state": {
            "table": {
              "rows": [
                {
                  "0": "117901",
                  "1": "444",
                  "2": "99"
                },
                {
                  "0": "106847",
                  "1": "781",
                  "2": "99"
                },
                {
                  "0": "117914",
                  "1": "2002",
                  "2": "99"
                },
                {
                  "0": "117019",
                  "1": "1876",
                  "2": "99"
                },
                {
                  "0": "117916",
                  "1": "4523",
                  "2": "99"
                },
                {
                  "0": "117044",
                  "1": "4502",
                  "2": "99"
                },
                {
                  "0": "117919",
                  "1": "1686",
                  "2": "99"
                },
                {
                  "0": "117060",
                  "1": "1044",
                  "2": "99"
                },
                {
                  "0": "117930",
                  "1": "2590",
                  "2": "99"
                },
                {
                  "0": "117068",
                  "1": "3151",
                  "2": "99"
                },
                {
                  "0": "117939",
                  "1": "3828",
                  "2": "99"
                },
                {
                  "0": "117084",
                  "1": "912",
                  "2": "99"
                },
                {
                  "0": "117946",
                  "1": "511",
                  "2": "99"
                },
                {
                  "0": "117135",
                  "1": "2972",
                  "2": "99"
                },
                {
                  "0": "117951",
                  "1": "593",
                  "2": "99"
                },
                {
                  "0": "117179",
                  "1": "1569",
                  "2": "99"
                },
                {
                  "0": "117971",
                  "1": "37",
                  "2": "99"
                },
                {
                  "0": "117199",
                  "1": "2093",
                  "2": "99"
                },
                {
                  "0": "117973",
                  "1": "1395",
                  "2": "99"
                },
                {
                  "0": "117231",
                  "1": "1757",
                  "2": "99"
                },
                {
                  "0": "117989",
                  "1": "4820",
                  "2": "99"
                },
                {
                  "0": "117247",
                  "1": "2484",
                  "2": "99"
                },
                {
                  "0": "117991",
                  "1": "4362",
                  "2": "99"
                },
                {
                  "0": "117255",
                  "1": "2686",
                  "2": "99"
                },
                {
                  "0": "117996",
                  "1": "4071",
                  "2": "99"
                },
                {
                  "0": "117284",
                  "1": "499",
                  "2": "99"
                },
                {
                  "0": "117998",
                  "1": "3347",
                  "2": "99"
                },
                {
                  "0": "117287",
                  "1": "503",
                  "2": "99"
                },
                {
                  "0": "106004",
                  "1": "3853",
                  "2": "99"
                },
                {
                  "0": "117301",
                  "1": "2087",
                  "2": "99"
                },
                {
                  "0": "106006",
                  "1": "1862",
                  "2": "99"
                },
                {
                  "0": "117321",
                  "1": "4648",
                  "2": "99"
                },
                {
                  "0": "106011",
                  "1": "4345",
                  "2": "99"
                },
                {
                  "0": "117349",
                  "1": "442",
                  "2": "99"
                },
                {
                  "0": "106013",
                  "1": "1720",
                  "2": "99"
                },
                {
                  "0": "117358",
                  "1": "2458",
                  "2": "99"
                },
                {
                  "0": "106026",
                  "1": "3961",
                  "2": "99"
                },
                {
                  "0": "117376",
                  "1": "639",
                  "2": "99"
                },
                {
                  "0": "106028",
                  "1": "2604",
                  "2": "99"
                },
                {
                  "0": "117381",
                  "1": "177",
                  "2": "99"
                },
                {
                  "0": "106034",
                  "1": "4386",
                  "2": "99"
                },
                {
                  "0": "117404",
                  "1": "2068",
                  "2": "99"
                },
                {
                  "0": "106037",
                  "1": "1722",
                  "2": "99"
                },
                {
                  "0": "117420",
                  "1": "1000",
                  "2": "99"
                },
                {
                  "0": "106038",
                  "1": "3367",
                  "2": "99"
                },
                {
                  "0": "117421",
                  "1": "2789",
                  "2": "99"
                },
                {
                  "0": "106042",
                  "1": "1312",
                  "2": "99"
                },
                {
                  "0": "117423",
                  "1": "2067",
                  "2": "99"
                },
                {
                  "0": "106043",
                  "1": "3032",
                  "2": "99"
                },
                {
                  "0": "117427",
                  "1": "2355",
                  "2": "99"
                },
                {
                  "0": "106047",
                  "1": "4330",
                  "2": "99"
                },
                {
                  "0": "117435",
                  "1": "18",
                  "2": "99"
                },
                {
                  "0": "106051",
                  "1": "3441",
                  "2": "99"
                },
                {
                  "0": "117450",
                  "1": "2877",
                  "2": "99"
                },
                {
                  "0": "106053",
                  "1": "4679",
                  "2": "99"
                },
                {
                  "0": "117515",
                  "1": "1863",
                  "2": "99"
                },
                {
                  "0": "106056",
                  "1": "666",
                  "2": "99"
                },
                {
                  "0": "117582",
                  "1": "2404",
                  "2": "99"
                },
                {
                  "0": "106057",
                  "1": "2002",
                  "2": "99"
                },
                {
                  "0": "117591",
                  "1": "4721",
                  "2": "99"
                },
                {
                  "0": "106059",
                  "1": "4276",
                  "2": "99"
                },
                {
                  "0": "117608",
                  "1": "1628",
                  "2": "99"
                },
                {
                  "0": "106068",
                  "1": "1705",
                  "2": "99"
                },
                {
                  "0": "117620",
                  "1": "1806",
                  "2": "99"
                },
                {
                  "0": "106073",
                  "1": "3446",
                  "2": "99"
                },
                {
                  "0": "117629",
                  "1": "4549",
                  "2": "99"
                },
                {
                  "0": "106079",
                  "1": "3508",
                  "2": "99"
                },
                {
                  "0": "117644",
                  "1": "4188",
                  "2": "99"
                },
                {
                  "0": "106080",
                  "1": "2606",
                  "2": "99"
                },
                {
                  "0": "117689",
                  "1": "2760",
                  "2": "99"
                },
                {
                  "0": "106081",
                  "1": "9",
                  "2": "99"
                },
                {
                  "0": "117705",
                  "1": "2535",
                  "2": "99"
                },
                {
                  "0": "106087",
                  "1": "1944",
                  "2": "99"
                },
                {
                  "0": "117730",
                  "1": "4921",
                  "2": "99"
                },
                {
                  "0": "106088",
                  "1": "1376",
                  "2": "99"
                },
                {
                  "0": "117752",
                  "1": "3966",
                  "2": "99"
                },
                {
                  "0": "106094",
                  "1": "4651",
                  "2": "99"
                },
                {
                  "0": "117801",
                  "1": "4299",
                  "2": "99"
                },
                {
                  "0": "106098",
                  "1": "1617",
                  "2": "99"
                },
                {
                  "0": "117826",
                  "1": "4825",
                  "2": "99"
                },
                {
                  "0": "106100",
                  "1": "394",
                  "2": "99"
                },
                {
                  "0": "117835",
                  "1": "2190",
                  "2": "99"
                },
                {
                  "0": "106103",
                  "1": "3491",
                  "2": "99"
                },
                {
                  "0": "117870",
                  "1": "967",
                  "2": "99"
                },
                {
                  "0": "106138",
                  "1": "4254",
                  "2": "99"
                },
                {
                  "0": "117890",
                  "1": "4607",
                  "2": "99"
                },
                {
                  "0": "106140",
                  "1": "1427",
                  "2": "99"
                },
                {
                  "0": "117892",
                  "1": "4263",
                  "2": "99"
                },
                {
                  "0": "106154",
                  "1": "525",
                  "2": "99"
                },
                {
                  "0": "106231",
                  "1": "108",
                  "2": "99"
                },
                {
                  "0": "106846",
                  "1": "4299",
                  "2": "99"
                },
                {
                  "0": "106233",
                  "1": "1209",
                  "2": "99"
                },
                {
                  "0": "117035",
                  "1": "2568",
                  "2": "99"
                },
                {
                  "0": "106240",
                  "1": "4701",
                  "2": "99"
                },
                {
                  "0": "117068",
                  "1": "4441",
                  "2": "99"
                },
                {
                  "0": "106255",
                  "1": "159",
                  "2": "99"
                },
                {
                  "0": "117087",
                  "1": "3490",
                  "2": "99"
                },
                {
                  "0": "106258",
                  "1": "2714",
                  "2": "99"
                },
                {
                  "0": "117194",
                  "1": "4164",
                  "2": "99"
                },
                {
                  "0": "106283",
                  "1": "4745",
                  "2": "99"
                }
              ],
              "schema": [
                {
                  "key": "0",
                  "name": "visitorId",
                  "type": "bigint"
                },
                {
                  "key": "1",
                  "name": "productId",
                  "type": "bigint"
                },
                {
                  "key": "2",
                  "name": "itemsPurchasedLast12Months",
                  "type": "bigint"
                }
              ],
              "truncated": false
            },
            "isSummary": false,
            "language": "scala"
          },
          "persist_state": {
            "view": {
              "type": "details",
              "tableOptions": {},
              "chartOptions": {
                "chartType": "bar",
                "aggregationType": "sum",
                "categoryFieldKeys": [
                  "1"
                ],
                "seriesFieldKeys": [
                  "0"
                ],
                "isStacked": false
              }
            }
          }
        },
        "fd5f5b0a-174c-45b8-aeef-ae690dfaf79a": {
          "type": "Synapse.DataFrame",
          "sync_state": {
            "table": {
              "rows": [
                {
                  "0": "80000",
                  "1": "20"
                },
                {
                  "0": "80001",
                  "1": "20"
                },
                {
                  "0": "80002",
                  "1": "15"
                },
                {
                  "0": "80003",
                  "1": "12"
                },
                {
                  "0": "80004",
                  "1": "10"
                },
                {
                  "0": "80005",
                  "1": "13"
                },
                {
                  "0": "80006",
                  "1": "6"
                },
                {
                  "0": "80007",
                  "1": "18"
                },
                {
                  "0": "80008",
                  "1": "4"
                },
                {
                  "0": "80009",
                  "1": "16"
                },
                {
                  "0": "80010",
                  "1": "3"
                },
                {
                  "0": "80011",
                  "1": "17"
                },
                {
                  "0": "80012",
                  "1": "19"
                },
                {
                  "0": "80013",
                  "1": "6"
                },
                {
                  "0": "80014",
                  "1": "20"
                },
                {
                  "0": "80015",
                  "1": "12"
                },
                {
                  "0": "80016",
                  "1": "6"
                },
                {
                  "0": "80017",
                  "1": "1"
                },
                {
                  "0": "80018",
                  "1": "17"
                },
                {
                  "0": "80019",
                  "1": "14"
                },
                {
                  "0": "80020",
                  "1": "9"
                },
                {
                  "0": "80021",
                  "1": "18"
                },
                {
                  "0": "80022",
                  "1": "13"
                },
                {
                  "0": "80023",
                  "1": "10"
                },
                {
                  "0": "80024",
                  "1": "4"
                },
                {
                  "0": "80025",
                  "1": "13"
                },
                {
                  "0": "80026",
                  "1": "19"
                },
                {
                  "0": "80027",
                  "1": "13"
                },
                {
                  "0": "80028",
                  "1": "1"
                },
                {
                  "0": "80029",
                  "1": "4"
                },
                {
                  "0": "80030",
                  "1": "1"
                },
                {
                  "0": "80031",
                  "1": "9"
                },
                {
                  "0": "80032",
                  "1": "17"
                },
                {
                  "0": "80033",
                  "1": "8"
                },
                {
                  "0": "80034",
                  "1": "14"
                },
                {
                  "0": "80035",
                  "1": "11"
                },
                {
                  "0": "80036",
                  "1": "19"
                },
                {
                  "0": "80037",
                  "1": "10"
                },
                {
                  "0": "80038",
                  "1": "3"
                },
                {
                  "0": "80039",
                  "1": "4"
                },
                {
                  "0": "80040",
                  "1": "17"
                },
                {
                  "0": "80041",
                  "1": "6"
                },
                {
                  "0": "80042",
                  "1": "9"
                },
                {
                  "0": "80043",
                  "1": "2"
                },
                {
                  "0": "80044",
                  "1": "19"
                },
                {
                  "0": "80045",
                  "1": "6"
                },
                {
                  "0": "80046",
                  "1": "17"
                },
                {
                  "0": "80047",
                  "1": "4"
                },
                {
                  "0": "80048",
                  "1": "13"
                },
                {
                  "0": "80049",
                  "1": "16"
                },
                {
                  "0": "80050",
                  "1": "5"
                },
                {
                  "0": "80051",
                  "1": "17"
                },
                {
                  "0": "80052",
                  "1": "9"
                },
                {
                  "0": "80053",
                  "1": "4"
                },
                {
                  "0": "80054",
                  "1": "10"
                },
                {
                  "0": "80055",
                  "1": "18"
                },
                {
                  "0": "80056",
                  "1": "13"
                },
                {
                  "0": "80057",
                  "1": "9"
                },
                {
                  "0": "80058",
                  "1": "3"
                },
                {
                  "0": "80059",
                  "1": "14"
                },
                {
                  "0": "80060",
                  "1": "4"
                },
                {
                  "0": "80061",
                  "1": "6"
                },
                {
                  "0": "80062",
                  "1": "19"
                },
                {
                  "0": "80063",
                  "1": "3"
                },
                {
                  "0": "80064",
                  "1": "3"
                },
                {
                  "0": "80066",
                  "1": "4"
                },
                {
                  "0": "80067",
                  "1": "6"
                },
                {
                  "0": "80068",
                  "1": "5"
                },
                {
                  "0": "80069",
                  "1": "11"
                },
                {
                  "0": "80070",
                  "1": "8"
                },
                {
                  "0": "80071",
                  "1": "8"
                },
                {
                  "0": "80072",
                  "1": "5"
                },
                {
                  "0": "80073",
                  "1": "14"
                },
                {
                  "0": "80074",
                  "1": "12"
                },
                {
                  "0": "80075",
                  "1": "7"
                },
                {
                  "0": "80076",
                  "1": "12"
                },
                {
                  "0": "80077",
                  "1": "1"
                },
                {
                  "0": "80078",
                  "1": "6"
                },
                {
                  "0": "80079",
                  "1": "4"
                },
                {
                  "0": "80080",
                  "1": "19"
                },
                {
                  "0": "80081",
                  "1": "14"
                },
                {
                  "0": "80082",
                  "1": "15"
                },
                {
                  "0": "80083",
                  "1": "12"
                },
                {
                  "0": "80084",
                  "1": "5"
                },
                {
                  "0": "80086",
                  "1": "7"
                },
                {
                  "0": "80087",
                  "1": "1"
                },
                {
                  "0": "80088",
                  "1": "2"
                },
                {
                  "0": "80089",
                  "1": "9"
                },
                {
                  "0": "80090",
                  "1": "1"
                },
                {
                  "0": "80091",
                  "1": "10"
                },
                {
                  "0": "80092",
                  "1": "11"
                },
                {
                  "0": "80093",
                  "1": "6"
                },
                {
                  "0": "80094",
                  "1": "19"
                },
                {
                  "0": "80095",
                  "1": "1"
                },
                {
                  "0": "80096",
                  "1": "19"
                },
                {
                  "0": "80097",
                  "1": "19"
                },
                {
                  "0": "80098",
                  "1": "15"
                },
                {
                  "0": "80099",
                  "1": "8"
                },
                {
                  "0": "80100",
                  "1": "11"
                },
                {
                  "0": "80101",
                  "1": "6"
                }
              ],
              "schema": [
                {
                  "key": "0",
                  "name": "visitorId",
                  "type": "bigint"
                },
                {
                  "key": "1",
                  "name": "total",
                  "type": "bigint"
                }
              ],
              "truncated": false
            },
            "isSummary": false,
            "language": "scala"
          },
          "persist_state": {
            "view": {
              "type": "details",
              "tableOptions": {},
              "chartOptions": {
                "chartType": "bar",
                "aggregationType": "sum",
                "categoryFieldKeys": [
                  "1"
                ],
                "seriesFieldKeys": [
                  "0"
                ],
                "isStacked": false
              }
            }
          }
        },
        "e4dc7f71-90b8-4519-9bb9-02819800bb8a": {
          "type": "Synapse.DataFrame",
          "sync_state": {
            "table": {
              "rows": [
                {
                  "0": "80000",
                  "1": "1054"
                },
                {
                  "0": "80001",
                  "1": "834"
                },
                {
                  "0": "80002",
                  "1": "754"
                },
                {
                  "0": "80003",
                  "1": "684"
                },
                {
                  "0": "80004",
                  "1": "598"
                },
                {
                  "0": "80005",
                  "1": "615"
                },
                {
                  "0": "80006",
                  "1": "348"
                },
                {
                  "0": "80007",
                  "1": "932"
                },
                {
                  "0": "80008",
                  "1": "199"
                },
                {
                  "0": "80009",
                  "1": "787"
                },
                {
                  "0": "80010",
                  "1": "97"
                },
                {
                  "0": "80011",
                  "1": "931"
                },
                {
                  "0": "80012",
                  "1": "1042"
                },
                {
                  "0": "80013",
                  "1": "313"
                },
                {
                  "0": "80014",
                  "1": "1084"
                },
                {
                  "0": "80015",
                  "1": "496"
                },
                {
                  "0": "80016",
                  "1": "429"
                },
                {
                  "0": "80017",
                  "1": "76"
                },
                {
                  "0": "80018",
                  "1": "733"
                },
                {
                  "0": "80019",
                  "1": "743"
                },
                {
                  "0": "80020",
                  "1": "502"
                },
                {
                  "0": "80021",
                  "1": "921"
                },
                {
                  "0": "80022",
                  "1": "662"
                },
                {
                  "0": "80023",
                  "1": "461"
                },
                {
                  "0": "80024",
                  "1": "143"
                },
                {
                  "0": "80025",
                  "1": "747"
                },
                {
                  "0": "80026",
                  "1": "909"
                },
                {
                  "0": "80027",
                  "1": "681"
                },
                {
                  "0": "80028",
                  "1": "72"
                },
                {
                  "0": "80029",
                  "1": "227"
                },
                {
                  "0": "80030",
                  "1": "4"
                },
                {
                  "0": "80031",
                  "1": "654"
                },
                {
                  "0": "80032",
                  "1": "877"
                },
                {
                  "0": "80033",
                  "1": "331"
                },
                {
                  "0": "80034",
                  "1": "651"
                },
                {
                  "0": "80035",
                  "1": "496"
                },
                {
                  "0": "80036",
                  "1": "1045"
                },
                {
                  "0": "80037",
                  "1": "476"
                },
                {
                  "0": "80038",
                  "1": "139"
                },
                {
                  "0": "80039",
                  "1": "211"
                },
                {
                  "0": "80040",
                  "1": "913"
                },
                {
                  "0": "80041",
                  "1": "290"
                },
                {
                  "0": "80042",
                  "1": "427"
                },
                {
                  "0": "80043",
                  "1": "24"
                },
                {
                  "0": "80044",
                  "1": "728"
                },
                {
                  "0": "80045",
                  "1": "314"
                },
                {
                  "0": "80046",
                  "1": "613"
                },
                {
                  "0": "80047",
                  "1": "194"
                },
                {
                  "0": "80048",
                  "1": "708"
                },
                {
                  "0": "80049",
                  "1": "981"
                },
                {
                  "0": "80050",
                  "1": "234"
                },
                {
                  "0": "80051",
                  "1": "788"
                },
                {
                  "0": "80052",
                  "1": "395"
                },
                {
                  "0": "80053",
                  "1": "234"
                },
                {
                  "0": "80054",
                  "1": "391"
                },
                {
                  "0": "80055",
                  "1": "1137"
                },
                {
                  "0": "80056",
                  "1": "440"
                },
                {
                  "0": "80057",
                  "1": "474"
                },
                {
                  "0": "80058",
                  "1": "50"
                },
                {
                  "0": "80059",
                  "1": "677"
                },
                {
                  "0": "80060",
                  "1": "158"
                },
                {
                  "0": "80061",
                  "1": "212"
                },
                {
                  "0": "80062",
                  "1": "1009"
                },
                {
                  "0": "80063",
                  "1": "113"
                },
                {
                  "0": "80064",
                  "1": "132"
                },
                {
                  "0": "80066",
                  "1": "141"
                },
                {
                  "0": "80067",
                  "1": "381"
                },
                {
                  "0": "80068",
                  "1": "329"
                },
                {
                  "0": "80069",
                  "1": "524"
                },
                {
                  "0": "80070",
                  "1": "422"
                },
                {
                  "0": "80071",
                  "1": "322"
                },
                {
                  "0": "80072",
                  "1": "352"
                },
                {
                  "0": "80073",
                  "1": "770"
                },
                {
                  "0": "80074",
                  "1": "398"
                },
                {
                  "0": "80075",
                  "1": "185"
                },
                {
                  "0": "80076",
                  "1": "425"
                },
                {
                  "0": "80077",
                  "1": "84"
                },
                {
                  "0": "80078",
                  "1": "383"
                },
                {
                  "0": "80079",
                  "1": "250"
                },
                {
                  "0": "80080",
                  "1": "946"
                },
                {
                  "0": "80081",
                  "1": "540"
                },
                {
                  "0": "80082",
                  "1": "566"
                },
                {
                  "0": "80083",
                  "1": "726"
                },
                {
                  "0": "80084",
                  "1": "257"
                },
                {
                  "0": "80086",
                  "1": "270"
                },
                {
                  "0": "80087",
                  "1": "20"
                },
                {
                  "0": "80088",
                  "1": "27"
                },
                {
                  "0": "80089",
                  "1": "488"
                },
                {
                  "0": "80090",
                  "1": "34"
                },
                {
                  "0": "80091",
                  "1": "314"
                },
                {
                  "0": "80092",
                  "1": "535"
                },
                {
                  "0": "80093",
                  "1": "279"
                },
                {
                  "0": "80094",
                  "1": "937"
                },
                {
                  "0": "80095",
                  "1": "42"
                },
                {
                  "0": "80096",
                  "1": "807"
                },
                {
                  "0": "80097",
                  "1": "984"
                },
                {
                  "0": "80098",
                  "1": "744"
                },
                {
                  "0": "80099",
                  "1": "375"
                },
                {
                  "0": "80100",
                  "1": "510"
                },
                {
                  "0": "80101",
                  "1": "222"
                }
              ],
              "schema": [
                {
                  "key": "0",
                  "name": "visitorId",
                  "type": "bigint"
                },
                {
                  "key": "1",
                  "name": "totalItemsPurchased",
                  "type": "bigint"
                }
              ],
              "truncated": false
            },
            "isSummary": false,
            "language": "scala"
          },
          "persist_state": {
            "view": {
              "type": "details",
              "tableOptions": {},
              "chartOptions": {
                "chartType": "bar",
                "aggregationType": "sum",
                "categoryFieldKeys": [
                  "1"
                ],
                "seriesFieldKeys": [
                  "0"
                ],
                "isStacked": false
              }
            }
          }
        },
        "e69b1ca2-802f-4359-8d88-d669502e85c9": {
          "type": "Synapse.DataFrame",
          "sync_state": {
            "table": {
              "rows": [
                {
                  "0": "7365e3cb-c098-4001-83ab-68693b87809d",
                  "1": "2",
                  "2": "829",
                  "3": 4,
                  "4": "30.500000000000000000",
                  "5": "122.000000000000000000",
                  "6": "20191231",
                  "7": "38.640000000000000000",
                  "8": 12,
                  "9": 52,
                  "10": "9559"
                },
                {
                  "0": "7365e3cb-c098-4001-83ab-68693b87809d",
                  "1": "2",
                  "2": "3683",
                  "3": 1,
                  "4": "34.440000000000000000",
                  "5": "34.440000000000000000",
                  "6": "20191231",
                  "7": "9.940000000000000000",
                  "8": 12,
                  "9": 52,
                  "10": "9559"
                },
                {
                  "0": "7365e3cb-c098-4001-83ab-68693b87809d",
                  "1": "2",
                  "2": "812",
                  "3": 1,
                  "4": "28.630000000000000000",
                  "5": "28.630000000000000000",
                  "6": "20191231",
                  "7": "7.200000000000000000",
                  "8": 12,
                  "9": 52,
                  "10": "9559"
                },
                {
                  "0": "7365e3cb-c098-4001-83ab-68693b87809d",
                  "1": "2",
                  "2": "117",
                  "3": 2,
                  "4": "25.500000000000000000",
                  "5": "51.000000000000000000",
                  "6": "20191231",
                  "7": "15.660000000000000000",
                  "8": 12,
                  "9": 52,
                  "10": "9559"
                },
                {
                  "0": "7365e3cb-c098-4001-83ab-68693b87809d",
                  "1": "2",
                  "2": "406",
                  "3": 3,
                  "4": "36.590000000000000000",
                  "5": "109.770000000000000000",
                  "6": "20191231",
                  "7": "34.710000000000000000",
                  "8": 12,
                  "9": 52,
                  "10": "9559"
                },
                {
                  "0": "7365e3cb-c098-4001-83ab-68693b87809d",
                  "1": "2",
                  "2": "231",
                  "3": 3,
                  "4": "25.580000000000000000",
                  "5": "76.740000000000000000",
                  "6": "20191231",
                  "7": "25.020000000000000000",
                  "8": 12,
                  "9": 52,
                  "10": "9559"
                },
                {
                  "0": "7365e3cb-c098-4001-83ab-68693b87809d",
                  "1": "2",
                  "2": "2689",
                  "3": 3,
                  "4": "24.000000000000000000",
                  "5": "72.000000000000000000",
                  "6": "20191231",
                  "7": "19.770000000000000000",
                  "8": 12,
                  "9": 52,
                  "10": "9559"
                },
                {
                  "0": "7365e3cb-c098-4001-83ab-68693b87809d",
                  "1": "2",
                  "2": "2095",
                  "3": 4,
                  "4": "32.380000000000000000",
                  "5": "129.520000000000000000",
                  "6": "20191231",
                  "7": "36.000000000000000000",
                  "8": 12,
                  "9": 52,
                  "10": "9559"
                },
                {
                  "0": "7365e3cb-c098-4001-83ab-68693b87809d",
                  "1": "2",
                  "2": "92",
                  "3": 1,
                  "4": "15.550000000000000000",
                  "5": "15.550000000000000000",
                  "6": "20191231",
                  "7": "4.730000000000000000",
                  "8": 12,
                  "9": 52,
                  "10": "9559"
                },
                {
                  "0": "7365e3cb-c098-4001-83ab-68693b87809d",
                  "1": "2",
                  "2": "1912",
                  "3": 1,
                  "4": "24.620000000000000000",
                  "5": "24.620000000000000000",
                  "6": "20191231",
                  "7": "7.390000000000000000",
                  "8": 12,
                  "9": 52,
                  "10": "9559"
                }
              ],
              "schema": [
                {
                  "key": "0",
                  "name": "TransactionId",
                  "type": "string"
                },
                {
                  "key": "1",
                  "name": "CustomerId",
                  "type": "int"
                },
                {
                  "key": "2",
                  "name": "ProductId",
                  "type": "smallint"
                },
                {
                  "key": "3",
                  "name": "Quantity",
                  "type": "tinyint"
                },
                {
                  "key": "4",
                  "name": "Price",
                  "type": "decimal"
                },
                {
                  "key": "5",
                  "name": "TotalAmount",
                  "type": "decimal"
                },
                {
                  "key": "6",
                  "name": "TransactionDate",
                  "type": "int"
                },
                {
                  "key": "7",
                  "name": "ProfitAmount",
                  "type": "decimal"
                },
                {
                  "key": "8",
                  "name": "Hour",
                  "type": "tinyint"
                },
                {
                  "key": "9",
                  "name": "Minute",
                  "type": "tinyint"
                },
                {
                  "key": "10",
                  "name": "StoreId",
                  "type": "smallint"
                }
              ],
              "truncated": false
            },
            "isSummary": false,
            "language": "scala"
          },
          "persist_state": {
            "view": {
              "type": "details",
              "tableOptions": {},
              "chartOptions": {
                "chartType": "bar",
                "aggregationType": "sum",
                "categoryFieldKeys": [
                  "0"
                ],
                "seriesFieldKeys": [
                  "1"
                ],
                "isStacked": false
              }
            }
          }
        },
        "bc117b05-5df2-48e6-b441-30fc21ef1d2d": {
          "type": "Synapse.DataFrame",
          "sync_state": {
            "table": {
              "rows": [
                {
                  "0": "97511",
                  "1": "702",
                  "2": "77"
                },
                {
                  "0": "97511",
                  "1": "4580",
                  "2": "94"
                },
                {
                  "0": "97511",
                  "1": "4824",
                  "2": "54"
                },
                {
                  "0": "97512",
                  "1": "2061",
                  "2": "26"
                },
                {
                  "0": "97512",
                  "1": "3510",
                  "2": "19"
                },
                {
                  "0": "97512",
                  "1": "586",
                  "2": "39"
                },
                {
                  "0": "97512",
                  "1": "4255",
                  "2": "62"
                },
                {
                  "0": "97512",
                  "1": "3704",
                  "2": "96"
                },
                {
                  "0": "97512",
                  "1": "2055",
                  "2": "94"
                },
                {
                  "0": "97512",
                  "1": "4075",
                  "2": "41"
                }
              ],
              "schema": [
                {
                  "key": "0",
                  "name": "visitorId",
                  "type": "bigint"
                },
                {
                  "key": "1",
                  "name": "productId",
                  "type": "bigint"
                },
                {
                  "key": "2",
                  "name": "itemsPurchasedLast12Months",
                  "type": "bigint"
                }
              ],
              "truncated": false
            },
            "isSummary": false,
            "language": "scala"
          },
          "persist_state": {
            "view": {
              "type": "details",
              "tableOptions": {},
              "chartOptions": {
                "chartType": "bar",
                "aggregationType": "sum",
                "categoryFieldKeys": [
                  "1"
                ],
                "seriesFieldKeys": [
                  "0"
                ],
                "isStacked": false
              }
            }
          }
        },
        "946ba556-e2ac-4cf5-b2c2-80a921e7d224": {
          "type": "Synapse.DataFrame",
          "sync_state": {
            "table": {
              "rows": [
                {
                  "0": "80296",
                  "1": "202",
                  "2": "96.92",
                  "3": "4",
                  "4": "52"
                },
                {
                  "0": "80347",
                  "1": "4232",
                  "2": "48.86",
                  "3": "2",
                  "4": "89"
                },
                {
                  "0": "80351",
                  "1": "244",
                  "2": "83.96",
                  "3": "4",
                  "4": "83"
                },
                {
                  "0": "80659",
                  "1": "2433",
                  "2": "45.52",
                  "3": "2",
                  "4": "63"
                },
                {
                  "0": "80922",
                  "1": "963",
                  "2": "100.68",
                  "3": "4",
                  "4": "51"
                },
                {
                  "0": "81027",
                  "1": "2158",
                  "2": "43.46",
                  "3": "2",
                  "4": "54"
                },
                {
                  "0": "81180",
                  "1": "109",
                  "2": "207.92",
                  "3": "8",
                  "4": "50"
                },
                {
                  "0": "81686",
                  "1": "3128",
                  "2": "64.24",
                  "3": "2",
                  "4": "93"
                },
                {
                  "0": "82401",
                  "1": "87",
                  "2": "18.43",
                  "3": "1",
                  "4": "56"
                },
                {
                  "0": "82442",
                  "1": "3318",
                  "2": "152.04",
                  "3": "4",
                  "4": "53"
                },
                {
                  "0": "82467",
                  "1": "3033",
                  "2": "72.72",
                  "3": "3",
                  "4": "32"
                },
                {
                  "0": "82625",
                  "1": "104",
                  "2": "35.23",
                  "3": "1",
                  "4": "58"
                },
                {
                  "0": "82983",
                  "1": "802",
                  "2": "58.80",
                  "3": "2",
                  "4": "4"
                },
                {
                  "0": "83417",
                  "1": "24",
                  "2": "22.28",
                  "3": "1",
                  "4": "60"
                },
                {
                  "0": "83425",
                  "1": "158",
                  "2": "45.24",
                  "3": "2",
                  "4": "26"
                },
                {
                  "0": "83704",
                  "1": "3164",
                  "2": "116.88",
                  "3": "4",
                  "4": "53"
                },
                {
                  "0": "84189",
                  "1": "103",
                  "2": "51.78",
                  "3": "2",
                  "4": "29"
                },
                {
                  "0": "84245",
                  "1": "177",
                  "2": "68.94",
                  "3": "3",
                  "4": "5"
                },
                {
                  "0": "84418",
                  "1": "4412",
                  "2": "64.80",
                  "3": "2",
                  "4": "70"
                },
                {
                  "0": "84464",
                  "1": "2043",
                  "2": "66.60",
                  "3": "3",
                  "4": "11"
                },
                {
                  "0": "84483",
                  "1": "1335",
                  "2": "115.56",
                  "3": "4",
                  "4": "76"
                },
                {
                  "0": "84543",
                  "1": "1379",
                  "2": "29.29",
                  "3": "1",
                  "4": "87"
                },
                {
                  "0": "84558",
                  "1": "116",
                  "2": "49.38",
                  "3": "3",
                  "4": "10"
                },
                {
                  "0": "84833",
                  "1": "63",
                  "2": "31.67",
                  "3": "1",
                  "4": "41"
                },
                {
                  "0": "85070",
                  "1": "4882",
                  "2": "58.74",
                  "3": "2",
                  "4": "92"
                },
                {
                  "0": "85161",
                  "1": "162",
                  "2": "64.42",
                  "3": "2",
                  "4": "99"
                },
                {
                  "0": "85170",
                  "1": "2934",
                  "2": "103.86",
                  "3": "6",
                  "4": "52"
                },
                {
                  "0": "85501",
                  "1": "682",
                  "2": "74.28",
                  "3": "3",
                  "4": "87"
                },
                {
                  "0": "86205",
                  "1": "3173",
                  "2": "52.94",
                  "3": "2",
                  "4": "15"
                },
                {
                  "0": "86205",
                  "1": "115",
                  "2": "61.58",
                  "3": "2",
                  "4": "53"
                },
                {
                  "0": "86349",
                  "1": "768",
                  "2": "127.44",
                  "3": "4",
                  "4": "76"
                },
                {
                  "0": "86456",
                  "1": "347",
                  "2": "29.59",
                  "3": "1",
                  "4": "52"
                },
                {
                  "0": "86557",
                  "1": "4475",
                  "2": "86.64",
                  "3": "4",
                  "4": "37"
                },
                {
                  "0": "86629",
                  "1": "200",
                  "2": "74.34",
                  "3": "3",
                  "4": "32"
                },
                {
                  "0": "86641",
                  "1": "72",
                  "2": "52.06",
                  "3": "2",
                  "4": "9"
                },
                {
                  "0": "86811",
                  "1": "3635",
                  "2": "88.80",
                  "3": "3",
                  "4": "51"
                },
                {
                  "0": "86846",
                  "1": "152",
                  "2": "75.87",
                  "3": "3",
                  "4": "72"
                },
                {
                  "0": "87075",
                  "1": "1777",
                  "2": "139.24",
                  "3": "4",
                  "4": "35"
                },
                {
                  "0": "87086",
                  "1": "2362",
                  "2": "35.52",
                  "3": "1",
                  "4": "80"
                },
                {
                  "0": "87095",
                  "1": "2911",
                  "2": "65.72",
                  "3": "2",
                  "4": "80"
                },
                {
                  "0": "87103",
                  "1": "92",
                  "2": "77.75",
                  "3": "5",
                  "4": "82"
                },
                {
                  "0": "87126",
                  "1": "154",
                  "2": "52.28",
                  "3": "2",
                  "4": "92"
                },
                {
                  "0": "87126",
                  "1": "172",
                  "2": "36.97",
                  "3": "1",
                  "4": "46"
                },
                {
                  "0": "87142",
                  "1": "101",
                  "2": "127.50",
                  "3": "3",
                  "4": "60"
                },
                {
                  "0": "87314",
                  "1": "2885",
                  "2": "26.61",
                  "3": "1",
                  "4": "67"
                },
                {
                  "0": "87480",
                  "1": "3496",
                  "2": "94.62",
                  "3": "3",
                  "4": "56"
                },
                {
                  "0": "87546",
                  "1": "3918",
                  "2": "74.46",
                  "3": "3",
                  "4": "70"
                },
                {
                  "0": "87607",
                  "1": "2307",
                  "2": "141.72",
                  "3": "4",
                  "4": "17"
                },
                {
                  "0": "87690",
                  "1": "114",
                  "2": "153.92",
                  "3": "4",
                  "4": "76"
                },
                {
                  "0": "88259",
                  "1": "2396",
                  "2": "23.53",
                  "3": "1",
                  "4": "22"
                },
                {
                  "0": "88440",
                  "1": "5",
                  "2": "50.62",
                  "3": "2",
                  "4": "23"
                },
                {
                  "0": "88485",
                  "1": "226",
                  "2": "71.79",
                  "3": "3",
                  "4": "20"
                },
                {
                  "0": "88518",
                  "1": "2287",
                  "2": "46.48",
                  "3": "2",
                  "4": "16"
                },
                {
                  "0": "88750",
                  "1": "633",
                  "2": "65.32",
                  "3": "2",
                  "4": "30"
                },
                {
                  "0": "88796",
                  "1": "885",
                  "2": "26.17",
                  "3": "1",
                  "4": "17"
                },
                {
                  "0": "88858",
                  "1": "199",
                  "2": "66.66",
                  "3": "2",
                  "4": "45"
                },
                {
                  "0": "89226",
                  "1": "3769",
                  "2": "20.63",
                  "3": "1",
                  "4": "12"
                },
                {
                  "0": "89283",
                  "1": "1772",
                  "2": "105.84",
                  "3": "4",
                  "4": "34"
                },
                {
                  "0": "89976",
                  "1": "2006",
                  "2": "74.24",
                  "3": "4",
                  "4": "51"
                },
                {
                  "0": "90083",
                  "1": "315",
                  "2": "118.88",
                  "3": "4",
                  "4": "9"
                },
                {
                  "0": "90131",
                  "1": "4896",
                  "2": "46.26",
                  "3": "2",
                  "4": "34"
                },
                {
                  "0": "90335",
                  "1": "1441",
                  "2": "21.27",
                  "3": "1",
                  "4": "1"
                },
                {
                  "0": "90367",
                  "1": "3575",
                  "2": "136.32",
                  "3": "4",
                  "4": "39"
                },
                {
                  "0": "90652",
                  "1": "34",
                  "2": "88.00",
                  "3": "4",
                  "4": "79"
                },
                {
                  "0": "90671",
                  "1": "195",
                  "2": "24.14",
                  "3": "1",
                  "4": "7"
                },
                {
                  "0": "91493",
                  "1": "4549",
                  "2": "17.75",
                  "3": "1",
                  "4": "31"
                },
                {
                  "0": "91646",
                  "1": "202",
                  "2": "72.69",
                  "3": "3",
                  "4": "51"
                },
                {
                  "0": "91798",
                  "1": "224",
                  "2": "125.97",
                  "3": "3",
                  "4": "62"
                },
                {
                  "0": "91817",
                  "1": "3651",
                  "2": "101.82",
                  "3": "3",
                  "4": "40"
                },
                {
                  "0": "92030",
                  "1": "98",
                  "2": "83.25",
                  "3": "3",
                  "4": "88"
                },
                {
                  "0": "92293",
                  "1": "27",
                  "2": "95.28",
                  "3": "3",
                  "4": "65"
                },
                {
                  "0": "92456",
                  "1": "242",
                  "2": "104.56",
                  "3": "4",
                  "4": "98"
                },
                {
                  "0": "92543",
                  "1": "173",
                  "2": "95.32",
                  "3": "4",
                  "4": "60"
                },
                {
                  "0": "92565",
                  "1": "4069",
                  "2": "87.48",
                  "3": "3",
                  "4": "93"
                },
                {
                  "0": "92581",
                  "1": "94",
                  "2": "85.68",
                  "3": "3",
                  "4": "54"
                },
                {
                  "0": "92623",
                  "1": "2015",
                  "2": "31.66",
                  "3": "1",
                  "4": "43"
                },
                {
                  "0": "92794",
                  "1": "2252",
                  "2": "23.79",
                  "3": "1",
                  "4": "80"
                },
                {
                  "0": "92961",
                  "1": "780",
                  "2": "68.34",
                  "3": "3",
                  "4": "66"
                },
                {
                  "0": "93136",
                  "1": "169",
                  "2": "155.16",
                  "3": "4",
                  "4": "74"
                },
                {
                  "0": "93204",
                  "1": "464",
                  "2": "92.48",
                  "3": "4",
                  "4": "13"
                },
                {
                  "0": "93507",
                  "1": "170",
                  "2": "55.70",
                  "3": "2",
                  "4": "84"
                },
                {
                  "0": "93533",
                  "1": "81",
                  "2": "51.56",
                  "3": "2",
                  "4": "19"
                },
                {
                  "0": "93687",
                  "1": "124",
                  "2": "26.15",
                  "3": "1",
                  "4": "9"
                },
                {
                  "0": "93837",
                  "1": "2194",
                  "2": "77.55",
                  "3": "3",
                  "4": "65"
                },
                {
                  "0": "94256",
                  "1": "2939",
                  "2": "24.67",
                  "3": "1",
                  "4": "27"
                },
                {
                  "0": "94337",
                  "1": "3143",
                  "2": "43.70",
                  "3": "2",
                  "4": "48"
                },
                {
                  "0": "94573",
                  "1": "4276",
                  "2": "28.97",
                  "3": "1",
                  "4": "9"
                },
                {
                  "0": "94643",
                  "1": "213",
                  "2": "87.21",
                  "3": "3",
                  "4": "12"
                },
                {
                  "0": "94839",
                  "1": "4472",
                  "2": "25.26",
                  "3": "1",
                  "4": "89"
                },
                {
                  "0": "94914",
                  "1": "4767",
                  "2": "63.00",
                  "3": "3",
                  "4": "87"
                },
                {
                  "0": "95324",
                  "1": "4866",
                  "2": "142.92",
                  "3": "4",
                  "4": "3"
                },
                {
                  "0": "95392",
                  "1": "27",
                  "2": "95.28",
                  "3": "3",
                  "4": "41"
                },
                {
                  "0": "95546",
                  "1": "3393",
                  "2": "91.35",
                  "3": "3",
                  "4": "96"
                },
                {
                  "0": "95760",
                  "1": "4458",
                  "2": "34.27",
                  "3": "1",
                  "4": "78"
                },
                {
                  "0": "95776",
                  "1": "2138",
                  "2": "111.96",
                  "3": "4",
                  "4": "47"
                },
                {
                  "0": "95857",
                  "1": "4837",
                  "2": "26.75",
                  "3": "1",
                  "4": "27"
                },
                {
                  "0": "95903",
                  "1": "135",
                  "2": "72.48",
                  "3": "2",
                  "4": "18"
                },
                {
                  "0": "96097",
                  "1": "4987",
                  "2": "74.90",
                  "3": "2",
                  "4": "52"
                },
                {
                  "0": "96124",
                  "1": "3319",
                  "2": "119.48",
                  "3": "4",
                  "4": "33"
                },
                {
                  "0": "96219",
                  "1": "3269",
                  "2": "40.04",
                  "3": "2",
                  "4": "10"
                }
              ],
              "schema": [
                {
                  "key": "0",
                  "name": "CustomerId",
                  "type": "int"
                },
                {
                  "key": "1",
                  "name": "productId",
                  "type": "bigint"
                },
                {
                  "key": "2",
                  "name": "TotalAmountDecember",
                  "type": "decimal"
                },
                {
                  "key": "3",
                  "name": "TotalQuantityDecember",
                  "type": "bigint"
                },
                {
                  "key": "4",
                  "name": "TotalItemsPurchasedLast12Months",
                  "type": "bigint"
                }
              ],
              "truncated": false
            },
            "isSummary": false,
            "language": "scala"
          },
          "persist_state": {
            "view": {
              "type": "details",
              "tableOptions": {},
              "chartOptions": {
                "chartType": "bar",
                "aggregationType": "sum",
                "categoryFieldKeys": [
                  "1"
                ],
                "seriesFieldKeys": [
                  "0"
                ],
                "isStacked": false
              }
            }
          }
        }
      }
    }
  },
  "nbformat": 4,
  "nbformat_minor": 2
}