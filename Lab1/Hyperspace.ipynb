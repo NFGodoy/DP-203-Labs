{
  "cells": [
    {
      "cell_type": "code",
      "source": [
        "from hyperspace import *  \r\n",
        "from com.microsoft.hyperspace import *\r\n",
        "from com.microsoft.hyperspace.index import *\r\n",
        "\r\n",
        "# Disable BroadcastHashJoin, so Spark will use standard SortMergeJoin. Currently, Hyperspace indexes utilize SortMergeJoin to speed up query.\r\n",
        "spark.conf.set(\"spark.sql.autoBroadcastJoinThreshold\", -1)\r\n",
        "\r\n",
        "# Replace the value below with the name of your primary ADLS Gen2 account for your Synapse workspace\r\n",
        "datalake = 'asadatalakeic6nl8d'\r\n",
        "\r\n",
        "dfSales = spark.read.parquet(\"abfss://wwi-02@\" + datalake + \".dfs.core.windows.net/sale-small/Year=2019/Quarter=Q4/Month=12/*/*.parquet\")\r\n",
        "dfSales.show(10)\r\n",
        "\r\n",
        "dfCustomers = spark.read.load(\"abfss://wwi-02@\" + datalake + \".dfs.core.windows.net/data-generators/generator-customer-clean.csv\", format=\"csv\", header=True)\r\n",
        "dfCustomers.show(10)\r\n",
        "\r\n",
        "# Create an instance of Hyperspace\r\n",
        "hyperspace = Hyperspace(spark)"
      ],
      "outputs": [
        {
          "output_type": "display_data",
          "data": {
            "application/vnd.livy.statement-meta+json": {
              "spark_pool": "SparkPool01",
              "session_id": 0,
              "statement_id": 1,
              "state": "finished",
              "livy_statement_state": "available",
              "queued_time": "2022-07-21T02:30:55.2561353Z",
              "session_start_time": "2022-07-21T02:30:55.2955205Z",
              "execution_start_time": "2022-07-21T02:33:31.8285255Z",
              "execution_finish_time": "2022-07-21T02:34:03.1871551Z"
            },
            "text/plain": "StatementMeta(SparkPool01, 0, 1, Finished, Available)"
          },
          "metadata": {}
        },
        {
          "output_type": "stream",
          "name": "stdout",
          "text": [
            "+--------------------+----------+---------+--------+--------------------+--------------------+---------------+--------------------+----+------+-------+\n|       TransactionId|CustomerId|ProductId|Quantity|               Price|         TotalAmount|TransactionDate|        ProfitAmount|Hour|Minute|StoreId|\n+--------------------+----------+---------+--------+--------------------+--------------------+---------------+--------------------+----+------+-------+\n|6efc5ea6-36f6-4c4...|         1|     2857|       4|20.08000000000000...|80.32000000000000...|       20191230|24.00000000000000...|  19|    38|   7405|\n|6efc5ea6-36f6-4c4...|         1|     1488|       1|26.84000000000000...|26.84000000000000...|       20191230|6.610000000000000000|  19|    38|   7405|\n|6efc5ea6-36f6-4c4...|         1|     4021|       3|31.12000000000000...|93.36000000000000...|       20191230|28.11000000000000...|  19|    38|   7405|\n|6efc5ea6-36f6-4c4...|         1|      728|       1|28.39000000000000...|28.39000000000000...|       20191230|9.740000000000000000|  19|    38|   7405|\n|6efc5ea6-36f6-4c4...|         1|     3107|       1|26.01000000000000...|26.01000000000000...|       20191230|7.770000000000000000|  19|    38|   7405|\n|6efc5ea6-36f6-4c4...|         1|     2646|       2|25.96000000000000...|51.92000000000000...|       20191230|13.94000000000000...|  19|    38|   7405|\n|6efc5ea6-36f6-4c4...|         1|     2005|       2|32.46000000000000...|64.92000000000000...|       20191230|17.60000000000000...|  19|    38|   7405|\n|6efc5ea6-36f6-4c4...|         1|     2848|       4|20.20000000000000...|80.80000000000000...|       20191230|28.60000000000000...|  19|    38|   7405|\n|6efc5ea6-36f6-4c4...|         1|      248|       2|25.49000000000000...|50.98000000000000...|       20191230|13.34000000000000...|  19|    38|   7405|\n|6efc5ea6-36f6-4c4...|         1|      141|       4|22.13000000000000...|88.52000000000000...|       20191230|24.48000000000000...|  19|    38|   7405|\n+--------------------+----------+---------+--------+--------------------+--------------------+---------------+--------------------+----+------+-------+\nonly showing top 10 rows\n\n+----------+---------+-------------+---------+-------------------+------+---+----------+------------------+-----------------+----------------+--------------------+------------+--------------------+\n|CustomerId|FirstName|MiddleInitial| LastName|           FullName|Gender|Age| BirthDate|Address_PostalCode|   Address_Street|    Address_City|     Address_Country|      Mobile|               Email|\n+----------+---------+-------------+---------+-------------------+------+---+----------+------------------+-----------------+----------------+--------------------+------------+--------------------+\n|         1|   Conrad|            N|   Zemlak|   Conrad N. Zemlak|  Male| 57|23/03/1963|             16219|       Dario View|        Dockside|            Suriname|0925-586-826|Conrad_Zemlak_85@...|\n|         2|   Darren|            H|  Rolfson|  Darren H. Rolfson|  Male| 61|25/05/1959|             43387|    Kathleen Oval|  Lake Rileytown|            Tanzania|0372-253-946|Darren_Rolfson_20...|\n|         3|    Annie|            J|   Pouros|    Annie J. Pouros|Female| 51|23/04/1969|             92666|      Maegan Hill|Lake Eltachester|Virgin Islands Br...|0834-564-182|Annie_Pouros_48@y...|\n|         4|  Forrest|         null|   O\\'Kon|     Forrest O\\'Kon|  Male| 54|31/01/1966|             29524|     Harry Spring|New Gregoriaport|         Netherlands|0761-327-187|Forrest_O\\'Kon_83...|\n|         5|    Leroy|         null|    Lemke|        Leroy Lemke|  Male| 59|01/03/1961|             36967|       Layla Ford|East Davontebury|Svalbard & Jan Ma...|0264-161-776|Leroy_Lemke_29@ou...|\n|         6|      Luz|            R|    Borer|       Luz R. Borer|Female| 53|28/04/1967|             51050|Marjorie Overpass|     Carleeshire|        Burkina Faso|0642-895-538|Luz_Borer_77@outl...|\n|         7|      Ira|            M|  Koelpin|     Ira M. Koelpin|  Male| 52|22/04/1968|             69710|   Kendall Street|        New Lola|            Suriname|0114-516-150|Ira_Koelpin_60@gm...|\n|         8|Salvatore|         null|  Schaden|  Salvatore Schaden|  Male| 54|30/12/1965|             45947|      Juwan Crest|   Thompsonhaven|       Liechtenstein|0782-905-529|Salvatore_Schaden...|\n|         9|    Robyn|            K|     Batz|      Robyn K. Batz|Female| 59|17/08/1960|             67220|     Derrick Flat|  Lake Joeymouth|             Denmark|0729-374-410|Robyn_Batz_10@gma...|\n|        10|   Brandi|            D|Kertzmann|Brandi D. Kertzmann|Female| 43|02/12/1976|             44704|    Madisen Track|East Myriamhaven|             Moldova|0739-782-555|Brandi_Kertzmann_...|\n+----------+---------+-------------+---------+-------------------+------+---+----------+------------------+-----------------+----------------+--------------------+------------+--------------------+\nonly showing top 10 rows\n\n"
          ]
        }
      ],
      "execution_count": 1,
      "metadata": {}
    },
    {
      "cell_type": "code",
      "source": [
        "#create indexes: each one contains a name, a set of indexed columns and a set of included columns\r\n",
        "indexConfigSales = IndexConfig(\"indexSALES\", [\"CustomerId\"], [\"TotalAmount\"])\r\n",
        "indexConfigCustomers = IndexConfig(\"indexCUSTOMERS\", [\"CustomerId\"], [\"FullName\"])\r\n",
        "\r\n",
        "hyperspace.createIndex(dfSales, indexConfigSales)\t\t\t# only create index once\r\n",
        "hyperspace.createIndex(dfCustomers, indexConfigCustomers)\t# only create index once\r\n",
        "hyperspace.indexes().show()"
      ],
      "outputs": [
        {
          "output_type": "display_data",
          "data": {
            "application/vnd.livy.statement-meta+json": {
              "spark_pool": "SparkPool01",
              "session_id": 0,
              "statement_id": 2,
              "state": "finished",
              "livy_statement_state": "available",
              "queued_time": "2022-07-21T02:36:01.8629609Z",
              "session_start_time": null,
              "execution_start_time": "2022-07-21T02:36:02.0825549Z",
              "execution_finish_time": "2022-07-21T02:36:37.3606449Z"
            },
            "text/plain": "StatementMeta(SparkPool01, 0, 2, Finished, Available)"
          },
          "metadata": {}
        },
        {
          "output_type": "stream",
          "name": "stdout",
          "text": [
            "+--------------+--------------+---------------+----------+--------------------+--------------------+------+\n|          name|indexedColumns|includedColumns|numBuckets|              schema|       indexLocation| state|\n+--------------+--------------+---------------+----------+--------------------+--------------------+------+\n|indexCUSTOMERS|  [CustomerId]|     [FullName]|       200|{\"type\":\"struct\",...|abfss://tempdata@...|ACTIVE|\n|    indexSALES|  [CustomerId]|  [TotalAmount]|       200|{\"type\":\"struct\",...|abfss://tempdata@...|ACTIVE|\n+--------------+--------------+---------------+----------+--------------------+--------------------+------+\n\n"
          ]
        }
      ],
      "execution_count": 2,
      "metadata": {
        "jupyter": {
          "source_hidden": false,
          "outputs_hidden": false
        },
        "nteract": {
          "transient": {
            "deleting": false
          }
        }
      }
    },
    {
      "cell_type": "code",
      "source": [
        "df1 = dfSales.filter(\"\"\"CustomerId = 6\"\"\").select(\"\"\"TotalAmount\"\"\")\r\n",
        "df1.show()\r\n",
        "df1.explain(True)"
      ],
      "outputs": [
        {
          "output_type": "display_data",
          "data": {
            "application/vnd.livy.statement-meta+json": {
              "spark_pool": "SparkPool01",
              "session_id": 0,
              "statement_id": 3,
              "state": "finished",
              "livy_statement_state": "available",
              "queued_time": "2022-07-21T02:37:11.6512583Z",
              "session_start_time": null,
              "execution_start_time": "2022-07-21T02:37:11.8316844Z",
              "execution_finish_time": "2022-07-21T02:37:14.6936266Z"
            },
            "text/plain": "StatementMeta(SparkPool01, 0, 3, Finished, Available)"
          },
          "metadata": {}
        },
        {
          "output_type": "stream",
          "name": "stdout",
          "text": [
            "+--------------------+\n|         TotalAmount|\n+--------------------+\n|140.8800000000000...|\n|70.44000000000000...|\n|22.51000000000000...|\n|30.45000000000000...|\n|88.00000000000000...|\n|49.30000000000000...|\n|22.75000000000000...|\n+--------------------+\n\n== Parsed Logical Plan ==\n'Project [unresolvedalias('TotalAmount, None)]\n+- Filter (CustomerId#1 = 6)\n   +- Relation[TransactionId#0,CustomerId#1,ProductId#2,Quantity#3,Price#4,TotalAmount#5,TransactionDate#6,ProfitAmount#7,Hour#8,Minute#9,StoreId#10] parquet\n\n== Analyzed Logical Plan ==\nTotalAmount: decimal(38,18)\nProject [TotalAmount#5]\n+- Filter (CustomerId#1 = 6)\n   +- Relation[TransactionId#0,CustomerId#1,ProductId#2,Quantity#3,Price#4,TotalAmount#5,TransactionDate#6,ProfitAmount#7,Hour#8,Minute#9,StoreId#10] parquet\n\n== Optimized Logical Plan ==\nProject [TotalAmount#5]\n+- Filter (isnotnull(CustomerId#1) && (CustomerId#1 = 6))\n   +- Relation[TransactionId#0,CustomerId#1,ProductId#2,Quantity#3,Price#4,TotalAmount#5,TransactionDate#6,ProfitAmount#7,Hour#8,Minute#9,StoreId#10] parquet\n\n== Physical Plan ==\n*(1) Project [TotalAmount#5]\n+- *(1) Filter (isnotnull(CustomerId#1) && (CustomerId#1 = 6))\n   +- *(1) FileScan parquet [CustomerId#1,TotalAmount#5] Batched: true, Format: Parquet, Location: InMemoryFileIndex[abfss://wwi-02@asadatalakeic6nl8d.dfs.core.windows.net/sale-small/Year=2019/Qua..., PartitionFilters: [], PushedFilters: [IsNotNull(CustomerId), EqualTo(CustomerId,6)], ReadSchema: struct<CustomerId:int,TotalAmount:decimal(38,18)>\n"
          ]
        }
      ],
      "execution_count": 3,
      "metadata": {
        "jupyter": {
          "source_hidden": false,
          "outputs_hidden": false
        },
        "nteract": {
          "transient": {
            "deleting": false
          }
        }
      }
    },
    {
      "cell_type": "code",
      "source": [
        "# Enable Hyperspace - Hyperspace optimization rules become visible to the Spark optimizer and exploit existing Hyperspace indexes to optimize user queries\r\n",
        "Hyperspace.enable(spark)\r\n",
        "df1 = dfSales.filter(\"\"\"CustomerId = 6\"\"\").select(\"\"\"TotalAmount\"\"\")\r\n",
        "df1.show()\r\n",
        "df1.explain(True)"
      ],
      "outputs": [
        {
          "output_type": "display_data",
          "data": {
            "application/vnd.livy.statement-meta+json": {
              "spark_pool": "SparkPool01",
              "session_id": 0,
              "statement_id": 4,
              "state": "finished",
              "livy_statement_state": "available",
              "queued_time": "2022-07-21T02:39:18.1322527Z",
              "session_start_time": null,
              "execution_start_time": "2022-07-21T02:39:18.259696Z",
              "execution_finish_time": "2022-07-21T02:39:26.7861199Z"
            },
            "text/plain": "StatementMeta(SparkPool01, 0, 4, Finished, Available)"
          },
          "metadata": {}
        },
        {
          "output_type": "stream",
          "name": "stdout",
          "text": [
            "+--------------------+\n|         TotalAmount|\n+--------------------+\n|140.8800000000000...|\n|70.44000000000000...|\n|22.51000000000000...|\n|30.45000000000000...|\n|88.00000000000000...|\n|49.30000000000000...|\n|22.75000000000000...|\n+--------------------+\n\n== Parsed Logical Plan ==\n'Project [unresolvedalias('TotalAmount, None)]\n+- Filter (CustomerId#1 = 6)\n   +- Relation[TransactionId#0,CustomerId#1,ProductId#2,Quantity#3,Price#4,TotalAmount#5,TransactionDate#6,ProfitAmount#7,Hour#8,Minute#9,StoreId#10] parquet\n\n== Analyzed Logical Plan ==\nTotalAmount: decimal(38,18)\nProject [TotalAmount#5]\n+- Filter (CustomerId#1 = 6)\n   +- Relation[TransactionId#0,CustomerId#1,ProductId#2,Quantity#3,Price#4,TotalAmount#5,TransactionDate#6,ProfitAmount#7,Hour#8,Minute#9,StoreId#10] parquet\n\n== Optimized Logical Plan ==\nProject [TotalAmount#5]\n+- Filter (isnotnull(CustomerId#1) && (CustomerId#1 = 6))\n   +- Relation[CustomerId#1,TotalAmount#5] Hyperspace(Type: CI, Name: indexSALES, LogVersion: 1)\n\n== Physical Plan ==\n*(1) Project [TotalAmount#5]\n+- *(1) Filter (isnotnull(CustomerId#1) && (CustomerId#1 = 6))\n   +- *(1) FileScan Hyperspace(Type: CI, Name: indexSALES, LogVersion: 1) [CustomerId#1,TotalAmount#5] Batched: true, Format: Parquet, Location: InMemoryFileIndex[abfss://tempdata@asadatalakeic6nl8d.dfs.core.windows.net/synapse/workspaces/asa..., PartitionFilters: [], PushedFilters: [IsNotNull(CustomerId), EqualTo(CustomerId,6)], ReadSchema: struct<CustomerId:int,TotalAmount:decimal(38,18)>\n"
          ]
        }
      ],
      "execution_count": 4,
      "metadata": {
        "jupyter": {
          "source_hidden": false,
          "outputs_hidden": false
        },
        "nteract": {
          "transient": {
            "deleting": false
          }
        }
      }
    },
    {
      "cell_type": "code",
      "source": [
        "df1 = dfSales.filter(\"\"\"CustomerId = 6\"\"\").select(\"\"\"TotalAmount\"\"\")\r\n",
        "\r\n",
        "spark.conf.set(\"spark.hyperspace.explain.displayMode\", \"html\")\r\n",
        "hyperspace.explain(df1, True, displayHTML)"
      ],
      "outputs": [
        {
          "output_type": "display_data",
          "data": {
            "application/vnd.livy.statement-meta+json": {
              "spark_pool": "SparkPool01",
              "session_id": 0,
              "statement_id": 5,
              "state": "finished",
              "livy_statement_state": "available",
              "queued_time": "2022-07-21T02:40:29.864117Z",
              "session_start_time": null,
              "execution_start_time": "2022-07-21T02:40:29.9857549Z",
              "execution_finish_time": "2022-07-21T02:40:31.795301Z"
            },
            "text/plain": "StatementMeta(SparkPool01, 0, 5, Finished, Available)"
          },
          "metadata": {}
        },
        {
          "output_type": "display_data",
          "data": {
            "text/plain": "<IPython.core.display.HTML object>",
            "text/html": "<pre>=============================================================<br>Plan with indexes:<br>=============================================================<br>Project [TotalAmount#5]<br>+- Filter (isnotnull(CustomerId#1) && (CustomerId#1 = 6))<br>   <b style=\"background:LightGreen\">+- FileScan Hyperspace(Type: CI, Name: indexSALES, LogVersion: 1) [CustomerId#1,TotalAmount#5] Batched: true, Format: Parquet, Location: InMemoryFileIndex[abfss://tempdata@asadatalakeic6nl8d.dfs.core.windows.net/synapse/workspaces/asa..., PartitionFilters: [], PushedFilters: [IsNotNull(CustomerId), EqualTo(CustomerId,6)], ReadSchema: struct<CustomerId:int,TotalAmount:decimal(38,18)></b><br><br>=============================================================<br>Plan without indexes:<br>=============================================================<br>Project [TotalAmount#5]<br>+- Filter (isnotnull(CustomerId#1) && (CustomerId#1 = 6))<br>   <b style=\"background:LightGreen\">+- FileScan parquet [CustomerId#1,TotalAmount#5] Batched: true, Format: Parquet, Location: InMemoryFileIndex[abfss://wwi-02@asadatalakeic6nl8d.dfs.core.windows.net/sale-small/Year=2019/Qua..., PartitionFilters: [], PushedFilters: [IsNotNull(CustomerId), EqualTo(CustomerId,6)], ReadSchema: struct<CustomerId:int,TotalAmount:decimal(38,18)></b><br><br>=============================================================<br>Indexes used:<br>=============================================================<br>indexSALES:abfss://tempdata@asadatalakeic6nl8d.dfs.core.windows.net/synapse/workspaces/asaworkspaceic6nl8d/warehouse/indexes/indexSALES/v__=0<br><br>=============================================================<br>Physical operator stats:<br>=============================================================<br>+-----------------------------------------------------------+-------------------+------------------+----------+<br>|                                          Physical Operator|Hyperspace Disabled|Hyperspace Enabled|Difference|<br>+-----------------------------------------------------------+-------------------+------------------+----------+<br>|*Scan Hyperspace(Type: CI, Name: indexSALES, LogVersion: 1)|                  0|                 1|         1|<br>|                                              *Scan parquet|                  1|                 0|        -1|<br>|                                                     Filter|                  1|                 1|         0|<br>|                                                    Project|                  1|                 1|         0|<br>|                                          WholeStageCodegen|                  1|                 1|         0|<br>+-----------------------------------------------------------+-------------------+------------------+----------+<br><br></pre>"
          },
          "metadata": {}
        }
      ],
      "execution_count": 5,
      "metadata": {
        "jupyter": {
          "source_hidden": false,
          "outputs_hidden": false
        },
        "nteract": {
          "transient": {
            "deleting": false
          }
        }
      }
    },
    {
      "cell_type": "code",
      "source": [
        "eqJoin = dfSales.join(dfCustomers, dfSales.CustomerId == dfCustomers.CustomerId).select(dfSales.TotalAmount, dfCustomers.FullName)\r\n",
        "\r\n",
        "hyperspace.explain(eqJoin, True, displayHTML)"
      ],
      "outputs": [
        {
          "output_type": "display_data",
          "data": {
            "application/vnd.livy.statement-meta+json": {
              "spark_pool": "SparkPool01",
              "session_id": 0,
              "statement_id": 6,
              "state": "finished",
              "livy_statement_state": "available",
              "queued_time": "2022-07-21T02:41:41.1557737Z",
              "session_start_time": null,
              "execution_start_time": "2022-07-21T02:41:41.2882266Z",
              "execution_finish_time": "2022-07-21T02:41:46.6149141Z"
            },
            "text/plain": "StatementMeta(SparkPool01, 0, 6, Finished, Available)"
          },
          "metadata": {}
        },
        {
          "output_type": "display_data",
          "data": {
            "text/plain": "<IPython.core.display.HTML object>",
            "text/html": "<pre>=============================================================<br>Plan with indexes:<br>=============================================================<br>Project [TotalAmount#5, FullName#70]<br>+- SortMergeJoin [CustomerId#1], [cast(CustomerId#66 as int)], Inner<br>   :- *(2) Sort [CustomerId#1 ASC NULLS FIRST], false, 0<br>   :  +- Exchange hashpartitioning(CustomerId#1, 200), [id=#155]<br>   :     +- *(1) Project [CustomerId#1, TotalAmount#5]<br>   :        +- *(1) Filter isnotnull(CustomerId#1)<br>   <b style=\"background:LightGreen\">:           +- *(1) FileScan Hyperspace(Type: CI, Name: indexSALES, LogVersion: 1) [CustomerId#1,TotalAmount#5] Batched: true, Format: Parquet, Location: InMemoryFileIndex[abfss://tempdata@asadatalakeic6nl8d.dfs.core.windows.net/synapse/workspaces/asa..., PartitionFilters: [], PushedFilters: [IsNotNull(CustomerId)], ReadSchema: struct<CustomerId:int,TotalAmount:decimal(38,18)></b><br>   +- *(4) Sort [cast(CustomerId#66 as int) ASC NULLS FIRST], false, 0<br>      +- Exchange hashpartitioning(cast(CustomerId#66 as int), 200), [id=#161]<br>         +- *(3) Project [CustomerId#66, FullName#70]<br>            +- *(3) Filter isnotnull(CustomerId#66)<br>               <b style=\"background:LightGreen\">+- *(3) FileScan Hyperspace(Type: CI, Name: indexCUSTOMERS, LogVersion: 1) [CustomerId#66,FullName#70] Batched: true, Format: Parquet, Location: InMemoryFileIndex[abfss://tempdata@asadatalakeic6nl8d.dfs.core.windows.net/synapse/workspaces/asa..., PartitionFilters: [], PushedFilters: [IsNotNull(CustomerId)], ReadSchema: struct<CustomerId:string,FullName:string></b><br><br>=============================================================<br>Plan without indexes:<br>=============================================================<br>Project [TotalAmount#5, FullName#70]<br>+- SortMergeJoin [CustomerId#1], [cast(CustomerId#66 as int)], Inner<br>   :- *(2) Sort [CustomerId#1 ASC NULLS FIRST], false, 0<br>   :  +- Exchange hashpartitioning(CustomerId#1, 200), [id=#118]<br>   :     +- *(1) Project [CustomerId#1, TotalAmount#5]<br>   :        +- *(1) Filter isnotnull(CustomerId#1)<br>   <b style=\"background:LightGreen\">:           +- *(1) FileScan parquet [CustomerId#1,TotalAmount#5] Batched: true, Format: Parquet, Location: InMemoryFileIndex[abfss://wwi-02@asadatalakeic6nl8d.dfs.core.windows.net/sale-small/Year=2019/Qua..., PartitionFilters: [], PushedFilters: [IsNotNull(CustomerId)], ReadSchema: struct<CustomerId:int,TotalAmount:decimal(38,18)></b><br>   +- *(4) Sort [cast(CustomerId#66 as int) ASC NULLS FIRST], false, 0<br>      +- Exchange hashpartitioning(cast(CustomerId#66 as int), 200), [id=#124]<br>         +- *(3) Project [CustomerId#66, FullName#70]<br>            +- *(3) Filter isnotnull(CustomerId#66)<br>               <b style=\"background:LightGreen\">+- *(3) FileScan csv [CustomerId#66,FullName#70] Batched: false, Format: CSV, Location: InMemoryFileIndex[abfss://wwi-02@asadatalakeic6nl8d.dfs.core.windows.net/data-generators/generato..., PartitionFilters: [], PushedFilters: [IsNotNull(CustomerId)], ReadSchema: struct<CustomerId:string,FullName:string></b><br><br>=============================================================<br>Indexes used:<br>=============================================================<br>indexCUSTOMERS:abfss://tempdata@asadatalakeic6nl8d.dfs.core.windows.net/synapse/workspaces/asaworkspaceic6nl8d/warehouse/indexes/indexCUSTOMERS/v__=0<br>indexSALES:abfss://tempdata@asadatalakeic6nl8d.dfs.core.windows.net/synapse/workspaces/asaworkspaceic6nl8d/warehouse/indexes/indexSALES/v__=0<br><br>=============================================================<br>Physical operator stats:<br>=============================================================<br>+---------------------------------------------------------------+-------------------+------------------+----------+<br>|                                              Physical Operator|Hyperspace Disabled|Hyperspace Enabled|Difference|<br>+---------------------------------------------------------------+-------------------+------------------+----------+<br>|*Scan Hyperspace(Type: CI, Name: indexCUSTOMERS, LogVersion: 1)|                  0|                 1|         1|<br>|    *Scan Hyperspace(Type: CI, Name: indexSALES, LogVersion: 1)|                  0|                 1|         1|<br>|                                                      *Scan csv|                  1|                 0|        -1|<br>|                                                  *Scan parquet|                  1|                 0|        -1|<br>|                                                         Filter|                  2|                 2|         0|<br>|                                                   InputAdapter|                  4|                 4|         0|<br>|                                                        Project|                  3|                 3|         0|<br>|                                                ShuffleExchange|                  2|                 2|         0|<br>|                                                           Sort|                  2|                 2|         0|<br>|                                                  SortMergeJoin|                  1|                 1|         0|<br>|                                              WholeStageCodegen|                  5|                 5|         0|<br>+---------------------------------------------------------------+-------------------+------------------+----------+<br><br></pre>"
          },
          "metadata": {}
        }
      ],
      "execution_count": 6,
      "metadata": {
        "jupyter": {
          "source_hidden": false,
          "outputs_hidden": false
        },
        "nteract": {
          "transient": {
            "deleting": false
          }
        }
      }
    },
    {
      "cell_type": "code",
      "source": [
        "# Disable Hyperspace - Hyperspace rules no longer apply during query optimization. Disabling Hyperspace has no impact on created indexes because they remain intact\r\n",
        "Hyperspace.disable(spark)\r\n",
        "\r\n",
        "hyperspace.deleteIndex(\"indexSALES\")\r\n",
        "hyperspace.vacuumIndex(\"indexSALES\")\r\n",
        "hyperspace.deleteIndex(\"indexCUSTOMERS\")\r\n",
        "hyperspace.vacuumIndex(\"indexCUSTOMERS\")"
      ],
      "outputs": [
        {
          "output_type": "display_data",
          "data": {
            "application/vnd.livy.statement-meta+json": {
              "spark_pool": "SparkPool01",
              "session_id": 0,
              "statement_id": 7,
              "state": "finished",
              "livy_statement_state": "available",
              "queued_time": "2022-07-21T02:42:59.4093521Z",
              "session_start_time": null,
              "execution_start_time": "2022-07-21T02:42:59.5078179Z",
              "execution_finish_time": "2022-07-21T02:43:03.4262824Z"
            },
            "text/plain": "StatementMeta(SparkPool01, 0, 7, Finished, Available)"
          },
          "metadata": {}
        }
      ],
      "execution_count": 7,
      "metadata": {
        "jupyter": {
          "source_hidden": false,
          "outputs_hidden": false
        },
        "nteract": {
          "transient": {
            "deleting": false
          }
        }
      }
    },
    {
      "cell_type": "code",
      "source": [
        "from notebookutils import mssparkutils\r\n",
        "\r\n",
        "#\r\n",
        "# Microsoft Spark Utilities\r\n",
        "#\r\n",
        "# https://docs.microsoft.com/en-us/azure/synapse-analytics/spark/microsoft-spark-utilities?pivots=programming-language-python\r\n",
        "#\r\n",
        "\r\n",
        "# Azure storage access info\r\n",
        "blob_account_name = datalake\r\n",
        "blob_container_name = 'wwi-02'\r\n",
        "blob_relative_path = '/'\r\n",
        "linkedServiceName = datalake\r\n",
        "blob_sas_token = mssparkutils.credentials.getConnectionStringOrCreds(linkedServiceName)\r\n",
        "\r\n",
        "# Allow SPARK to access from Blob remotely\r\n",
        "spark.conf.set('fs.azure.sas.%s.%s.blob.core.windows.net' % (blob_container_name, blob_account_name), blob_sas_token)\r\n",
        "\r\n",
        "files = mssparkutils.fs.ls('/')\r\n",
        "for file in files:\r\n",
        "    print(file.name, file.isDir, file.isFile, file.path, file.size)\r\n",
        "\r\n",
        "mssparkutils.fs.mkdirs('/SomeNewFolder')\r\n",
        "\r\n",
        "files = mssparkutils.fs.ls('/')\r\n",
        "for file in files:\r\n",
        "    print(file.name, file.isDir, file.isFile, file.path, file.size)"
      ],
      "outputs": [
        {
          "output_type": "display_data",
          "data": {
            "application/vnd.livy.statement-meta+json": {
              "spark_pool": "SparkPool01",
              "session_id": 0,
              "statement_id": 8,
              "state": "finished",
              "livy_statement_state": "available",
              "queued_time": "2022-07-21T02:43:53.0006066Z",
              "session_start_time": null,
              "execution_start_time": "2022-07-21T02:43:53.1217599Z",
              "execution_finish_time": "2022-07-21T02:43:55.8972589Z"
            },
            "text/plain": "StatementMeta(SparkPool01, 0, 8, Finished, Available)"
          },
          "metadata": {}
        },
        {
          "output_type": "stream",
          "name": "stdout",
          "text": [
            "synapse True False abfss://tempdata@asadatalakeic6nl8d.dfs.core.windows.net/synapse 0\nSomeNewFolder True False abfss://tempdata@asadatalakeic6nl8d.dfs.core.windows.net/SomeNewFolder 0\nsynapse True False abfss://tempdata@asadatalakeic6nl8d.dfs.core.windows.net/synapse 0\n"
          ]
        }
      ],
      "execution_count": 8,
      "metadata": {
        "jupyter": {
          "source_hidden": false,
          "outputs_hidden": false
        },
        "nteract": {
          "transient": {
            "deleting": false
          }
        }
      }
    }
  ],
  "metadata": {
    "language_info": {
      "name": "python"
    },
    "kernelspec": {
      "name": "synapse_pyspark",
      "language": "Python",
      "display_name": "Synapse PySpark"
    },
    "kernel_info": {
      "name": "synapse_pyspark"
    },
    "save_output": true,
    "synapse_widget": {
      "version": "0.1",
      "state": {}
    }
  },
  "nbformat": 4,
  "nbformat_minor": 2
}