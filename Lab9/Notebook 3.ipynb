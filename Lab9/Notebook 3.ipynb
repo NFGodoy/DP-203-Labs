{
  "cells": [
    {
      "cell_type": "code",
      "source": [
        "# Read from Cosmos DB analytical store into a Spark DataFrame and display 10 rows from the DataFrame\n",
        "# To select a preferred list of regions in a multi-region Cosmos DB account, add .option(\"spark.cosmos.preferredRegions\", \"<Region1>,<Region2>\")\n",
        "\n",
        "df = spark.read\\\n",
        "    .format(\"cosmos.olap\")\\\n",
        "    .option(\"spark.synapse.linkedService\", \"asacosmosdb01\")\\\n",
        "    .option(\"spark.cosmos.container\", \"UserProfileHTAP\")\\\n",
        "    .load()\n",
        "\n",
        "display(df.limit(10))"
      ],
      "outputs": [
        {
          "output_type": "display_data",
          "data": {
            "application/vnd.livy.statement-meta+json": {
              "spark_pool": "SparkPool01",
              "session_id": "7",
              "statement_id": 2,
              "state": "finished",
              "livy_statement_state": "available",
              "queued_time": "2022-07-26T22:46:31.5696788Z",
              "session_start_time": "2022-07-26T22:46:31.6064345Z",
              "execution_start_time": "2022-07-26T22:49:10.5544868Z",
              "execution_finish_time": "2022-07-26T22:49:38.4985849Z",
              "spark_jobs": null
            },
            "text/plain": "StatementMeta(SparkPool01, 7, 2, Finished, Available)"
          },
          "metadata": {}
        },
        {
          "output_type": "display_data",
          "data": {
            "application/vnd.synapse.widget-view+json": {
              "widget_id": "9ca4cebd-c841-46bf-a475-38a971153fc0",
              "widget_type": "Synapse.DataFrame"
            },
            "text/plain": "SynapseWidget(Synapse.DataFrame, 9ca4cebd-c841-46bf-a475-38a971153fc0)"
          },
          "metadata": {}
        }
      ],
      "execution_count": 1,
      "metadata": {
        "collapsed": false
      }
    },
    {
      "cell_type": "code",
      "source": [
        "unwanted_cols = {'_attachments','_etag','_rid','_self','_ts','collectionType','id'}\r\n",
        "\r\n",
        "# Remove unwanted columns from the columns collection\r\n",
        "cols = list(set(df.columns) - unwanted_cols)\r\n",
        "\r\n",
        "profiles = df.select(cols)\r\n",
        "\r\n",
        "display(profiles.limit(10))"
      ],
      "outputs": [
        {
          "output_type": "display_data",
          "data": {
            "application/vnd.livy.statement-meta+json": {
              "spark_pool": "SparkPool01",
              "session_id": "7",
              "statement_id": 3,
              "state": "finished",
              "livy_statement_state": "available",
              "queued_time": "2022-07-26T22:50:02.8151968Z",
              "session_start_time": null,
              "execution_start_time": "2022-07-26T22:50:02.9255758Z",
              "execution_finish_time": "2022-07-26T22:50:04.7379238Z",
              "spark_jobs": null
            },
            "text/plain": "StatementMeta(SparkPool01, 7, 3, Finished, Available)"
          },
          "metadata": {}
        },
        {
          "output_type": "display_data",
          "data": {
            "application/vnd.synapse.widget-view+json": {
              "widget_id": "98d8df73-050c-4b83-a296-7a36dae452ee",
              "widget_type": "Synapse.DataFrame"
            },
            "text/plain": "SynapseWidget(Synapse.DataFrame, 98d8df73-050c-4b83-a296-7a36dae452ee)"
          },
          "metadata": {}
        }
      ],
      "execution_count": 2,
      "metadata": {
        "jupyter": {
          "source_hidden": false,
          "outputs_hidden": false
        },
        "nteract": {
          "transient": {
            "deleting": false
          }
        },
        "collapsed": false
      }
    },
    {
      "cell_type": "code",
      "source": [
        "profiles.count()"
      ],
      "outputs": [
        {
          "output_type": "display_data",
          "data": {
            "application/vnd.livy.statement-meta+json": {
              "spark_pool": "SparkPool01",
              "session_id": "7",
              "statement_id": 4,
              "state": "finished",
              "livy_statement_state": "available",
              "queued_time": "2022-07-26T22:50:15.5367384Z",
              "session_start_time": null,
              "execution_start_time": "2022-07-26T22:50:15.6378283Z",
              "execution_finish_time": "2022-07-26T22:50:16.6580148Z",
              "spark_jobs": null
            },
            "text/plain": "StatementMeta(SparkPool01, 7, 4, Finished, Available)"
          },
          "metadata": {}
        },
        {
          "output_type": "execute_result",
          "execution_count": 9,
          "data": {
            "text/plain": "99999"
          },
          "metadata": {}
        }
      ],
      "execution_count": 3,
      "metadata": {
        "jupyter": {
          "source_hidden": false,
          "outputs_hidden": false
        },
        "nteract": {
          "transient": {
            "deleting": false
          }
        }
      }
    },
    {
      "cell_type": "code",
      "source": [
        "from pyspark.sql.functions import udf, explode\r\n",
        "\r\n",
        "preferredProductsFlat=profiles.select('userId',explode('preferredProducts').alias('productId'))\r\n",
        "productReviewsFlat=profiles.select('userId',explode('productReviews').alias('productReviews'))\r\n",
        "display(productReviewsFlat.limit(10))"
      ],
      "outputs": [
        {
          "output_type": "display_data",
          "data": {
            "application/vnd.livy.statement-meta+json": {
              "spark_pool": "SparkPool01",
              "session_id": "7",
              "statement_id": 5,
              "state": "finished",
              "livy_statement_state": "available",
              "queued_time": "2022-07-26T22:50:21.9294943Z",
              "session_start_time": null,
              "execution_start_time": "2022-07-26T22:50:22.0222162Z",
              "execution_finish_time": "2022-07-26T22:50:23.8589728Z",
              "spark_jobs": null
            },
            "text/plain": "StatementMeta(SparkPool01, 7, 5, Finished, Available)"
          },
          "metadata": {}
        },
        {
          "output_type": "display_data",
          "data": {
            "application/vnd.synapse.widget-view+json": {
              "widget_id": "51b64e58-e9e0-42a2-b4c9-7633c5e11731",
              "widget_type": "Synapse.DataFrame"
            },
            "text/plain": "SynapseWidget(Synapse.DataFrame, 51b64e58-e9e0-42a2-b4c9-7633c5e11731)"
          },
          "metadata": {}
        }
      ],
      "execution_count": 4,
      "metadata": {
        "jupyter": {
          "source_hidden": false,
          "outputs_hidden": false
        },
        "nteract": {
          "transient": {
            "deleting": false
          }
        },
        "collapsed": false
      }
    },
    {
      "cell_type": "code",
      "source": [
        "display(preferredProductsFlat.limit(20))"
      ],
      "outputs": [
        {
          "output_type": "display_data",
          "data": {
            "application/vnd.livy.statement-meta+json": {
              "spark_pool": "SparkPool01",
              "session_id": "7",
              "statement_id": 6,
              "state": "finished",
              "livy_statement_state": "available",
              "queued_time": "2022-07-26T22:50:33.0038191Z",
              "session_start_time": null,
              "execution_start_time": "2022-07-26T22:50:33.1027818Z",
              "execution_finish_time": "2022-07-26T22:50:34.1328783Z",
              "spark_jobs": null
            },
            "text/plain": "StatementMeta(SparkPool01, 7, 6, Finished, Available)"
          },
          "metadata": {}
        },
        {
          "output_type": "display_data",
          "data": {
            "application/vnd.synapse.widget-view+json": {
              "widget_id": "6167835c-91a7-4cc3-a94a-f94d3d19b682",
              "widget_type": "Synapse.DataFrame"
            },
            "text/plain": "SynapseWidget(Synapse.DataFrame, 6167835c-91a7-4cc3-a94a-f94d3d19b682)"
          },
          "metadata": {}
        }
      ],
      "execution_count": 5,
      "metadata": {
        "jupyter": {
          "source_hidden": false,
          "outputs_hidden": false
        },
        "nteract": {
          "transient": {
            "deleting": false
          }
        },
        "collapsed": false
      }
    },
    {
      "cell_type": "code",
      "source": [
        "productReviews = (productReviewsFlat.select('userId','productReviews.productId','productReviews.reviewText')\r\n",
        "    .orderBy('userId'))\r\n",
        "\r\n",
        "display(productReviews.limit(10))"
      ],
      "outputs": [
        {
          "output_type": "display_data",
          "data": {
            "application/vnd.livy.statement-meta+json": {
              "spark_pool": "SparkPool01",
              "session_id": "7",
              "statement_id": 7,
              "state": "finished",
              "livy_statement_state": "available",
              "queued_time": "2022-07-26T22:50:40.3618549Z",
              "session_start_time": null,
              "execution_start_time": "2022-07-26T22:50:40.4732074Z",
              "execution_finish_time": "2022-07-26T22:50:42.2828275Z",
              "spark_jobs": null
            },
            "text/plain": "StatementMeta(SparkPool01, 7, 7, Finished, Available)"
          },
          "metadata": {}
        },
        {
          "output_type": "display_data",
          "data": {
            "application/vnd.synapse.widget-view+json": {
              "widget_id": "471b33d3-3efd-4a6e-b09d-b40cd2cd0782",
              "widget_type": "Synapse.DataFrame"
            },
            "text/plain": "SynapseWidget(Synapse.DataFrame, 471b33d3-3efd-4a6e-b09d-b40cd2cd0782)"
          },
          "metadata": {}
        }
      ],
      "execution_count": 6,
      "metadata": {
        "jupyter": {
          "source_hidden": false,
          "outputs_hidden": false
        },
        "nteract": {
          "transient": {
            "deleting": false
          }
        },
        "collapsed": false
      }
    },
    {
      "cell_type": "code",
      "source": [
        "preferredProductReviews = (preferredProductsFlat.join(productReviews,\r\n",
        "    (preferredProductsFlat.userId == productReviews.userId) &\r\n",
        "    (preferredProductsFlat.productId == productReviews.productId))\r\n",
        ")\r\n",
        "\r\n",
        "display(preferredProductReviews.limit(100))"
      ],
      "outputs": [
        {
          "output_type": "display_data",
          "data": {
            "application/vnd.livy.statement-meta+json": {
              "spark_pool": "SparkPool01",
              "session_id": "7",
              "statement_id": 8,
              "state": "finished",
              "livy_statement_state": "available",
              "queued_time": "2022-07-26T22:50:50.181851Z",
              "session_start_time": null,
              "execution_start_time": "2022-07-26T22:50:50.3220104Z",
              "execution_finish_time": "2022-07-26T22:50:57.180111Z",
              "spark_jobs": null
            },
            "text/plain": "StatementMeta(SparkPool01, 7, 8, Finished, Available)"
          },
          "metadata": {}
        },
        {
          "output_type": "display_data",
          "data": {
            "application/vnd.synapse.widget-view+json": {
              "widget_id": "0e2cfc0a-5deb-4847-8ec6-87469bc8f60c",
              "widget_type": "Synapse.DataFrame"
            },
            "text/plain": "SynapseWidget(Synapse.DataFrame, 0e2cfc0a-5deb-4847-8ec6-87469bc8f60c)"
          },
          "metadata": {}
        }
      ],
      "execution_count": 7,
      "metadata": {
        "jupyter": {
          "source_hidden": false,
          "outputs_hidden": false
        },
        "nteract": {
          "transient": {
            "deleting": false
          }
        },
        "collapsed": false
      }
    },
    {
      "cell_type": "code",
      "source": [],
      "outputs": [],
      "execution_count": null,
      "metadata": {
        "jupyter": {
          "source_hidden": false,
          "outputs_hidden": false
        },
        "nteract": {
          "transient": {
            "deleting": false
          }
        }
      }
    }
  ],
  "metadata": {
    "language_info": {
      "name": "python"
    },
    "kernelspec": {
      "name": "synapse_pyspark",
      "language": "Python",
      "display_name": "Synapse PySpark"
    },
    "kernel_info": {
      "name": "synapse_pyspark"
    },
    "save_output": true,
    "synapse_widget": {
      "version": "0.1",
      "state": {
        "9ca4cebd-c841-46bf-a475-38a971153fc0": {
          "type": "Synapse.DataFrame",
          "sync_state": {
            "table": {
              "rows": [
                {
                  "0": "Ar0GALKG3m8CAAAAAAAAAA==",
                  "1": "1658875027",
                  "2": "80892",
                  "3": "b28bb095-c86b-48c3-b1ed-d5d071a4e8e3",
                  "4": [
                    4901,
                    1985,
                    4132,
                    1992,
                    112,
                    3314,
                    212
                  ],
                  "5": [
                    {
                      "productId": 1966,
                      "reviewText": "I saw one of these in Comoros and I bought one.",
                      "reviewDate": "2019-07-28T18:07:53.3648133+00:00"
                    },
                    {
                      "productId": 4988,
                      "reviewText": "The box this comes in is 4 mile by 5 yard and weights 18 pound!!",
                      "reviewDate": "2016-07-09T15:30:44.3336829+00:00"
                    }
                  ],
                  "6": "86586541-b72a-44c5-8669-a2ffdb3f97c4",
                  "7": "\"44007f12-0000-0200-0000-62e06c930000\""
                },
                {
                  "0": "Ar0GALKG3m8DAAAAAAAAAA==",
                  "1": "1658875027",
                  "2": "95920",
                  "3": "ebfaa1d4-b30d-46d1-88d3-cadc14a84263",
                  "4": [
                    319,
                    1581,
                    4890,
                    2897,
                    2999
                  ],
                  "5": [
                    {
                      "productId": 3010,
                      "reviewText": "The box this comes in is 5 foot by 6 inch and weights 17 pound!!!",
                      "reviewDate": "2016-09-30T10:43:19.1398819+00:00"
                    },
                    {
                      "productId": 3229,
                      "reviewText": "works okay.",
                      "reviewDate": "2018-06-26T05:54:00.9765435+00:00"
                    },
                    {
                      "productId": 4302,
                      "reviewText": "this capacitor is honest.",
                      "reviewDate": "2019-04-28T04:34:46.4958751+00:00"
                    },
                    {
                      "productId": 1748,
                      "reviewText": "I tried to cremate it but got Turkish Delight all over it.",
                      "reviewDate": "2018-07-31T09:01:06.1515566+00:00"
                    },
                    {
                      "productId": 199,
                      "reviewText": "The box this comes in is 5 kilometer by 6 meter and weights 20 ounce!",
                      "reviewDate": "2019-01-03T00:47:26.1167647+00:00"
                    }
                  ],
                  "6": "c7e3bc9c-30ec-400b-89d5-3af71771979e",
                  "7": "\"44008012-0000-0200-0000-62e06c930000\""
                },
                {
                  "0": "Ar0GALKG3m8EAAAAAAAAAA==",
                  "1": "1658875027",
                  "2": "60391",
                  "3": "52dda2e4-df35-49c1-a673-0e68e74a4696",
                  "4": [
                    3047,
                    3368,
                    1897,
                    4568,
                    2402
                  ],
                  "5": [],
                  "6": "2be712e4-5c8a-4334-973a-b768d630e2df",
                  "7": "\"44008112-0000-0200-0000-62e06c930000\""
                },
                {
                  "0": "Ar0GALKG3m8FAAAAAAAAAA==",
                  "1": "1658875027",
                  "2": "70159",
                  "3": "c50053a2-34f2-408f-86d3-b231bab276a2",
                  "4": [
                    3918
                  ],
                  "5": [
                    {
                      "productId": 2598,
                      "reviewText": "This Gardens works considerably well. It mildly improves my basketball by a lot.",
                      "reviewDate": "2017-02-07T16:07:18.1899655+00:00"
                    },
                    {
                      "productId": 852,
                      "reviewText": "The box this comes in is 3 meter by 6 yard and weights 12 pound.",
                      "reviewDate": "2016-05-14T15:48:41.8823217+00:00"
                    },
                    {
                      "productId": 3611,
                      "reviewText": "one of my hobbies is mushroom cultivation. and when i'm cultivating mushrooms this works great.",
                      "reviewDate": "2019-12-20T12:06:58.1925518+00:00"
                    },
                    {
                      "productId": 2086,
                      "reviewText": "It only works when I'm Singapore.",
                      "reviewDate": "2018-01-01T17:43:02.9924665+00:00"
                    },
                    {
                      "productId": 2406,
                      "reviewText": "this Sleek Frozen Mouse is flirty.",
                      "reviewDate": "2018-10-18T05:27:25.7665007+00:00"
                    }
                  ],
                  "6": "70bb4e38-2b30-46a6-a0db-ff6ccd44e81d",
                  "7": "\"44008212-0000-0200-0000-62e06c930000\""
                },
                {
                  "0": "Ar0GALKG3m8HAAAAAAAAAA==",
                  "1": "1658875027",
                  "2": "86513",
                  "3": "ded33168-f603-44fa-9b98-64670b3f99f2",
                  "4": [],
                  "5": [],
                  "6": "5ce4b89f-c9ac-4206-8ec8-afa112cd10b3",
                  "7": "\"44008412-0000-0200-0000-62e06c930000\""
                },
                {
                  "0": "Ar0GALKG3m8JAAAAAAAAAA==",
                  "1": "1658875027",
                  "2": "74322",
                  "3": "29aeb26e-c55e-4bc7-8181-13dca8ea1561",
                  "4": [
                    3001,
                    3768,
                    3073,
                    1938,
                    1827,
                    4399,
                    4246,
                    370,
                    2546
                  ],
                  "5": [
                    {
                      "productId": 4742,
                      "reviewText": "i use it occasionally when i'm in my outhouse.",
                      "reviewDate": "2018-08-10T07:25:28.3533069+00:00"
                    },
                    {
                      "productId": 361,
                      "reviewText": "It only works when I'm Malaysia.",
                      "reviewDate": "2018-12-02T04:20:58.3523753+00:00"
                    },
                    {
                      "productId": 2070,
                      "reviewText": "My co-worker Skylar has one of these. He says it looks sweaty.",
                      "reviewDate": "2020-04-18T01:54:27.465666+00:00"
                    },
                    {
                      "productId": 1589,
                      "reviewText": "The box this comes in is 3 yard by 6 light-year and weights 11 megaton!!",
                      "reviewDate": "2016-10-02T18:49:16.5444057+00:00"
                    },
                    {
                      "productId": 1690,
                      "reviewText": "I tried to strangle it but got hazelnut all over it.",
                      "reviewDate": "2017-07-01T00:22:11.7538347+00:00"
                    }
                  ],
                  "6": "44e436aa-b306-4d24-a8d3-2578ebe562d2",
                  "7": "\"44008612-0000-0200-0000-62e06c930000\""
                },
                {
                  "0": "Ar0GALKG3m8MAAAAAAAAAA==",
                  "1": "1658875027",
                  "2": "84152",
                  "3": "d752076e-726a-493c-abda-d0c1deddfee4",
                  "4": [
                    1122
                  ],
                  "5": [
                    {
                      "productId": 2158,
                      "reviewText": "It only works when I'm Bolivia.",
                      "reviewDate": "2016-12-08T14:00:27.3231725+00:00"
                    },
                    {
                      "productId": 3307,
                      "reviewText": "It only works when I'm Finland.",
                      "reviewDate": "2019-07-28T09:59:25.6487588+00:00"
                    },
                    {
                      "productId": 690,
                      "reviewText": "My peacock loves to play with it.",
                      "reviewDate": "2016-06-18T22:41:29.3720898+00:00"
                    }
                  ],
                  "6": "4e2e9222-c374-4ad6-8c12-0fb331b32a12",
                  "7": "\"44008912-0000-0200-0000-62e06c930000\""
                },
                {
                  "0": "Ar0GALKG3m8NAAAAAAAAAA==",
                  "1": "1658875027",
                  "2": "86732",
                  "3": "4593c827-3108-4f23-ab5c-35180ba4eda4",
                  "4": [
                    3670,
                    3900,
                    858,
                    4842,
                    2861,
                    423,
                    4165,
                    2242
                  ],
                  "5": [
                    {
                      "productId": 2180,
                      "reviewText": "It only works when I'm Chad.",
                      "reviewDate": "2018-12-06T00:50:11.1683884+00:00"
                    },
                    {
                      "productId": 288,
                      "reviewText": "My neighbor Albertina has one of these. She works as a gardener and she says it looks humongous.",
                      "reviewDate": "2018-01-31T00:33:30.1070784+00:00"
                    },
                    {
                      "productId": 2492,
                      "reviewText": "heard about this on wonky radio, decided to give it a try.",
                      "reviewDate": "2018-07-17T23:41:16.9239828+00:00"
                    },
                    {
                      "productId": 4289,
                      "reviewText": "My co-worker Tyron has one of these. He says it looks stout.",
                      "reviewDate": "2019-12-09T20:57:19.8148475+00:00"
                    }
                  ],
                  "6": "34534cf3-d0da-44aa-ac9e-5a4c1b59e01c",
                  "7": "\"44008a12-0000-0200-0000-62e06c930000\""
                },
                {
                  "0": "Ar0GALKG3m8PAAAAAAAAAA==",
                  "1": "1658875027",
                  "2": "92417",
                  "3": "a39c9f66-af52-4c1e-a392-dac7b2d4ee70",
                  "4": [
                    688,
                    3560,
                    2882,
                    4156,
                    1557,
                    787,
                    3960,
                    1219,
                    4965,
                    3216
                  ],
                  "5": [
                    {
                      "productId": 4455,
                      "reviewText": "I tried to nab it but got biscuit all over it.",
                      "reviewDate": "2019-10-24T16:05:59.5955196+00:00"
                    }
                  ],
                  "6": "f598f705-a7ee-4765-aa76-a76149cbf26b",
                  "7": "\"44008c12-0000-0200-0000-62e06c930000\""
                },
                {
                  "0": "Ar0GALKG3m8RAAAAAAAAAA==",
                  "1": "1658875027",
                  "2": "92269",
                  "3": "71183f9a-46f4-4fea-bd3d-02a6aec05062",
                  "4": [
                    3487,
                    4157,
                    1554,
                    2158,
                    632,
                    1716,
                    1466
                  ],
                  "5": [],
                  "6": "6919575d-1473-4b1b-aa18-d22438ee1220",
                  "7": "\"44008e12-0000-0200-0000-62e06c930000\""
                }
              ],
              "schema": [
                {
                  "key": "0",
                  "name": "_rid",
                  "type": "string"
                },
                {
                  "key": "1",
                  "name": "_ts",
                  "type": "bigint"
                },
                {
                  "key": "2",
                  "name": "userId",
                  "type": "bigint"
                },
                {
                  "key": "3",
                  "name": "cartId",
                  "type": "string"
                },
                {
                  "key": "4",
                  "name": "preferredProducts",
                  "type": "ArrayType(LongType,true)"
                },
                {
                  "key": "5",
                  "name": "productReviews",
                  "type": "ArrayType(StructType(StructField(productId,LongType,true), StructField(reviewText,StringType,true), StructField(reviewDate,StringType,true)),true)"
                },
                {
                  "key": "6",
                  "name": "id",
                  "type": "string"
                },
                {
                  "key": "7",
                  "name": "_etag",
                  "type": "string"
                }
              ],
              "truncated": false
            },
            "isSummary": false,
            "language": "scala"
          },
          "persist_state": {
            "view": {
              "type": "details",
              "tableOptions": {},
              "chartOptions": {
                "chartType": "bar",
                "aggregationType": "sum",
                "categoryFieldKeys": [
                  "0"
                ],
                "seriesFieldKeys": [
                  "1"
                ],
                "isStacked": false
              }
            }
          }
        },
        "98d8df73-050c-4b83-a296-7a36dae452ee": {
          "type": "Synapse.DataFrame",
          "sync_state": {
            "table": {
              "rows": [
                {
                  "0": [
                    4901,
                    1985,
                    4132,
                    1992,
                    112,
                    3314,
                    212
                  ],
                  "1": "80892",
                  "2": [
                    {
                      "productId": 1966,
                      "reviewText": "I saw one of these in Comoros and I bought one.",
                      "reviewDate": "2019-07-28T18:07:53.3648133+00:00"
                    },
                    {
                      "productId": 4988,
                      "reviewText": "The box this comes in is 4 mile by 5 yard and weights 18 pound!!",
                      "reviewDate": "2016-07-09T15:30:44.3336829+00:00"
                    }
                  ],
                  "3": "b28bb095-c86b-48c3-b1ed-d5d071a4e8e3"
                },
                {
                  "0": [
                    319,
                    1581,
                    4890,
                    2897,
                    2999
                  ],
                  "1": "95920",
                  "2": [
                    {
                      "productId": 3010,
                      "reviewText": "The box this comes in is 5 foot by 6 inch and weights 17 pound!!!",
                      "reviewDate": "2016-09-30T10:43:19.1398819+00:00"
                    },
                    {
                      "productId": 3229,
                      "reviewText": "works okay.",
                      "reviewDate": "2018-06-26T05:54:00.9765435+00:00"
                    },
                    {
                      "productId": 4302,
                      "reviewText": "this capacitor is honest.",
                      "reviewDate": "2019-04-28T04:34:46.4958751+00:00"
                    },
                    {
                      "productId": 1748,
                      "reviewText": "I tried to cremate it but got Turkish Delight all over it.",
                      "reviewDate": "2018-07-31T09:01:06.1515566+00:00"
                    },
                    {
                      "productId": 199,
                      "reviewText": "The box this comes in is 5 kilometer by 6 meter and weights 20 ounce!",
                      "reviewDate": "2019-01-03T00:47:26.1167647+00:00"
                    }
                  ],
                  "3": "ebfaa1d4-b30d-46d1-88d3-cadc14a84263"
                },
                {
                  "0": [
                    3047,
                    3368,
                    1897,
                    4568,
                    2402
                  ],
                  "1": "60391",
                  "2": [],
                  "3": "52dda2e4-df35-49c1-a673-0e68e74a4696"
                },
                {
                  "0": [
                    3918
                  ],
                  "1": "70159",
                  "2": [
                    {
                      "productId": 2598,
                      "reviewText": "This Gardens works considerably well. It mildly improves my basketball by a lot.",
                      "reviewDate": "2017-02-07T16:07:18.1899655+00:00"
                    },
                    {
                      "productId": 852,
                      "reviewText": "The box this comes in is 3 meter by 6 yard and weights 12 pound.",
                      "reviewDate": "2016-05-14T15:48:41.8823217+00:00"
                    },
                    {
                      "productId": 3611,
                      "reviewText": "one of my hobbies is mushroom cultivation. and when i'm cultivating mushrooms this works great.",
                      "reviewDate": "2019-12-20T12:06:58.1925518+00:00"
                    },
                    {
                      "productId": 2086,
                      "reviewText": "It only works when I'm Singapore.",
                      "reviewDate": "2018-01-01T17:43:02.9924665+00:00"
                    },
                    {
                      "productId": 2406,
                      "reviewText": "this Sleek Frozen Mouse is flirty.",
                      "reviewDate": "2018-10-18T05:27:25.7665007+00:00"
                    }
                  ],
                  "3": "c50053a2-34f2-408f-86d3-b231bab276a2"
                },
                {
                  "0": [],
                  "1": "86513",
                  "2": [],
                  "3": "ded33168-f603-44fa-9b98-64670b3f99f2"
                },
                {
                  "0": [
                    3001,
                    3768,
                    3073,
                    1938,
                    1827,
                    4399,
                    4246,
                    370,
                    2546
                  ],
                  "1": "74322",
                  "2": [
                    {
                      "productId": 4742,
                      "reviewText": "i use it occasionally when i'm in my outhouse.",
                      "reviewDate": "2018-08-10T07:25:28.3533069+00:00"
                    },
                    {
                      "productId": 361,
                      "reviewText": "It only works when I'm Malaysia.",
                      "reviewDate": "2018-12-02T04:20:58.3523753+00:00"
                    },
                    {
                      "productId": 2070,
                      "reviewText": "My co-worker Skylar has one of these. He says it looks sweaty.",
                      "reviewDate": "2020-04-18T01:54:27.465666+00:00"
                    },
                    {
                      "productId": 1589,
                      "reviewText": "The box this comes in is 3 yard by 6 light-year and weights 11 megaton!!",
                      "reviewDate": "2016-10-02T18:49:16.5444057+00:00"
                    },
                    {
                      "productId": 1690,
                      "reviewText": "I tried to strangle it but got hazelnut all over it.",
                      "reviewDate": "2017-07-01T00:22:11.7538347+00:00"
                    }
                  ],
                  "3": "29aeb26e-c55e-4bc7-8181-13dca8ea1561"
                },
                {
                  "0": [
                    1122
                  ],
                  "1": "84152",
                  "2": [
                    {
                      "productId": 2158,
                      "reviewText": "It only works when I'm Bolivia.",
                      "reviewDate": "2016-12-08T14:00:27.3231725+00:00"
                    },
                    {
                      "productId": 3307,
                      "reviewText": "It only works when I'm Finland.",
                      "reviewDate": "2019-07-28T09:59:25.6487588+00:00"
                    },
                    {
                      "productId": 690,
                      "reviewText": "My peacock loves to play with it.",
                      "reviewDate": "2016-06-18T22:41:29.3720898+00:00"
                    }
                  ],
                  "3": "d752076e-726a-493c-abda-d0c1deddfee4"
                },
                {
                  "0": [
                    3670,
                    3900,
                    858,
                    4842,
                    2861,
                    423,
                    4165,
                    2242
                  ],
                  "1": "86732",
                  "2": [
                    {
                      "productId": 2180,
                      "reviewText": "It only works when I'm Chad.",
                      "reviewDate": "2018-12-06T00:50:11.1683884+00:00"
                    },
                    {
                      "productId": 288,
                      "reviewText": "My neighbor Albertina has one of these. She works as a gardener and she says it looks humongous.",
                      "reviewDate": "2018-01-31T00:33:30.1070784+00:00"
                    },
                    {
                      "productId": 2492,
                      "reviewText": "heard about this on wonky radio, decided to give it a try.",
                      "reviewDate": "2018-07-17T23:41:16.9239828+00:00"
                    },
                    {
                      "productId": 4289,
                      "reviewText": "My co-worker Tyron has one of these. He says it looks stout.",
                      "reviewDate": "2019-12-09T20:57:19.8148475+00:00"
                    }
                  ],
                  "3": "4593c827-3108-4f23-ab5c-35180ba4eda4"
                },
                {
                  "0": [
                    688,
                    3560,
                    2882,
                    4156,
                    1557,
                    787,
                    3960,
                    1219,
                    4965,
                    3216
                  ],
                  "1": "92417",
                  "2": [
                    {
                      "productId": 4455,
                      "reviewText": "I tried to nab it but got biscuit all over it.",
                      "reviewDate": "2019-10-24T16:05:59.5955196+00:00"
                    }
                  ],
                  "3": "a39c9f66-af52-4c1e-a392-dac7b2d4ee70"
                },
                {
                  "0": [
                    3487,
                    4157,
                    1554,
                    2158,
                    632,
                    1716,
                    1466
                  ],
                  "1": "92269",
                  "2": [],
                  "3": "71183f9a-46f4-4fea-bd3d-02a6aec05062"
                }
              ],
              "schema": [
                {
                  "key": "0",
                  "name": "preferredProducts",
                  "type": "ArrayType(LongType,true)"
                },
                {
                  "key": "1",
                  "name": "userId",
                  "type": "bigint"
                },
                {
                  "key": "2",
                  "name": "productReviews",
                  "type": "ArrayType(StructType(StructField(productId,LongType,true), StructField(reviewText,StringType,true), StructField(reviewDate,StringType,true)),true)"
                },
                {
                  "key": "3",
                  "name": "cartId",
                  "type": "string"
                }
              ],
              "truncated": false
            },
            "isSummary": false,
            "language": "scala"
          },
          "persist_state": {
            "view": {
              "type": "details",
              "tableOptions": {},
              "chartOptions": {
                "chartType": "bar",
                "aggregationType": "sum",
                "categoryFieldKeys": [
                  "3"
                ],
                "seriesFieldKeys": [
                  "1"
                ],
                "isStacked": false
              }
            }
          }
        },
        "51b64e58-e9e0-42a2-b4c9-7633c5e11731": {
          "type": "Synapse.DataFrame",
          "sync_state": {
            "table": {
              "rows": [
                {
                  "0": "68600",
                  "1": {
                    "productId": 2933,
                    "reviewText": "talk about contempt!",
                    "reviewDate": "2018-07-14T10:40:52.3746011+00:00"
                  }
                },
                {
                  "0": "95022",
                  "1": {
                    "productId": 235,
                    "reviewText": "I saw one of these in Nauru and I bought one.",
                    "reviewDate": "2017-09-01T23:13:01.4360957+00:00"
                  }
                },
                {
                  "0": "95022",
                  "1": {
                    "productId": 4619,
                    "reviewText": "My dog loves to play with it.",
                    "reviewDate": "2018-05-14T03:37:46.6096144+00:00"
                  }
                },
                {
                  "0": "95022",
                  "1": {
                    "productId": 3514,
                    "reviewText": "The box this comes in is 3 kilometer by 5 foot and weights 16 megaton!!!",
                    "reviewDate": "2016-11-01T11:06:13.1577347+00:00"
                  }
                },
                {
                  "0": "97660",
                  "1": {
                    "productId": 194,
                    "reviewText": "The box this comes in is 3 yard by 6 yard and weights 19 pound!!!",
                    "reviewDate": "2019-06-13T10:37:09.7759403+00:00"
                  }
                },
                {
                  "0": "97660",
                  "1": {
                    "productId": 1036,
                    "reviewText": "I saw one of these in Algeria and I bought one.",
                    "reviewDate": "2016-08-23T00:31:22.5551387+00:00"
                  }
                },
                {
                  "0": "97660",
                  "1": {
                    "productId": 2137,
                    "reviewText": "It only works when I'm Cook Islands.",
                    "reviewDate": "2019-05-10T06:11:30.3696253+00:00"
                  }
                },
                {
                  "0": "97660",
                  "1": {
                    "productId": 4632,
                    "reviewText": "this out-of-the-box is tasty.",
                    "reviewDate": "2016-11-13T03:42:33.9982316+00:00"
                  }
                },
                {
                  "0": "97660",
                  "1": {
                    "productId": 1998,
                    "reviewText": "I saw one of these in Sao Tome and Principe and I bought one.",
                    "reviewDate": "2019-06-28T22:36:18.5222661+00:00"
                  }
                },
                {
                  "0": "79889",
                  "1": {
                    "productId": 2701,
                    "reviewText": "I saw one of these in Algeria and I bought one.",
                    "reviewDate": "2020-03-10T10:16:03.3737344+00:00"
                  }
                }
              ],
              "schema": [
                {
                  "key": "0",
                  "name": "userId",
                  "type": "bigint"
                },
                {
                  "key": "1",
                  "name": "productReviews",
                  "type": "StructType(StructField(productId,LongType,true), StructField(reviewText,StringType,true), StructField(reviewDate,StringType,true))"
                }
              ],
              "truncated": false
            },
            "isSummary": false,
            "language": "scala"
          },
          "persist_state": {
            "view": {
              "type": "details",
              "tableOptions": {},
              "chartOptions": {
                "chartType": "bar",
                "aggregationType": "sum",
                "categoryFieldKeys": [],
                "seriesFieldKeys": [
                  "0"
                ],
                "isStacked": false
              }
            }
          }
        },
        "6167835c-91a7-4cc3-a94a-f94d3d19b682": {
          "type": "Synapse.DataFrame",
          "sync_state": {
            "table": {
              "rows": [
                {
                  "0": "80892",
                  "1": "4901"
                },
                {
                  "0": "80892",
                  "1": "1985"
                },
                {
                  "0": "80892",
                  "1": "4132"
                },
                {
                  "0": "80892",
                  "1": "1992"
                },
                {
                  "0": "80892",
                  "1": "112"
                },
                {
                  "0": "80892",
                  "1": "3314"
                },
                {
                  "0": "80892",
                  "1": "212"
                },
                {
                  "0": "95920",
                  "1": "319"
                },
                {
                  "0": "95920",
                  "1": "1581"
                },
                {
                  "0": "95920",
                  "1": "4890"
                },
                {
                  "0": "95920",
                  "1": "2897"
                },
                {
                  "0": "95920",
                  "1": "2999"
                },
                {
                  "0": "60391",
                  "1": "3047"
                },
                {
                  "0": "60391",
                  "1": "3368"
                },
                {
                  "0": "60391",
                  "1": "1897"
                },
                {
                  "0": "60391",
                  "1": "4568"
                },
                {
                  "0": "60391",
                  "1": "2402"
                },
                {
                  "0": "70159",
                  "1": "3918"
                },
                {
                  "0": "74322",
                  "1": "3001"
                },
                {
                  "0": "74322",
                  "1": "3768"
                }
              ],
              "schema": [
                {
                  "key": "0",
                  "name": "userId",
                  "type": "bigint"
                },
                {
                  "key": "1",
                  "name": "productId",
                  "type": "bigint"
                }
              ],
              "truncated": false
            },
            "isSummary": false,
            "language": "scala"
          },
          "persist_state": {
            "view": {
              "type": "details",
              "tableOptions": {},
              "chartOptions": {
                "chartType": "bar",
                "aggregationType": "sum",
                "categoryFieldKeys": [
                  "1"
                ],
                "seriesFieldKeys": [
                  "0"
                ],
                "isStacked": false
              }
            }
          }
        },
        "471b33d3-3efd-4a6e-b09d-b40cd2cd0782": {
          "type": "Synapse.DataFrame",
          "sync_state": {
            "table": {
              "rows": [
                {
                  "0": "1",
                  "1": "3687",
                  "2": "I saw one of these in Nauru and I bought one."
                },
                {
                  "0": "1",
                  "1": "3397",
                  "2": "It only works when I'm Juan de Nova Island."
                },
                {
                  "0": "1",
                  "1": "4953",
                  "2": "My neighbor Georgine has one of these. She works as a fireman and she says it looks colorful."
                },
                {
                  "0": "1",
                  "1": "2864",
                  "2": "i use it this time when i'm in my port-a-potty."
                },
                {
                  "0": "1",
                  "1": "3286",
                  "2": "I saw one of these in Saint Pierre and Miquelon and I bought one."
                },
                {
                  "0": "2",
                  "1": "2900",
                  "2": "My co-worker Archer has one of these. He says it looks crooked."
                },
                {
                  "0": "2",
                  "1": "1808",
                  "2": "It only works when I'm Samoa."
                },
                {
                  "0": "2",
                  "1": "4450",
                  "2": "My baboon loves to play with it."
                },
                {
                  "0": "2",
                  "1": "4151",
                  "2": "My neighbor Georgine has one of these. She works as a fireman and she says it looks colorful."
                },
                {
                  "0": "2",
                  "1": "374",
                  "2": "one of my hobbies is cooking. and when i'm cooking this works great."
                }
              ],
              "schema": [
                {
                  "key": "0",
                  "name": "userId",
                  "type": "bigint"
                },
                {
                  "key": "1",
                  "name": "productId",
                  "type": "bigint"
                },
                {
                  "key": "2",
                  "name": "reviewText",
                  "type": "string"
                }
              ],
              "truncated": false
            },
            "isSummary": false,
            "language": "scala"
          },
          "persist_state": {
            "view": {
              "type": "details",
              "tableOptions": {},
              "chartOptions": {
                "chartType": "bar",
                "aggregationType": "sum",
                "categoryFieldKeys": [
                  "1"
                ],
                "seriesFieldKeys": [
                  "0"
                ],
                "isStacked": false
              }
            }
          }
        },
        "0e2cfc0a-5deb-4847-8ec6-87469bc8f60c": {
          "type": "Synapse.DataFrame",
          "sync_state": {
            "table": {
              "rows": [
                {
                  "0": "549",
                  "1": "1639",
                  "2": "549",
                  "3": "1639",
                  "4": "talk about anticipation!"
                },
                {
                  "0": "922",
                  "1": "1838",
                  "2": "922",
                  "3": "1838",
                  "4": "I saw one of these in Juan de Nova Island and I bought one."
                },
                {
                  "0": "929",
                  "1": "2478",
                  "2": "929",
                  "3": "2478",
                  "4": "The box this comes in is 5 kilometer by 6 yard and weights 18 gram."
                },
                {
                  "0": "1550",
                  "1": "2453",
                  "2": "1550",
                  "3": "2453",
                  "4": "I saw one of these in Tanzania and I bought one."
                },
                {
                  "0": "1557",
                  "1": "4063",
                  "2": "1557",
                  "3": "4063",
                  "4": "It only works when I'm Samoa."
                },
                {
                  "0": "1590",
                  "1": "656",
                  "2": "1590",
                  "3": "656",
                  "4": "I tried to vomit it but got bonbon all over it."
                },
                {
                  "0": "2662",
                  "1": "174",
                  "2": "2662",
                  "3": "174",
                  "4": "talk about contentment!!!"
                },
                {
                  "0": "2863",
                  "1": "4003",
                  "2": "2863",
                  "3": "4003",
                  "4": "talk about contempt!!!"
                },
                {
                  "0": "3616",
                  "1": "3035",
                  "2": "3616",
                  "3": "3035",
                  "4": "The box this comes in is 3 kilometer by 5 foot and weights 16 megaton!!!"
                },
                {
                  "0": "3892",
                  "1": "2297",
                  "2": "3892",
                  "3": "2297",
                  "4": "My Shih-Tzu loves to play with it."
                },
                {
                  "0": "3971",
                  "1": "2624",
                  "2": "3971",
                  "3": "2624",
                  "4": "My goldfinch loves to play with it."
                },
                {
                  "0": "4684",
                  "1": "2739",
                  "2": "4684",
                  "3": "2739",
                  "4": "This deliverables works certainly well. It excitedly improves my football by a lot."
                },
                {
                  "0": "5014",
                  "1": "319",
                  "2": "5014",
                  "3": "319",
                  "4": "this Graphic Interface is vertical."
                },
                {
                  "0": "5316",
                  "1": "2078",
                  "2": "5316",
                  "3": "2078",
                  "4": "The box this comes in is 3 meter by 5 foot and weights 11 kilogram."
                },
                {
                  "0": "5389",
                  "1": "734",
                  "2": "5389",
                  "3": "734",
                  "4": "one of my hobbies is sailing. and when i'm sailing this works great."
                },
                {
                  "0": "6049",
                  "1": "3487",
                  "2": "6049",
                  "3": "3487",
                  "4": "talk about pleasure!"
                },
                {
                  "0": "6235",
                  "1": "403",
                  "2": "6235",
                  "3": "403",
                  "4": "My macaroni penguin loves to play with it."
                },
                {
                  "0": "6435",
                  "1": "2809",
                  "2": "6435",
                  "3": "2809",
                  "4": "heard about this on bouyon radio, decided to give it a try."
                },
                {
                  "0": "9117",
                  "1": "3298",
                  "2": "9117",
                  "3": "3298",
                  "4": "i use it daily when i'm in my outhouse."
                },
                {
                  "0": "9505",
                  "1": "321",
                  "2": "9505",
                  "3": "321",
                  "4": "heard about this on Kansas City jazz radio, decided to give it a try."
                },
                {
                  "0": "9935",
                  "1": "4477",
                  "2": "9935",
                  "3": "4477",
                  "4": "My penguin loves to play with it."
                },
                {
                  "0": "9939",
                  "1": "2513",
                  "2": "9939",
                  "3": "2513",
                  "4": "My neighbor Eller has one of these. She works as a butler and she says it looks smoky."
                },
                {
                  "0": "10302",
                  "1": "957",
                  "2": "10302",
                  "3": "957",
                  "4": "heard about this on ndombolo radio, decided to give it a try."
                },
                {
                  "0": "12632",
                  "1": "543",
                  "2": "12632",
                  "3": "543",
                  "4": "this models is vertical."
                },
                {
                  "0": "12760",
                  "1": "3681",
                  "2": "12760",
                  "3": "3681",
                  "4": "this generating is awesome."
                },
                {
                  "0": "12869",
                  "1": "210",
                  "2": "12869",
                  "3": "210",
                  "4": "My neighbor Montserrat has one of these. She works as a circus performer and she says it looks shriveled."
                },
                {
                  "0": "13119",
                  "1": "3553",
                  "2": "13119",
                  "3": "3553",
                  "4": "It only works when I'm Martinique."
                },
                {
                  "0": "13634",
                  "1": "2830",
                  "2": "13634",
                  "3": "2830",
                  "4": "It only works when I'm Martinique."
                },
                {
                  "0": "13794",
                  "1": "1964",
                  "2": "13794",
                  "3": "1964",
                  "4": "My co-worker Cato has one of these. He says it looks sopping."
                },
                {
                  "0": "17080",
                  "1": "4607",
                  "2": "17080",
                  "3": "4607",
                  "4": "I tried to strangle it but got hazelnut all over it."
                },
                {
                  "0": "18314",
                  "1": "54",
                  "2": "18314",
                  "3": "54",
                  "4": "talk about surprise!!!"
                },
                {
                  "0": "18355",
                  "1": "2828",
                  "2": "18355",
                  "3": "2828",
                  "4": "this Dominican Republic is nifty."
                },
                {
                  "0": "21294",
                  "1": "2075",
                  "2": "21294",
                  "3": "2075",
                  "4": "My co-worker Bryton has one of these. He says it looks ragged."
                },
                {
                  "0": "21822",
                  "1": "2665",
                  "2": "21822",
                  "3": "2665",
                  "4": "It only works when I'm Chad."
                },
                {
                  "0": "21883",
                  "1": "486",
                  "2": "21883",
                  "3": "486",
                  "4": "i use it daily when i'm in my courthouse."
                },
                {
                  "0": "21933",
                  "1": "2613",
                  "2": "21933",
                  "3": "2613",
                  "4": "I saw one of these in Vanuatu and I bought one."
                },
                {
                  "0": "22196",
                  "1": "4677",
                  "2": "22196",
                  "3": "4677",
                  "4": "i use it barely when i'm in my store."
                },
                {
                  "0": "22496",
                  "1": "3441",
                  "2": "22496",
                  "3": "3441",
                  "4": "one of my hobbies is poetry. and when i'm writing poems this works great."
                },
                {
                  "0": "22598",
                  "1": "3439",
                  "2": "22598",
                  "3": "3439",
                  "4": "this reboot is slurpee."
                },
                {
                  "0": "22630",
                  "1": "4680",
                  "2": "22630",
                  "3": "4680",
                  "4": "I tried to shred it but got watermelon all over it."
                },
                {
                  "0": "22776",
                  "1": "3890",
                  "2": "22776",
                  "3": "3890",
                  "4": "My chicken loves to play with it."
                },
                {
                  "0": "22915",
                  "1": "493",
                  "2": "22915",
                  "3": "493",
                  "4": "My neighbor Aldona has one of these. She works as a butler and she says it looks humongous."
                },
                {
                  "0": "23642",
                  "1": "1027",
                  "2": "23642",
                  "3": "1027",
                  "4": "It only works when I'm Finland."
                },
                {
                  "0": "23655",
                  "1": "2853",
                  "2": "23655",
                  "3": "2853",
                  "4": "this Roads is honest."
                },
                {
                  "0": "23756",
                  "1": "2183",
                  "2": "23756",
                  "3": "2183",
                  "4": "heard about this on timba radio, decided to give it a try."
                },
                {
                  "0": "25821",
                  "1": "4351",
                  "2": "25821",
                  "3": "4351",
                  "4": "talk about lust!!"
                },
                {
                  "0": "26099",
                  "1": "427",
                  "2": "26099",
                  "3": "427",
                  "4": "My neighbor Albertina has one of these. She works as a gardener and she says it looks humongous."
                },
                {
                  "0": "26447",
                  "1": "3048",
                  "2": "26447",
                  "3": "3048",
                  "4": "The box this comes in is 3 yard by 6 light-year and weights 11 megaton!!"
                },
                {
                  "0": "27575",
                  "1": "2822",
                  "2": "27575",
                  "3": "2822",
                  "4": "heard about this on instrumental country radio, decided to give it a try."
                },
                {
                  "0": "27603",
                  "1": "2274",
                  "2": "27603",
                  "3": "2274",
                  "4": "It only works when I'm Juan de Nova Island."
                },
                {
                  "0": "29396",
                  "1": "4255",
                  "2": "29396",
                  "3": "4255",
                  "4": "This feed works so well. It imperfectly improves my baseball by a lot."
                },
                {
                  "0": "29507",
                  "1": "1183",
                  "2": "29507",
                  "3": "1183",
                  "4": "i use it never again when i'm in my station."
                },
                {
                  "0": "30316",
                  "1": "2638",
                  "2": "30316",
                  "3": "2638",
                  "4": "This Credit Card Account works so well. It delightedly improves my football by a lot."
                },
                {
                  "0": "31273",
                  "1": "3544",
                  "2": "31273",
                  "3": "3544",
                  "4": "I saw one of these in Barbados and I bought one."
                },
                {
                  "0": "31958",
                  "1": "4916",
                  "2": "31958",
                  "3": "4916",
                  "4": "This Analyst works too well. It buoyantly improves my football by a lot."
                },
                {
                  "0": "31992",
                  "1": "3988",
                  "2": "31992",
                  "3": "3988",
                  "4": "The box this comes in is 3 yard by 6 yard and weights 19 pound!!!"
                },
                {
                  "0": "32955",
                  "1": "2207",
                  "2": "32955",
                  "3": "2207",
                  "4": "I saw one of these in Finland and I bought one."
                },
                {
                  "0": "33017",
                  "1": "1727",
                  "2": "33017",
                  "3": "1727",
                  "4": "It only works when I'm Martinique."
                },
                {
                  "0": "36514",
                  "1": "3829",
                  "2": "36514",
                  "3": "3829",
                  "4": "I tried to impale it but got fudge all over it."
                },
                {
                  "0": "37235",
                  "1": "231",
                  "2": "37235",
                  "3": "231",
                  "4": "I tried to belly-flop it but got Turkish Delight all over it."
                },
                {
                  "0": "37312",
                  "1": "3313",
                  "2": "37312",
                  "3": "3313",
                  "4": "The box this comes in is 3 yard by 6 yard and weights 19 pound!!!"
                },
                {
                  "0": "37757",
                  "1": "3244",
                  "2": "37757",
                  "3": "3244",
                  "4": "It only works when I'm Argentina."
                },
                {
                  "0": "40962",
                  "1": "3106",
                  "2": "40962",
                  "3": "3106",
                  "4": "My neighbor Betha has one of these. She works as a teacher and she says it looks wide."
                },
                {
                  "0": "41345",
                  "1": "3993",
                  "2": "41345",
                  "3": "3993",
                  "4": "heard about this on folktronica radio, decided to give it a try."
                },
                {
                  "0": "41532",
                  "1": "3846",
                  "2": "41532",
                  "3": "3846",
                  "4": "It only works when I'm Heard Island and McDonald Islands."
                },
                {
                  "0": "41795",
                  "1": "4356",
                  "2": "41795",
                  "3": "4356",
                  "4": "It only works when I'm Cook Islands."
                },
                {
                  "0": "42107",
                  "1": "1349",
                  "2": "42107",
                  "3": "1349",
                  "4": "This matrix works certainly well. It perfectly improves my tennis by a lot."
                },
                {
                  "0": "42649",
                  "1": "58",
                  "2": "42649",
                  "3": "58",
                  "4": "I saw one of these in Vanuatu and I bought one."
                },
                {
                  "0": "46149",
                  "1": "4874",
                  "2": "46149",
                  "3": "4874",
                  "4": "heard about this on chicha radio, decided to give it a try."
                },
                {
                  "0": "46560",
                  "1": "3922",
                  "2": "46560",
                  "3": "3922",
                  "4": "My neighbor Isabela has one of these. She works as a taxidermist and she says it looks monochromatic."
                },
                {
                  "0": "46607",
                  "1": "1981",
                  "2": "46607",
                  "3": "1981",
                  "4": "I tried to attack it but got meatball all over it."
                },
                {
                  "0": "46766",
                  "1": "1921",
                  "2": "46766",
                  "3": "1921",
                  "4": "The box this comes in is 5 inch by 6 mile and weights 15 ton!!"
                },
                {
                  "0": "48484",
                  "1": "2348",
                  "2": "48484",
                  "3": "2348",
                  "4": "This strategic works so well. It delightedly improves my football by a lot."
                },
                {
                  "0": "48949",
                  "1": "4377",
                  "2": "48949",
                  "3": "4377",
                  "4": "I saw one of these in Libya and I bought one."
                },
                {
                  "0": "49013",
                  "1": "718",
                  "2": "49013",
                  "3": "718",
                  "4": "My neighbor Forest has one of these. She works as a gardener and she says it looks nude."
                },
                {
                  "0": "49113",
                  "1": "2364",
                  "2": "49113",
                  "3": "2364",
                  "4": "My macaroni penguin loves to play with it."
                },
                {
                  "0": "49354",
                  "1": "689",
                  "2": "49354",
                  "3": "689",
                  "4": "this fuchsia is dominant."
                },
                {
                  "0": "49952",
                  "1": "532",
                  "2": "49952",
                  "3": "532",
                  "4": "My beagle loves to play with it."
                },
                {
                  "0": "49973",
                  "1": "2682",
                  "2": "49973",
                  "3": "2682",
                  "4": "I tried to pepper it but got prune all over it."
                },
                {
                  "0": "50365",
                  "1": "2951",
                  "2": "50365",
                  "3": "2951",
                  "4": "heard about this on songo radio, decided to give it a try."
                },
                {
                  "0": "50481",
                  "1": "4322",
                  "2": "50481",
                  "3": "4322",
                  "4": "I tried to pepper it but got prune all over it."
                },
                {
                  "0": "53408",
                  "1": "3556",
                  "2": "53408",
                  "3": "3556",
                  "4": "My neighbor Montserrat has one of these. She works as a circus performer and she says it looks shriveled."
                },
                {
                  "0": "53694",
                  "1": "3345",
                  "2": "53694",
                  "3": "3345",
                  "4": "one of my hobbies is theater. and when i'm acting this works great."
                },
                {
                  "0": "53809",
                  "1": "2421",
                  "2": "53809",
                  "3": "2421",
                  "4": "works okay."
                },
                {
                  "0": "53823",
                  "1": "3964",
                  "2": "53823",
                  "3": "3964",
                  "4": "My co-worker Linnie has one of these. He says it looks wide."
                },
                {
                  "0": "54066",
                  "1": "2292",
                  "2": "54066",
                  "3": "2292",
                  "4": "My goldfinch loves to play with it."
                },
                {
                  "0": "55919",
                  "1": "2944",
                  "2": "55919",
                  "3": "2944",
                  "4": "My neighbor Aldona has one of these. She works as a butler and she says it looks humongous."
                },
                {
                  "0": "55967",
                  "1": "4869",
                  "2": "55967",
                  "3": "4869",
                  "4": "i use it until further notice when i'm in my nightclub."
                },
                {
                  "0": "56027",
                  "1": "4248",
                  "2": "56027",
                  "3": "4248",
                  "4": "one of my hobbies is poetry. and when i'm writing poems this works great."
                },
                {
                  "0": "56202",
                  "1": "2135",
                  "2": "56202",
                  "3": "2135",
                  "4": "My neighbor Julisa has one of these. She works as a bartender and she says it looks crooked."
                },
                {
                  "0": "56336",
                  "1": "3514",
                  "2": "56336",
                  "3": "3514",
                  "4": "The box this comes in is 5 kilometer by 5 inch and weights 13 kilogram!!!"
                },
                {
                  "0": "56597",
                  "1": "4472",
                  "2": "56597",
                  "3": "4472",
                  "4": "heard about this on mbube radio, decided to give it a try."
                },
                {
                  "0": "56618",
                  "1": "4723",
                  "2": "56618",
                  "3": "4723",
                  "4": "I saw one of these in Tanzania and I bought one."
                },
                {
                  "0": "56637",
                  "1": "3151",
                  "2": "56637",
                  "3": "3151",
                  "4": "My co-worker Erick has one of these. He says it looks fluffy."
                },
                {
                  "0": "56726",
                  "1": "1990",
                  "2": "56726",
                  "3": "1990",
                  "4": "My co-worker Matthew has one of these. He says it looks gigantic."
                },
                {
                  "0": "56811",
                  "1": "4749",
                  "2": "56811",
                  "3": "4749",
                  "4": "i use it for 10 weeks when i'm in my jail."
                },
                {
                  "0": "58720",
                  "1": "1649",
                  "2": "58720",
                  "3": "1649",
                  "4": "i use it every Tuesday when i'm in my homeless shelter."
                },
                {
                  "0": "58898",
                  "1": "2039",
                  "2": "58898",
                  "3": "2039",
                  "4": "This Incredible Granite Salad, does exactly what it's suppose to do."
                },
                {
                  "0": "59023",
                  "1": "300",
                  "2": "59023",
                  "3": "300",
                  "4": "My neighbor Montserrat has one of these. She works as a circus performer and she says it looks shriveled."
                },
                {
                  "0": "59167",
                  "1": "4928",
                  "2": "59167",
                  "3": "4928",
                  "4": "My neighbor Montserrat has one of these. She works as a circus performer and she says it looks shriveled."
                }
              ],
              "schema": [
                {
                  "key": "0",
                  "name": "userId",
                  "type": "bigint"
                },
                {
                  "key": "1",
                  "name": "productId",
                  "type": "bigint"
                },
                {
                  "key": "2",
                  "name": "userId",
                  "type": "bigint"
                },
                {
                  "key": "3",
                  "name": "productId",
                  "type": "bigint"
                },
                {
                  "key": "4",
                  "name": "reviewText",
                  "type": "string"
                }
              ],
              "truncated": false
            },
            "isSummary": false,
            "language": "scala"
          },
          "persist_state": {
            "view": {
              "type": "details",
              "tableOptions": {},
              "chartOptions": {
                "chartType": "bar",
                "aggregationType": "sum",
                "categoryFieldKeys": [
                  "1"
                ],
                "seriesFieldKeys": [
                  "0"
                ],
                "isStacked": false
              }
            }
          }
        }
      }
    }
  },
  "nbformat": 4,
  "nbformat_minor": 2
}